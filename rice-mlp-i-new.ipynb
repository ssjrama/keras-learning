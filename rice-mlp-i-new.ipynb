{
 "cells": [
  {
   "cell_type": "code",
   "execution_count": 2,
   "metadata": {},
   "outputs": [],
   "source": [
    "import numpy as np\n",
    "import pandas as pd\n",
    "import tensorflow as tf\n",
    "from tensorflow import keras\n",
    "# Keras\n",
    "from keras.models import Sequential\n",
    "from keras.layers import Dense\n",
    "from keras.layers import Dropout\n",
    "import keras.backend as K\n",
    "from keras.utils.np_utils import to_categorical\n",
    "# Train-Test\n",
    "from sklearn.model_selection import train_test_split\n",
    "# Scaling data\n",
    "from sklearn.preprocessing import StandardScaler\n",
    "# Classification Report\n",
    "from sklearn.metrics import classification_report"
   ]
  },
  {
   "cell_type": "code",
   "execution_count": 3,
   "metadata": {},
   "outputs": [],
   "source": [
    "df = pd.read_csv('rice.csv')"
   ]
  },
  {
   "cell_type": "code",
   "execution_count": 4,
   "metadata": {},
   "outputs": [],
   "source": [
    "# Remove Missing Values\n",
    "na = pd.notnull(df[\"Status\"])\n",
    "df = df[na]"
   ]
  },
  {
   "cell_type": "code",
   "execution_count": 5,
   "metadata": {},
   "outputs": [],
   "source": [
    "df = df[[\"Status\", \"Soil_Moisture\", \"Temperature\", \"Humidity\", \"Time\"]]\n"
   ]
  },
  {
   "cell_type": "code",
   "execution_count": 6,
   "metadata": {},
   "outputs": [],
   "source": [
    "from sklearn.preprocessing import StandardScaler\n",
    "x = df.drop(\"Status\", axis=1)\n",
    "sc = StandardScaler()\n",
    "x = pd.DataFrame(sc.fit_transform(x))\n",
    "y = df[\"Status\"]"
   ]
  },
  {
   "cell_type": "code",
   "execution_count": 7,
   "metadata": {},
   "outputs": [],
   "source": [
    "from sklearn.model_selection import train_test_split\n",
    "x_train, x_test, y_train, y_test = train_test_split(\n",
    "    x.values, y, test_size=0.2)"
   ]
  },
  {
   "cell_type": "code",
   "execution_count": 8,
   "metadata": {},
   "outputs": [],
   "source": [
    "# model = Sequential()\n",
    "# model.add(Dense(32, input_shape=(4,), activation=\"relu\"))\n",
    "# model.add(Dense(32, activation=\"relu\"))\n",
    "# model.add(Dropout(0.5))\n",
    "# model.add(Dense(1, activation=\"softmax\"))\n",
    "# model.compile(\"adam\", \"binary_crossentropy\", metrics=[\"accuracy\"])\n",
    "\n",
    "inputs = tf.keras.Input(shape=(4,))\n",
    "x = Dense(32, activation=\"relu\")(inputs)\n",
    "x = Dense(32, activation=\"relu\")(inputs)\n",
    "x = Dropout(0.5)(x)\n",
    "outputs = Dense(1, activation=\"relu\")(x)\n",
    "model = tf.keras.Model(inputs=inputs, outputs=outputs)\n",
    "model.compile(\"adam\", \"binary_crossentropy\", metrics=[\"accuracy\"])\n"
   ]
  },
  {
   "cell_type": "code",
   "execution_count": 9,
   "metadata": {},
   "outputs": [
    {
     "name": "stdout",
     "output_type": "stream",
     "text": [
      "Model: \"model\"\n",
      "_________________________________________________________________\n",
      " Layer (type)                Output Shape              Param #   \n",
      "=================================================================\n",
      " input_1 (InputLayer)        [(None, 4)]               0         \n",
      "                                                                 \n",
      " dense_1 (Dense)             (None, 32)                160       \n",
      "                                                                 \n",
      " dropout (Dropout)           (None, 32)                0         \n",
      "                                                                 \n",
      " dense_2 (Dense)             (None, 1)                 33        \n",
      "                                                                 \n",
      "=================================================================\n",
      "Total params: 193\n",
      "Trainable params: 193\n",
      "Non-trainable params: 0\n",
      "_________________________________________________________________\n",
      "Epoch 1/30\n",
      "800/800 [==============================] - 4s 4ms/step - loss: 1.7053 - accuracy: 0.5928\n",
      "Epoch 2/30\n",
      "800/800 [==============================] - 3s 4ms/step - loss: 1.0977 - accuracy: 0.6053\n",
      "Epoch 3/30\n",
      "800/800 [==============================] - 4s 4ms/step - loss: 0.9001 - accuracy: 0.6228\n",
      "Epoch 4/30\n",
      "800/800 [==============================] - 4s 5ms/step - loss: 0.7710 - accuracy: 0.6352\n",
      "Epoch 5/30\n",
      "800/800 [==============================] - 3s 3ms/step - loss: 0.7210 - accuracy: 0.6250\n",
      "Epoch 6/30\n",
      "800/800 [==============================] - 3s 3ms/step - loss: 0.6889 - accuracy: 0.6500\n",
      "Epoch 7/30\n",
      "800/800 [==============================] - 3s 4ms/step - loss: 0.6561 - accuracy: 0.6655\n",
      "Epoch 8/30\n",
      "800/800 [==============================] - 3s 4ms/step - loss: 0.6402 - accuracy: 0.6771\n",
      "Epoch 9/30\n",
      "800/800 [==============================] - 3s 4ms/step - loss: 0.6109 - accuracy: 0.6862\n",
      "Epoch 10/30\n",
      "800/800 [==============================] - 3s 4ms/step - loss: 0.5885 - accuracy: 0.6927\n",
      "Epoch 11/30\n",
      "800/800 [==============================] - 3s 4ms/step - loss: 0.5674 - accuracy: 0.7136\n",
      "Epoch 12/30\n",
      "800/800 [==============================] - 3s 4ms/step - loss: 0.5458 - accuracy: 0.7276\n",
      "Epoch 13/30\n",
      "800/800 [==============================] - 3s 4ms/step - loss: 0.5222 - accuracy: 0.7419\n",
      "Epoch 14/30\n",
      "800/800 [==============================] - 3s 3ms/step - loss: 0.5179 - accuracy: 0.7438\n",
      "Epoch 15/30\n",
      "800/800 [==============================] - 3s 4ms/step - loss: 0.5029 - accuracy: 0.7495\n",
      "Epoch 16/30\n",
      "800/800 [==============================] - 3s 4ms/step - loss: 0.4882 - accuracy: 0.7717\n",
      "Epoch 17/30\n",
      "800/800 [==============================] - 3s 4ms/step - loss: 0.4751 - accuracy: 0.7808\n",
      "Epoch 18/30\n",
      "800/800 [==============================] - 3s 4ms/step - loss: 0.4824 - accuracy: 0.7869\n",
      "Epoch 19/30\n",
      "800/800 [==============================] - 3s 4ms/step - loss: 0.4696 - accuracy: 0.7823\n",
      "Epoch 20/30\n",
      "800/800 [==============================] - 3s 3ms/step - loss: 0.4547 - accuracy: 0.7859\n",
      "Epoch 21/30\n",
      "800/800 [==============================] - 3s 3ms/step - loss: 0.4450 - accuracy: 0.7976\n",
      "Epoch 22/30\n",
      "800/800 [==============================] - 2s 3ms/step - loss: 0.4427 - accuracy: 0.7896\n",
      "Epoch 23/30\n",
      "800/800 [==============================] - 3s 4ms/step - loss: 0.4363 - accuracy: 0.8031\n",
      "Epoch 24/30\n",
      "800/800 [==============================] - 3s 4ms/step - loss: 0.4376 - accuracy: 0.8028\n",
      "Epoch 25/30\n",
      "800/800 [==============================] - 2s 3ms/step - loss: 0.4242 - accuracy: 0.8099\n",
      "Epoch 26/30\n",
      "800/800 [==============================] - 2s 3ms/step - loss: 0.4160 - accuracy: 0.8172\n",
      "Epoch 27/30\n",
      "800/800 [==============================] - 3s 3ms/step - loss: 0.4126 - accuracy: 0.8196\n",
      "Epoch 28/30\n",
      "800/800 [==============================] - 2s 3ms/step - loss: 0.4158 - accuracy: 0.8215\n",
      "Epoch 29/30\n",
      "800/800 [==============================] - 2s 3ms/step - loss: 0.4065 - accuracy: 0.8261\n",
      "Epoch 30/30\n",
      "800/800 [==============================] - 2s 3ms/step - loss: 0.4073 - accuracy: 0.8264\n"
     ]
    },
    {
     "data": {
      "text/plain": [
       "<keras.callbacks.History at 0x15ec9f40b80>"
      ]
     },
     "execution_count": 9,
     "metadata": {},
     "output_type": "execute_result"
    }
   ],
   "source": [
    "model.summary()\n",
    "model.fit(x_train, y_train, epochs=30, batch_size=100)"
   ]
  },
  {
   "cell_type": "code",
   "execution_count": 16,
   "metadata": {},
   "outputs": [
    {
     "data": {
      "text/plain": [
       "0.11355762878445608"
      ]
     },
     "execution_count": 16,
     "metadata": {},
     "output_type": "execute_result"
    }
   ],
   "source": [
    "from sklearn.metrics import mean_squared_error\n",
    "y_pred = model.predict(x_test)\n",
    "mean_squared_error(y_test, y_pred)"
   ]
  }
 ],
 "metadata": {
  "kernelspec": {
   "display_name": "Python 3",
   "language": "python",
   "name": "python3"
  },
  "language_info": {
   "codemirror_mode": {
    "name": "ipython",
    "version": 3
   },
   "file_extension": ".py",
   "mimetype": "text/x-python",
   "name": "python",
   "nbconvert_exporter": "python",
   "pygments_lexer": "ipython3",
   "version": "3.10.4"
  },
  "vscode": {
   "interpreter": {
    "hash": "fbc768028c3e6ead51d9a200ddcb2ec858ae62844dcd1994729a8279be9b48f2"
   }
  }
 },
 "nbformat": 4,
 "nbformat_minor": 4
}
