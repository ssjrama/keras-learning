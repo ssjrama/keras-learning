{
 "cells": [
  {
   "cell_type": "code",
   "execution_count": 1,
   "metadata": {},
   "outputs": [],
   "source": [
    "import numpy as np\n",
    "import pandas as pd\n",
    "import tensorflow as tf\n",
    "from tensorflow import keras\n",
    "# Keras\n",
    "from keras.models import Sequential\n",
    "from keras.layers import Dense\n",
    "from keras.layers import Dropout\n",
    "import keras.backend as K\n",
    "from keras.utils.np_utils import to_categorical\n",
    "# Train-Test\n",
    "from sklearn.model_selection import train_test_split\n",
    "# Scaling data\n",
    "from sklearn.preprocessing import StandardScaler\n",
    "# Classification Report\n",
    "from sklearn.metrics import classification_report"
   ]
  },
  {
   "cell_type": "code",
   "execution_count": 2,
   "metadata": {},
   "outputs": [],
   "source": [
    "df = pd.read_csv('rice.csv')"
   ]
  },
  {
   "cell_type": "code",
   "execution_count": 3,
   "metadata": {},
   "outputs": [],
   "source": [
    "# Remove Missing Values\n",
    "na = pd.notnull(df[\"Status\"])\n",
    "df = df[na]"
   ]
  },
  {
   "cell_type": "code",
   "execution_count": 4,
   "metadata": {},
   "outputs": [],
   "source": [
    "df = df[[\"Status\", \"Soil_Moisture\", \"Temperature\", \"Humidity\", \"Time\"]]\n"
   ]
  },
  {
   "cell_type": "code",
   "execution_count": 5,
   "metadata": {},
   "outputs": [],
   "source": [
    "from sklearn.preprocessing import StandardScaler\n",
    "x = df.drop(\"Status\", axis=1)\n",
    "sc = StandardScaler()\n",
    "x = pd.DataFrame(sc.fit_transform(x))\n",
    "y = df[\"Status\"]"
   ]
  },
  {
   "cell_type": "code",
   "execution_count": 6,
   "metadata": {},
   "outputs": [],
   "source": [
    "from sklearn.model_selection import train_test_split\n",
    "x_train, x_test, y_train, y_test = train_test_split(\n",
    "    x.values, y, test_size=0.2)"
   ]
  },
  {
   "cell_type": "code",
   "execution_count": 7,
   "metadata": {},
   "outputs": [],
   "source": [
    "inputs = tf.keras.Input(shape=(4,))\n",
    "x = Dense(32, activation=\"relu\")(inputs)\n",
    "x = Dense(32, activation=\"relu\")(inputs)\n",
    "x = Dropout(0.5)(x)\n",
    "outputs = Dense(1, activation=\"relu\")(x)\n",
    "model = tf.keras.Model(inputs=inputs, outputs=outputs)\n",
    "model.compile(\"adam\", \"binary_crossentropy\", metrics=[\"accuracy\"])\n"
   ]
  },
  {
   "cell_type": "code",
   "execution_count": 8,
   "metadata": {},
   "outputs": [
    {
     "name": "stdout",
     "output_type": "stream",
     "text": [
      "Model: \"model\"\n",
      "_________________________________________________________________\n",
      " Layer (type)                Output Shape              Param #   \n",
      "=================================================================\n",
      " input_1 (InputLayer)        [(None, 4)]               0         \n",
      "                                                                 \n",
      " dense_1 (Dense)             (None, 32)                160       \n",
      "                                                                 \n",
      " dropout (Dropout)           (None, 32)                0         \n",
      "                                                                 \n",
      " dense_2 (Dense)             (None, 1)                 33        \n",
      "                                                                 \n",
      "=================================================================\n",
      "Total params: 193\n",
      "Trainable params: 193\n",
      "Non-trainable params: 0\n",
      "_________________________________________________________________\n",
      "Epoch 1/30\n",
      "800/800 [==============================] - 3s 2ms/step - loss: 2.2815 - accuracy: 0.5806\n",
      "Epoch 2/30\n",
      "800/800 [==============================] - 2s 3ms/step - loss: 1.1681 - accuracy: 0.6479\n",
      "Epoch 3/30\n",
      "800/800 [==============================] - 2s 3ms/step - loss: 0.8297 - accuracy: 0.6505\n",
      "Epoch 4/30\n",
      "800/800 [==============================] - 2s 2ms/step - loss: 0.6826 - accuracy: 0.6720\n",
      "Epoch 5/30\n",
      "800/800 [==============================] - 2s 3ms/step - loss: 0.6138 - accuracy: 0.6921\n",
      "Epoch 6/30\n",
      "800/800 [==============================] - 3s 3ms/step - loss: 0.5690 - accuracy: 0.7068\n",
      "Epoch 7/30\n",
      "800/800 [==============================] - 2s 2ms/step - loss: 0.5359 - accuracy: 0.7387\n",
      "Epoch 8/30\n",
      "800/800 [==============================] - 2s 3ms/step - loss: 0.5130 - accuracy: 0.7569\n",
      "Epoch 9/30\n",
      "800/800 [==============================] - 3s 3ms/step - loss: 0.4962 - accuracy: 0.7689\n",
      "Epoch 10/30\n",
      "800/800 [==============================] - 3s 4ms/step - loss: 0.4669 - accuracy: 0.7865\n",
      "Epoch 11/30\n",
      "800/800 [==============================] - 2s 3ms/step - loss: 0.4501 - accuracy: 0.7996\n",
      "Epoch 12/30\n",
      "800/800 [==============================] - 2s 3ms/step - loss: 0.4369 - accuracy: 0.8114\n",
      "Epoch 13/30\n",
      "800/800 [==============================] - 2s 3ms/step - loss: 0.4253 - accuracy: 0.8153\n",
      "Epoch 14/30\n",
      "800/800 [==============================] - 2s 3ms/step - loss: 0.4177 - accuracy: 0.8158\n",
      "Epoch 15/30\n",
      "800/800 [==============================] - 2s 3ms/step - loss: 0.4062 - accuracy: 0.8175\n",
      "Epoch 16/30\n",
      "800/800 [==============================] - 2s 3ms/step - loss: 0.4002 - accuracy: 0.8192\n",
      "Epoch 17/30\n",
      "800/800 [==============================] - 2s 3ms/step - loss: 0.3952 - accuracy: 0.8191\n",
      "Epoch 18/30\n",
      "800/800 [==============================] - 2s 3ms/step - loss: 0.3917 - accuracy: 0.8213\n",
      "Epoch 19/30\n",
      "800/800 [==============================] - 2s 3ms/step - loss: 0.3860 - accuracy: 0.8202\n",
      "Epoch 20/30\n",
      "800/800 [==============================] - 2s 3ms/step - loss: 0.3957 - accuracy: 0.8179\n",
      "Epoch 21/30\n",
      "800/800 [==============================] - 2s 3ms/step - loss: 0.3898 - accuracy: 0.8221\n",
      "Epoch 22/30\n",
      "800/800 [==============================] - 2s 3ms/step - loss: 0.3769 - accuracy: 0.8224\n",
      "Epoch 23/30\n",
      "800/800 [==============================] - 2s 3ms/step - loss: 0.3802 - accuracy: 0.8260\n",
      "Epoch 24/30\n",
      "800/800 [==============================] - 2s 3ms/step - loss: 0.3776 - accuracy: 0.8255\n",
      "Epoch 25/30\n",
      "800/800 [==============================] - 2s 3ms/step - loss: 0.3797 - accuracy: 0.8258\n",
      "Epoch 26/30\n",
      "800/800 [==============================] - 2s 3ms/step - loss: 0.3804 - accuracy: 0.8276\n",
      "Epoch 27/30\n",
      "800/800 [==============================] - 2s 3ms/step - loss: 0.3971 - accuracy: 0.8210\n",
      "Epoch 28/30\n",
      "800/800 [==============================] - 2s 3ms/step - loss: 0.3894 - accuracy: 0.8227\n",
      "Epoch 29/30\n",
      "800/800 [==============================] - 2s 3ms/step - loss: 0.3880 - accuracy: 0.8190\n",
      "Epoch 30/30\n",
      "800/800 [==============================] - 2s 3ms/step - loss: 0.3842 - accuracy: 0.8174\n"
     ]
    },
    {
     "data": {
      "text/plain": [
       "<keras.callbacks.History at 0x164e5b85060>"
      ]
     },
     "execution_count": 8,
     "metadata": {},
     "output_type": "execute_result"
    }
   ],
   "source": [
    "model.summary()\n",
    "model.fit(x_train, y_train, epochs=30, batch_size=100)"
   ]
  },
  {
   "cell_type": "code",
   "execution_count": 9,
   "metadata": {},
   "outputs": [],
   "source": [
    "import itertools\n",
    "import matplotlib.pyplot as plt\n",
    "def plot_confusion_matrix(cm, classes,\n",
    "                          normalize=False,\n",
    "                          title='Confusion matrix',\n",
    "                          cmap=plt.cm.Blues):\n",
    "    \"\"\"\n",
    "    This function prints and plots the confusion matrix.\n",
    "    Normalization can be applied by setting `normalize=True`.\n",
    "    \"\"\"\n",
    "    plt.imshow(cm, interpolation='nearest', cmap=cmap)\n",
    "    plt.title(title)\n",
    "    plt.colorbar()\n",
    "    tick_marks = np.arange(len(classes))\n",
    "    plt.xticks(tick_marks, classes, rotation=45)\n",
    "    plt.yticks(tick_marks, classes)\n",
    "\n",
    "    thresh = cm.max() / 2.\n",
    "    for i, j in itertools.product(range(cm.shape[0]), range(cm.shape[1])):\n",
    "        plt.text(j, i, cm[i, j],\n",
    "                 horizontalalignment=\"center\",\n",
    "                 color=\"white\" if cm[i, j] > thresh else \"black\")\n",
    "\n",
    "    plt.tight_layout()\n",
    "    plt.ylabel('True label')\n",
    "    plt.xlabel('Predicted label')\n"
   ]
  },
  {
   "cell_type": "code",
   "execution_count": 10,
   "metadata": {},
   "outputs": [
    {
     "name": "stdout",
     "output_type": "stream",
     "text": [
      "Hasil Klasifikasi: \n",
      "               precision    recall  f1-score   support\n",
      "\n",
      "           0       0.89      0.75      0.82      9360\n",
      "           1       0.81      0.92      0.86     10640\n",
      "\n",
      "    accuracy                           0.84     20000\n",
      "   macro avg       0.85      0.84      0.84     20000\n",
      "weighted avg       0.85      0.84      0.84     20000\n",
      "\n"
     ]
    },
    {
     "data": {
      "text/plain": [
       "array([[7056, 2304],\n",
       "       [ 849, 9791]], dtype=int64)"
      ]
     },
     "execution_count": 10,
     "metadata": {},
     "output_type": "execute_result"
    }
   ],
   "source": [
    "from sklearn.metrics import confusion_matrix\n",
    "from sklearn.metrics import classification_report\n",
    "y_pred = model.predict(x_test)\n",
    "y_pred_new = [int(i > .5) for i in y_pred]\n",
    "print(\"Hasil Klasifikasi: \\n\", classification_report(\n",
    "    y_test, y_pred_new, zero_division=1))\n",
    "confusion_matrix(y_test, y_pred_new)"
   ]
  },
  {
   "cell_type": "code",
   "execution_count": 11,
   "metadata": {},
   "outputs": [
    {
     "data": {
      "image/png": "[encoded data removed]",
      "text/plain": [
       "<Figure size 432x288 with 2 Axes>"
      ]
     },
     "metadata": {
      "needs_background": "light"
     },
     "output_type": "display_data"
    }
   ],
   "source": [
    "cm = confusion_matrix(y_test, y_pred_new)\n",
    "cm_plot_labels = ['Negatif', 'Positif']\n",
    "plot_confusion_matrix(cm=cm, classes=cm_plot_labels, title='Confusion Matrix')"
   ]
  },
  {
   "cell_type": "code",
   "execution_count": 12,
   "metadata": {},
   "outputs": [],
   "source": [
    "#model.save('model.h5')\n"
   ]
  }
 ],
 "metadata": {
  "kernelspec": {
   "display_name": "Python 3",
   "language": "python",
   "name": "python3"
  },
  "language_info": {
   "codemirror_mode": {
    "name": "ipython",
    "version": 3
   },
   "file_extension": ".py",
   "mimetype": "text/x-python",
   "name": "python",
   "nbconvert_exporter": "python",
   "pygments_lexer": "ipython3",
   "version": "3.10.4"
  },
  "vscode": {
   "interpreter": {
    "hash": "fbc768028c3e6ead51d9a200ddcb2ec858ae62844dcd1994729a8279be9b48f2"
   }
  }
 },
 "nbformat": 4,
 "nbformat_minor": 4
}
