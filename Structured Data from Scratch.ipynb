{
 "cells": [
  {
   "cell_type": "code",
   "execution_count": 1,
   "metadata": {},
   "outputs": [],
   "source": [
    "import tensorflow as tf\n",
    "import numpy as np\n",
    "import pandas as pd\n",
    "from tensorflow import keras\n",
    "from tensorflow.keras import layers"
   ]
  },
  {
   "cell_type": "code",
   "execution_count": 2,
   "metadata": {},
   "outputs": [],
   "source": [
    "#file_url = \"http://storage.googleapis.com/download.tensorflow.org/data/heart.csv\"\n",
    "dataframe = pd.read_csv('rice.csv')"
   ]
  },
  {
   "cell_type": "code",
   "execution_count": 3,
   "metadata": {},
   "outputs": [
    {
     "data": {
      "text/plain": [
       "(100000, 5)"
      ]
     },
     "execution_count": 3,
     "metadata": {},
     "output_type": "execute_result"
    }
   ],
   "source": [
    "dataframe.shape"
   ]
  },
  {
   "cell_type": "code",
   "execution_count": 4,
   "metadata": {
    "scrolled": true
   },
   "outputs": [
    {
     "data": {
      "text/html": [
       "<div>\n",
       "<style scoped>\n",
       "    .dataframe tbody tr th:only-of-type {\n",
       "        vertical-align: middle;\n",
       "    }\n",
       "\n",
       "    .dataframe tbody tr th {\n",
       "        vertical-align: top;\n",
       "    }\n",
       "\n",
       "    .dataframe thead th {\n",
       "        text-align: right;\n",
       "    }\n",
       "</style>\n",
       "<table border=\"1\" class=\"dataframe\">\n",
       "  <thead>\n",
       "    <tr style=\"text-align: right;\">\n",
       "      <th></th>\n",
       "      <th>Soil_Moisture</th>\n",
       "      <th>Temperature</th>\n",
       "      <th>Humidity</th>\n",
       "      <th>Time</th>\n",
       "      <th>Status</th>\n",
       "    </tr>\n",
       "  </thead>\n",
       "  <tbody>\n",
       "    <tr>\n",
       "      <th>0</th>\n",
       "      <td>54</td>\n",
       "      <td>22</td>\n",
       "      <td>70</td>\n",
       "      <td>21</td>\n",
       "      <td>1</td>\n",
       "    </tr>\n",
       "    <tr>\n",
       "      <th>1</th>\n",
       "      <td>12</td>\n",
       "      <td>20</td>\n",
       "      <td>40</td>\n",
       "      <td>104</td>\n",
       "      <td>0</td>\n",
       "    </tr>\n",
       "    <tr>\n",
       "      <th>2</th>\n",
       "      <td>34</td>\n",
       "      <td>26</td>\n",
       "      <td>35</td>\n",
       "      <td>62</td>\n",
       "      <td>1</td>\n",
       "    </tr>\n",
       "    <tr>\n",
       "      <th>3</th>\n",
       "      <td>7</td>\n",
       "      <td>44</td>\n",
       "      <td>44</td>\n",
       "      <td>93</td>\n",
       "      <td>0</td>\n",
       "    </tr>\n",
       "    <tr>\n",
       "      <th>4</th>\n",
       "      <td>50</td>\n",
       "      <td>38</td>\n",
       "      <td>23</td>\n",
       "      <td>92</td>\n",
       "      <td>0</td>\n",
       "    </tr>\n",
       "  </tbody>\n",
       "</table>\n",
       "</div>"
      ],
      "text/plain": [
       "   Soil_Moisture  Temperature  Humidity  Time  Status\n",
       "0             54           22        70    21       1\n",
       "1             12           20        40   104       0\n",
       "2             34           26        35    62       1\n",
       "3              7           44        44    93       0\n",
       "4             50           38        23    92       0"
      ]
     },
     "execution_count": 4,
     "metadata": {},
     "output_type": "execute_result"
    }
   ],
   "source": [
    "dataframe.head()"
   ]
  },
  {
   "cell_type": "code",
   "execution_count": 5,
   "metadata": {},
   "outputs": [
    {
     "name": "stdout",
     "output_type": "stream",
     "text": [
      "Using 80000 samples for training and 20000 for validation\n"
     ]
    }
   ],
   "source": [
    "val_dataframe = dataframe.sample(frac=0.2, random_state=1337)\n",
    "train_dataframe = dataframe.drop(val_dataframe.index)\n",
    "\n",
    "print(\n",
    "    \"Using %d samples for training and %d for validation\"\n",
    "    % (len(train_dataframe), len(val_dataframe))\n",
    ")"
   ]
  },
  {
   "cell_type": "code",
   "execution_count": 7,
   "metadata": {},
   "outputs": [],
   "source": [
    "def dataframe_to_dataset(dataframe):\n",
    "    dataframe = dataframe.copy()\n",
    "    labels = dataframe.pop(\"Status\")\n",
    "    ds = tf.data.Dataset.from_tensor_slices((dict(dataframe), labels))\n",
    "    ds = ds.shuffle(buffer_size=len(dataframe))\n",
    "    return ds\n",
    "\n",
    "\n",
    "train_ds = dataframe_to_dataset(train_dataframe)\n",
    "val_ds = dataframe_to_dataset(val_dataframe)"
   ]
  },
  {
   "cell_type": "code",
   "execution_count": 8,
   "metadata": {},
   "outputs": [
    {
     "name": "stdout",
     "output_type": "stream",
     "text": [
      "Input: {'Soil_Moisture': <tf.Tensor: shape=(), dtype=int64, numpy=64>, 'Temperature': <tf.Tensor: shape=(), dtype=int64, numpy=44>, 'Humidity': <tf.Tensor: shape=(), dtype=int64, numpy=51>, 'Time': <tf.Tensor: shape=(), dtype=int64, numpy=22>}\n",
      "Target: tf.Tensor(0, shape=(), dtype=int64)\n"
     ]
    }
   ],
   "source": [
    "for x, y in train_ds.take(1):\n",
    "    print(\"Input:\", x)\n",
    "    print(\"Target:\", y)"
   ]
  },
  {
   "cell_type": "code",
   "execution_count": 9,
   "metadata": {},
   "outputs": [],
   "source": [
    "train_ds = train_ds.batch(100)\n",
    "val_ds = val_ds.batch(100)"
   ]
  },
  {
   "cell_type": "code",
   "execution_count": 10,
   "metadata": {},
   "outputs": [],
   "source": [
    "#from tensorflow.keras.layers import IntegerLookup\n",
    "#from tensorflow.keras.layers import Normalization\n",
    "#from tensorflow.keras.layers import StringLookup\n",
    "\n",
    "\n",
    "def encode_numerical_feature(feature, name, dataset):\n",
    "    # Create a Normalization layer for our feature\n",
    "    normalizer = layers.Normalization()\n",
    "\n",
    "    # Prepare a Dataset that only yields our feature\n",
    "    feature_ds = dataset.map(lambda x, y: x[name])\n",
    "    feature_ds = feature_ds.map(lambda x: tf.expand_dims(x, -1))\n",
    "\n",
    "    # Learn the statistics of the data\n",
    "    normalizer.adapt(feature_ds)\n",
    "\n",
    "    # Normalize the input feature\n",
    "    encoded_feature = normalizer(feature)\n",
    "    return encoded_feature\n",
    "\n",
    "\n",
    "def encode_categorical_feature(feature, name, dataset, is_string):\n",
    "    lookup_class = layers.StringLookup if is_string else layers.IntegerLookup\n",
    "    # Create a lookup layer which will turn strings into integer indices\n",
    "    lookup = lookup_class(output_mode=\"binary\")\n",
    "\n",
    "    # Prepare a Dataset that only yields our feature\n",
    "    feature_ds = dataset.map(lambda x, y: x[name])\n",
    "    feature_ds = feature_ds.map(lambda x: tf.expand_dims(x, -1))\n",
    "\n",
    "    # Learn the set of possible string values and assign them a fixed integer index\n",
    "    lookup.adapt(feature_ds)\n",
    "\n",
    "    # Turn the string input into integer indices\n",
    "    encoded_feature = lookup(feature)\n",
    "    return encoded_feature"
   ]
  },
  {
   "cell_type": "code",
   "execution_count": 11,
   "metadata": {},
   "outputs": [],
   "source": [
    "# Categorical features encoded as integers\n",
    "# sex = keras.Input(shape=(1,), name=\"sex\", dtype=\"int64\")\n",
    "# cp = keras.Input(shape=(1,), name=\"cp\", dtype=\"int64\")\n",
    "# fbs = keras.Input(shape=(1,), name=\"fbs\", dtype=\"int64\")\n",
    "# restecg = keras.Input(shape=(1,), name=\"restecg\", dtype=\"int64\")\n",
    "# exang = keras.Input(shape=(1,), name=\"exang\", dtype=\"int64\")\n",
    "# ca = keras.Input(shape=(1,), name=\"ca\", dtype=\"int64\")\n",
    "\n",
    "# Categorical feature encoded as string\n",
    "# thal = keras.Input(shape=(1,), name=\"thal\", dtype=\"string\")\n",
    "\n",
    "# Numerical features\n",
    "# age = keras.Input(shape=(1,), name=\"age\")\n",
    "# trestbps = keras.Input(shape=(1,), name=\"trestbps\")\n",
    "# chol = keras.Input(shape=(1,), name=\"chol\")\n",
    "# thalach = keras.Input(shape=(1,), name=\"thalach\")\n",
    "# oldpeak = keras.Input(shape=(1,), name=\"oldpeak\")\n",
    "# slope = keras.Input(shape=(1,), name=\"slope\")\n",
    "\n",
    "Soil_Moisture = keras.Input(shape=(1,),name=\"Soil_Moisture\")\n",
    "Temperature = keras.Input(shape=(1,),name=\"Temperature\")\n",
    "Humidity = keras.Input(shape=(1,),name=\"Humidity\")\n",
    "Time = keras.Input(shape=(1,),name=\"Time\")\n",
    "\n",
    "all_inputs = [\n",
    "   Soil_Moisture,\n",
    "   Temperature,\n",
    "   Humidity,\n",
    "   Time\n",
    "]\n",
    "\n",
    "# Integer categorical features\n",
    "# sex_encoded = encode_categorical_feature(sex, \"sex\", train_ds, False)\n",
    "# cp_encoded = encode_categorical_feature(cp, \"cp\", train_ds, False)\n",
    "# fbs_encoded = encode_categorical_feature(fbs, \"fbs\", train_ds, False)\n",
    "# restecg_encoded = encode_categorical_feature(restecg, \"restecg\", train_ds, False)\n",
    "# exang_encoded = encode_categorical_feature(exang, \"exang\", train_ds, False)\n",
    "# ca_encoded = encode_categorical_feature(ca, \"ca\", train_ds, False)\n",
    "\n",
    "# String categorical features\n",
    "# thal_encoded = encode_categorical_feature(thal, \"thal\", train_ds, True)\n",
    "\n",
    "# Numerical features\n",
    "# age_encoded = encode_numerical_feature(age, \"age\", train_ds)\n",
    "# trestbps_encoded = encode_numerical_feature(trestbps, \"trestbps\", train_ds)\n",
    "# chol_encoded = encode_numerical_feature(chol, \"chol\", train_ds)\n",
    "# thalach_encoded = encode_numerical_feature(thalach, \"thalach\", train_ds)\n",
    "# oldpeak_encoded = encode_numerical_feature(oldpeak, \"oldpeak\", train_ds)\n",
    "# slope_encoded = encode_numerical_feature(slope, \"slope\", train_ds)\n",
    "\n",
    "Soil_Moisture_encoded = encode_numerical_feature(\n",
    "    Soil_Moisture, \"Soil_Moisture\", train_ds)\n",
    "Temperature_encoded = encode_numerical_feature(\n",
    "    Temperature, \"Temperature\", train_ds)\n",
    "Humidity_encoded = encode_numerical_feature(\n",
    "    Humidity, \"Humidity\", train_ds)\n",
    "Time_encoded = encode_numerical_feature(\n",
    "    Time, \"Time\", train_ds)\n",
    "\n",
    "all_features = layers.concatenate(\n",
    "    [\n",
    "        Soil_Moisture_encoded,\n",
    "        Temperature_encoded,\n",
    "        Humidity_encoded,\n",
    "        Time_encoded,\n",
    "    ]\n",
    ")\n",
    "x = layers.Dense(32, activation=\"relu\")(all_features)\n",
    "x = layers.Dropout(0.5)(x)\n",
    "output = layers.Dense(1, activation=\"relu\")(x)\n",
    "model = keras.Model(all_inputs, output)\n",
    "model.compile(\"adam\", \"binary_crossentropy\", metrics=[\"accuracy\"])"
   ]
  },
  {
   "cell_type": "code",
   "execution_count": 12,
   "metadata": {},
   "outputs": [
    {
     "data": {
      "image/png": "[encoded data removed]",
      "text/plain": [
       "<IPython.core.display.Image object>"
      ]
     },
     "execution_count": 12,
     "metadata": {},
     "output_type": "execute_result"
    }
   ],
   "source": [
    "# `rankdir='LR'` is to make the graph horizontal.\n",
    "keras.utils.plot_model(model, show_shapes=True, rankdir=\"LR\")"
   ]
  },
  {
   "cell_type": "code",
   "execution_count": 13,
   "metadata": {},
   "outputs": [
    {
     "name": "stdout",
     "output_type": "stream",
     "text": [
      "Epoch 1/50\n",
      "800/800 [==============================] - 5s 4ms/step - loss: 2.0886 - accuracy: 0.5850 - val_loss: 0.7110 - val_accuracy: 0.7150\n",
      "Epoch 2/50\n",
      "800/800 [==============================] - 3s 4ms/step - loss: 1.0970 - accuracy: 0.6417 - val_loss: 0.5295 - val_accuracy: 0.7334\n",
      "Epoch 3/50\n",
      "800/800 [==============================] - 3s 4ms/step - loss: 0.7795 - accuracy: 0.6730 - val_loss: 0.5304 - val_accuracy: 0.7132\n",
      "Epoch 4/50\n",
      "800/800 [==============================] - 4s 4ms/step - loss: 0.6430 - accuracy: 0.6762 - val_loss: 0.5335 - val_accuracy: 0.7377\n",
      "Epoch 5/50\n",
      "800/800 [==============================] - 3s 4ms/step - loss: 0.6078 - accuracy: 0.6942 - val_loss: 0.4900 - val_accuracy: 0.7527\n",
      "Epoch 6/50\n",
      "800/800 [==============================] - 4s 4ms/step - loss: 0.5767 - accuracy: 0.7067 - val_loss: 0.4919 - val_accuracy: 0.7588\n",
      "Epoch 7/50\n",
      "800/800 [==============================] - 3s 4ms/step - loss: 0.5486 - accuracy: 0.7212 - val_loss: 0.4469 - val_accuracy: 0.7777\n",
      "Epoch 8/50\n",
      "800/800 [==============================] - 4s 4ms/step - loss: 0.5244 - accuracy: 0.7440 - val_loss: 0.4390 - val_accuracy: 0.7790\n",
      "Epoch 9/50\n",
      "800/800 [==============================] - 4s 4ms/step - loss: 0.5124 - accuracy: 0.7404 - val_loss: 0.4274 - val_accuracy: 0.8015\n",
      "Epoch 10/50\n",
      "800/800 [==============================] - 3s 4ms/step - loss: 0.4951 - accuracy: 0.7407 - val_loss: 0.4272 - val_accuracy: 0.8000\n",
      "Epoch 11/50\n",
      "800/800 [==============================] - 3s 4ms/step - loss: 0.4802 - accuracy: 0.7721 - val_loss: 0.3969 - val_accuracy: 0.8187\n",
      "Epoch 12/50\n",
      "800/800 [==============================] - 3s 4ms/step - loss: 0.4593 - accuracy: 0.7880 - val_loss: 0.3857 - val_accuracy: 0.8260\n",
      "Epoch 13/50\n",
      "800/800 [==============================] - 3s 4ms/step - loss: 0.4482 - accuracy: 0.7935 - val_loss: 0.3953 - val_accuracy: 0.8195\n",
      "Epoch 14/50\n",
      "800/800 [==============================] - 4s 4ms/step - loss: 0.4381 - accuracy: 0.8000 - val_loss: 0.3761 - val_accuracy: 0.8381\n",
      "Epoch 15/50\n",
      "800/800 [==============================] - 3s 4ms/step - loss: 0.4273 - accuracy: 0.8099 - val_loss: 0.3670 - val_accuracy: 0.8428\n",
      "Epoch 16/50\n",
      "800/800 [==============================] - 3s 4ms/step - loss: 0.4173 - accuracy: 0.8194 - val_loss: 0.3599 - val_accuracy: 0.8429\n",
      "Epoch 17/50\n",
      "800/800 [==============================] - 3s 4ms/step - loss: 0.4109 - accuracy: 0.8242 - val_loss: 0.3518 - val_accuracy: 0.8455\n",
      "Epoch 18/50\n",
      "800/800 [==============================] - 3s 4ms/step - loss: 0.4012 - accuracy: 0.8274 - val_loss: 0.3459 - val_accuracy: 0.8454\n",
      "Epoch 19/50\n",
      "800/800 [==============================] - 3s 4ms/step - loss: 0.4007 - accuracy: 0.8269 - val_loss: 0.3456 - val_accuracy: 0.8493\n",
      "Epoch 20/50\n",
      "800/800 [==============================] - 3s 4ms/step - loss: 0.4029 - accuracy: 0.8267 - val_loss: 0.3496 - val_accuracy: 0.8450\n",
      "Epoch 21/50\n",
      "800/800 [==============================] - 3s 4ms/step - loss: 0.4000 - accuracy: 0.8244 - val_loss: 0.3544 - val_accuracy: 0.8494\n",
      "Epoch 22/50\n",
      "800/800 [==============================] - 3s 4ms/step - loss: 0.3985 - accuracy: 0.8273 - val_loss: 0.3439 - val_accuracy: 0.8478\n",
      "Epoch 23/50\n",
      "800/800 [==============================] - 3s 4ms/step - loss: 0.3899 - accuracy: 0.8300 - val_loss: 0.3459 - val_accuracy: 0.8467\n",
      "Epoch 24/50\n",
      "800/800 [==============================] - 3s 4ms/step - loss: 0.3912 - accuracy: 0.8289 - val_loss: 0.3377 - val_accuracy: 0.8500\n",
      "Epoch 25/50\n",
      "800/800 [==============================] - 3s 4ms/step - loss: 0.3906 - accuracy: 0.8295 - val_loss: 0.3488 - val_accuracy: 0.8439\n",
      "Epoch 26/50\n",
      "800/800 [==============================] - 3s 4ms/step - loss: 0.3888 - accuracy: 0.8287 - val_loss: 0.3602 - val_accuracy: 0.8461\n",
      "Epoch 27/50\n",
      "800/800 [==============================] - 3s 4ms/step - loss: 0.3961 - accuracy: 0.8280 - val_loss: 0.3569 - val_accuracy: 0.8465\n",
      "Epoch 28/50\n",
      "800/800 [==============================] - 3s 4ms/step - loss: 0.3918 - accuracy: 0.8287 - val_loss: 0.3553 - val_accuracy: 0.8464\n",
      "Epoch 29/50\n",
      "800/800 [==============================] - 3s 4ms/step - loss: 0.3912 - accuracy: 0.8277 - val_loss: 0.3393 - val_accuracy: 0.8488\n",
      "Epoch 30/50\n",
      "800/800 [==============================] - 3s 4ms/step - loss: 0.3890 - accuracy: 0.8293 - val_loss: 0.3344 - val_accuracy: 0.8470\n",
      "Epoch 31/50\n",
      "800/800 [==============================] - 3s 4ms/step - loss: 0.3799 - accuracy: 0.8318 - val_loss: 0.3310 - val_accuracy: 0.8475\n",
      "Epoch 32/50\n",
      "800/800 [==============================] - 3s 4ms/step - loss: 0.3850 - accuracy: 0.8315 - val_loss: 0.3413 - val_accuracy: 0.8487\n",
      "Epoch 33/50\n",
      "800/800 [==============================] - 3s 4ms/step - loss: 0.4124 - accuracy: 0.8259 - val_loss: 0.3330 - val_accuracy: 0.8489\n",
      "Epoch 34/50\n",
      "800/800 [==============================] - 3s 4ms/step - loss: 0.3944 - accuracy: 0.8282 - val_loss: 0.3325 - val_accuracy: 0.8450\n",
      "Epoch 35/50\n",
      "800/800 [==============================] - 3s 4ms/step - loss: 0.3904 - accuracy: 0.8290 - val_loss: 0.3281 - val_accuracy: 0.8493\n",
      "Epoch 36/50\n",
      "800/800 [==============================] - 3s 4ms/step - loss: 0.3917 - accuracy: 0.8296 - val_loss: 0.3350 - val_accuracy: 0.8461\n",
      "Epoch 37/50\n",
      "800/800 [==============================] - 3s 4ms/step - loss: 0.3881 - accuracy: 0.8267 - val_loss: 0.3270 - val_accuracy: 0.8479\n",
      "Epoch 38/50\n",
      "800/800 [==============================] - 3s 4ms/step - loss: 0.3890 - accuracy: 0.8267 - val_loss: 0.3299 - val_accuracy: 0.8475\n",
      "Epoch 39/50\n",
      "800/800 [==============================] - 3s 4ms/step - loss: 0.4064 - accuracy: 0.8250 - val_loss: 0.3384 - val_accuracy: 0.8451\n",
      "Epoch 40/50\n",
      "800/800 [==============================] - 3s 4ms/step - loss: 0.3854 - accuracy: 0.8249 - val_loss: 0.3321 - val_accuracy: 0.8456\n",
      "Epoch 41/50\n",
      "800/800 [==============================] - 3s 4ms/step - loss: 0.3924 - accuracy: 0.8262 - val_loss: 0.3415 - val_accuracy: 0.8436\n",
      "Epoch 42/50\n",
      "800/800 [==============================] - 3s 4ms/step - loss: 0.3951 - accuracy: 0.8257 - val_loss: 0.3415 - val_accuracy: 0.8436\n",
      "Epoch 43/50\n",
      "800/800 [==============================] - 3s 4ms/step - loss: 0.3940 - accuracy: 0.8258 - val_loss: 0.3329 - val_accuracy: 0.8500\n",
      "Epoch 44/50\n",
      "800/800 [==============================] - 3s 4ms/step - loss: 0.3895 - accuracy: 0.8286 - val_loss: 0.3437 - val_accuracy: 0.8432\n",
      "Epoch 45/50\n",
      "800/800 [==============================] - 3s 4ms/step - loss: 0.3844 - accuracy: 0.8271 - val_loss: 0.3341 - val_accuracy: 0.8507\n",
      "Epoch 46/50\n",
      "800/800 [==============================] - 3s 4ms/step - loss: 0.3895 - accuracy: 0.8272 - val_loss: 0.3336 - val_accuracy: 0.8483\n",
      "Epoch 47/50\n",
      "800/800 [==============================] - 3s 4ms/step - loss: 0.4090 - accuracy: 0.8277 - val_loss: 0.3627 - val_accuracy: 0.8429\n",
      "Epoch 48/50\n",
      "800/800 [==============================] - 3s 4ms/step - loss: 0.4201 - accuracy: 0.8242 - val_loss: 0.3585 - val_accuracy: 0.8447\n",
      "Epoch 49/50\n",
      "800/800 [==============================] - 3s 4ms/step - loss: 0.4061 - accuracy: 0.8262 - val_loss: 0.3355 - val_accuracy: 0.8508\n",
      "Epoch 50/50\n",
      "800/800 [==============================] - 3s 4ms/step - loss: 0.4005 - accuracy: 0.8287 - val_loss: 0.3311 - val_accuracy: 0.8533\n"
     ]
    },
    {
     "data": {
      "text/plain": [
       "<keras.callbacks.History at 0x295874389d0>"
      ]
     },
     "execution_count": 13,
     "metadata": {},
     "output_type": "execute_result"
    }
   ],
   "source": [
    "model.fit(train_ds, epochs=50, validation_data=val_ds)"
   ]
  },
  {
   "cell_type": "code",
   "execution_count": 16,
   "metadata": {},
   "outputs": [
    {
     "name": "stdout",
     "output_type": "stream",
     "text": [
      "Tanaman ini 78.0 percent perlu disiram \n"
     ]
    }
   ],
   "source": [
    "sample = {\n",
    "    \"Soil_Moisture\": 50,\n",
    "    \"Temperature\": 30,\n",
    "    \"Humidity\": 70,\n",
    "    \"Time\": 20\n",
    "}\n",
    "\n",
    "input_dict = {name: tf.convert_to_tensor(\n",
    "    [value]) for name, value in sample.items()}\n",
    "predictions = model.predict(input_dict)\n",
    "\n",
    "print(\n",
    "    \"Tanaman ini %.1f percent perlu disiram \" % (\n",
    "        100 * predictions[0][0],)\n",
    ")\n"
   ]
  }
 ],
 "metadata": {
  "interpreter": {
   "hash": "fbc768028c3e6ead51d9a200ddcb2ec858ae62844dcd1994729a8279be9b48f2"
  },
  "kernelspec": {
   "display_name": "Python 3.10.4 64-bit",
   "language": "python",
   "name": "python3"
  },
  "language_info": {
   "codemirror_mode": {
    "name": "ipython",
    "version": 3
   },
   "file_extension": ".py",
   "mimetype": "text/x-python",
   "name": "python",
   "nbconvert_exporter": "python",
   "pygments_lexer": "ipython3",
   "version": "3.10.4"
  }
 },
 "nbformat": 4,
 "nbformat_minor": 4
}
