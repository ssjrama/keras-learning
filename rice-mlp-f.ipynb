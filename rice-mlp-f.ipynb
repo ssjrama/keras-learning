{
 "cells": [
  {
   "cell_type": "code",
   "execution_count": 2,
   "metadata": {},
   "outputs": [],
   "source": [
    "import numpy as np\n",
    "import pandas as pd\n",
    "import tensorflow as tf\n",
    "from tensorflow import keras\n",
    "# Keras\n",
    "from keras.models import Sequential\n",
    "from keras.layers import Dense\n",
    "from keras.layers import Dropout\n",
    "import keras.backend as K\n",
    "from keras.utils.np_utils import to_categorical\n",
    "# Train-Test\n",
    "from sklearn.model_selection import train_test_split\n",
    "# Scaling data\n",
    "from sklearn.preprocessing import StandardScaler\n",
    "# Classification Report\n",
    "from sklearn.metrics import classification_report"
   ]
  },
  {
   "cell_type": "code",
   "execution_count": 3,
   "metadata": {},
   "outputs": [],
   "source": [
    "df = pd.read_csv('Fertilizer.csv')"
   ]
  },
  {
   "cell_type": "code",
   "execution_count": 4,
   "metadata": {},
   "outputs": [],
   "source": [
    "# Remove Missing Values\n",
    "na = pd.notnull(df[\"Fertilizer\"])\n",
    "df = df[na]"
   ]
  },
  {
   "cell_type": "code",
   "execution_count": 5,
   "metadata": {},
   "outputs": [],
   "source": [
    "df = df[[\"Fertilizer\", \"Temperature\", \"Humidity\",\n",
    "         \"Moisture\", \"Soil_Type\", \"Crop_Type\", \"Nitrogen\", \"Potassium\", \"Phosphorous\"]]"
   ]
  },
  {
   "cell_type": "code",
   "execution_count": 6,
   "metadata": {},
   "outputs": [],
   "source": [
    "df.loc[df[\"Fertilizer\"] == \"Urea\", \"Fertilizer\"] = 1\n",
    "df.loc[df[\"Fertilizer\"] == \"DAP\", \"Fertilizer\"] = 2\n",
    "df.loc[df[\"Fertilizer\"] == \"28-28\", \"Fertilizer\"] = 3\n",
    "df.loc[df[\"Fertilizer\"] == \"14-35-14\", \"Fertilizer\"] = 4\n",
    "df.loc[df[\"Fertilizer\"] == \"20-20\", \"Fertilizer\"] = 5\n",
    "df.loc[df[\"Fertilizer\"] == \"17-17-17\", \"Fertilizer\"] = 6\n",
    "df.loc[df[\"Fertilizer\"] == \"10-26-26\", \"Fertilizer\"] = 7"
   ]
  },
  {
   "cell_type": "code",
   "execution_count": 7,
   "metadata": {},
   "outputs": [],
   "source": [
    "df.loc[df[\"Soil_Type\"] == \"Loamy\", \"Soil_Type\"] = 1\n",
    "df.loc[df[\"Soil_Type\"] == \"Sandy\", \"Soil_Type\"] = 2\n",
    "df.loc[df[\"Soil_Type\"] == \"Clayey\", \"Soil_Type\"] = 3\n",
    "df.loc[df[\"Soil_Type\"] == \"Black\", \"Soil_Type\"] = 4\n",
    "df.loc[df[\"Soil_Type\"] == \"Red\", \"Soil_Type\"] = 5"
   ]
  },
  {
   "cell_type": "code",
   "execution_count": 8,
   "metadata": {},
   "outputs": [],
   "source": [
    "df.loc[df[\"Crop_Type\"] == \"Sugarcane\", \"Crop_Type\"] = 1\n",
    "df.loc[df[\"Crop_Type\"] == \"Cotton\", \"Crop_Type\"] = 2\n",
    "df.loc[df[\"Crop_Type\"] == \"Millets\", \"Crop_Type\"] = 3\n",
    "df.loc[df[\"Crop_Type\"] == \"Paddy\", \"Crop_Type\"] = 4\n",
    "df.loc[df[\"Crop_Type\"] == \"Pulses\", \"Crop_Type\"] = 5\n",
    "df.loc[df[\"Crop_Type\"] == \"Wheat\", \"Crop_Type\"] = 6\n",
    "df.loc[df[\"Crop_Type\"] == \"Tobacco\", \"Crop_Type\"] = 7\n",
    "df.loc[df[\"Crop_Type\"] == \"Barley\", \"Crop_Type\"] = 8\n",
    "df.loc[df[\"Crop_Type\"] == \"Oil seeds\", \"Crop_Type\"] = 9\n",
    "df.loc[df[\"Crop_Type\"] == \"Ground Nuts\", \"Crop_Type\"] = 10\n",
    "df.loc[df[\"Crop_Type\"] == \"Maize\", \"Crop_Type\"] = 11"
   ]
  },
  {
   "cell_type": "code",
   "execution_count": 9,
   "metadata": {},
   "outputs": [],
   "source": [
    "from sklearn.preprocessing import StandardScaler\n",
    "x = df.drop(\"Fertilizer\", axis=1)\n",
    "sc = StandardScaler()\n",
    "x = pd.DataFrame(sc.fit_transform(x))\n",
    "y = df[\"Fertilizer\"]"
   ]
  },
  {
   "cell_type": "code",
   "execution_count": 10,
   "metadata": {},
   "outputs": [],
   "source": [
    "y_cat = to_categorical(y)"
   ]
  },
  {
   "cell_type": "code",
   "execution_count": 11,
   "metadata": {},
   "outputs": [],
   "source": [
    "from sklearn.model_selection import train_test_split\n",
    "x_train, x_test, y_train, y_test = train_test_split(\n",
    "    x.values, y_cat, test_size=0.2)"
   ]
  },
  {
   "cell_type": "code",
   "execution_count": 12,
   "metadata": {},
   "outputs": [],
   "source": [
    "model = Sequential()\n",
    "model.add(Dense(32, input_shape=(8,), activation=\"relu\"))\n",
    "model.add(Dense(32, activation=\"relu\"))\n",
    "model.add(Dropout(0.5))\n",
    "model.add(Dense(8, activation=\"softmax\"))\n",
    "model.compile(\"adam\", \"categorical_crossentropy\", metrics=[\"accuracy\"])"
   ]
  },
  {
   "cell_type": "code",
   "execution_count": 13,
   "metadata": {},
   "outputs": [
    {
     "name": "stdout",
     "output_type": "stream",
     "text": [
      "Model: \"sequential\"\n",
      "_________________________________________________________________\n",
      " Layer (type)                Output Shape              Param #   \n",
      "=================================================================\n",
      " dense (Dense)               (None, 32)                288       \n",
      "                                                                 \n",
      " dense_1 (Dense)             (None, 32)                1056      \n",
      "                                                                 \n",
      " dropout (Dropout)           (None, 32)                0         \n",
      "                                                                 \n",
      " dense_2 (Dense)             (None, 8)                 264       \n",
      "                                                                 \n",
      "=================================================================\n",
      "Total params: 1,608\n",
      "Trainable params: 1,608\n",
      "Non-trainable params: 0\n",
      "_________________________________________________________________\n",
      "Epoch 1/100\n",
      "3/3 [==============================] - 1s 4ms/step - loss: 2.1583 - accuracy: 0.1646\n",
      "Epoch 2/100\n",
      "3/3 [==============================] - 0s 4ms/step - loss: 2.1548 - accuracy: 0.1519\n",
      "Epoch 3/100\n",
      "3/3 [==============================] - 0s 3ms/step - loss: 2.1056 - accuracy: 0.1139\n",
      "Epoch 4/100\n",
      "3/3 [==============================] - 0s 4ms/step - loss: 2.0473 - accuracy: 0.1392\n",
      "Epoch 5/100\n",
      "3/3 [==============================] - 0s 4ms/step - loss: 1.9681 - accuracy: 0.2405\n",
      "Epoch 6/100\n",
      "3/3 [==============================] - 0s 4ms/step - loss: 1.9593 - accuracy: 0.2025\n",
      "Epoch 7/100\n",
      "3/3 [==============================] - 0s 4ms/step - loss: 1.9476 - accuracy: 0.1899\n",
      "Epoch 8/100\n",
      "3/3 [==============================] - 0s 2ms/step - loss: 1.9571 - accuracy: 0.2785\n",
      "Epoch 9/100\n",
      "3/3 [==============================] - 0s 3ms/step - loss: 1.8938 - accuracy: 0.3038\n",
      "Epoch 10/100\n",
      "3/3 [==============================] - 0s 3ms/step - loss: 1.8629 - accuracy: 0.3165\n",
      "Epoch 11/100\n",
      "3/3 [==============================] - 0s 4ms/step - loss: 1.8177 - accuracy: 0.2658\n",
      "Epoch 12/100\n",
      "3/3 [==============================] - 0s 4ms/step - loss: 1.8760 - accuracy: 0.2785\n",
      "Epoch 13/100\n",
      "3/3 [==============================] - 0s 3ms/step - loss: 1.7560 - accuracy: 0.3165\n",
      "Epoch 14/100\n",
      "3/3 [==============================] - 0s 4ms/step - loss: 1.8132 - accuracy: 0.3291\n",
      "Epoch 15/100\n",
      "3/3 [==============================] - 0s 7ms/step - loss: 1.7465 - accuracy: 0.3797\n",
      "Epoch 16/100\n",
      "3/3 [==============================] - 0s 5ms/step - loss: 1.7759 - accuracy: 0.3797\n",
      "Epoch 17/100\n",
      "3/3 [==============================] - 0s 4ms/step - loss: 1.7462 - accuracy: 0.4051\n",
      "Epoch 18/100\n",
      "3/3 [==============================] - 0s 3ms/step - loss: 1.7854 - accuracy: 0.3671\n",
      "Epoch 19/100\n",
      "3/3 [==============================] - 0s 5ms/step - loss: 1.6099 - accuracy: 0.4557\n",
      "Epoch 20/100\n",
      "3/3 [==============================] - 0s 4ms/step - loss: 1.6472 - accuracy: 0.3924\n",
      "Epoch 21/100\n",
      "3/3 [==============================] - 0s 10ms/step - loss: 1.7211 - accuracy: 0.3671\n",
      "Epoch 22/100\n",
      "3/3 [==============================] - 0s 6ms/step - loss: 1.5844 - accuracy: 0.4557\n",
      "Epoch 23/100\n",
      "3/3 [==============================] - 0s 5ms/step - loss: 1.6193 - accuracy: 0.3797\n",
      "Epoch 24/100\n",
      "3/3 [==============================] - 0s 8ms/step - loss: 1.5270 - accuracy: 0.5063\n",
      "Epoch 25/100\n",
      "3/3 [==============================] - 0s 4ms/step - loss: 1.5934 - accuracy: 0.3924\n",
      "Epoch 26/100\n",
      "3/3 [==============================] - 0s 3ms/step - loss: 1.5488 - accuracy: 0.4051\n",
      "Epoch 27/100\n",
      "3/3 [==============================] - 0s 4ms/step - loss: 1.4805 - accuracy: 0.4937\n",
      "Epoch 28/100\n",
      "3/3 [==============================] - 0s 3ms/step - loss: 1.5768 - accuracy: 0.4051\n",
      "Epoch 29/100\n",
      "3/3 [==============================] - 0s 4ms/step - loss: 1.5210 - accuracy: 0.4557\n",
      "Epoch 30/100\n",
      "3/3 [==============================] - 0s 6ms/step - loss: 1.4947 - accuracy: 0.4304\n",
      "Epoch 31/100\n",
      "3/3 [==============================] - 0s 6ms/step - loss: 1.4556 - accuracy: 0.5190\n",
      "Epoch 32/100\n",
      "3/3 [==============================] - 0s 8ms/step - loss: 1.4110 - accuracy: 0.4557\n",
      "Epoch 33/100\n",
      "3/3 [==============================] - 0s 6ms/step - loss: 1.4427 - accuracy: 0.5823\n",
      "Epoch 34/100\n",
      "3/3 [==============================] - 0s 5ms/step - loss: 1.4121 - accuracy: 0.4430\n",
      "Epoch 35/100\n",
      "3/3 [==============================] - 0s 4ms/step - loss: 1.3814 - accuracy: 0.6203\n",
      "Epoch 36/100\n",
      "3/3 [==============================] - 0s 4ms/step - loss: 1.3758 - accuracy: 0.5063\n",
      "Epoch 37/100\n",
      "3/3 [==============================] - 0s 5ms/step - loss: 1.3133 - accuracy: 0.6076\n",
      "Epoch 38/100\n",
      "3/3 [==============================] - 0s 4ms/step - loss: 1.3635 - accuracy: 0.5570\n",
      "Epoch 39/100\n",
      "3/3 [==============================] - 0s 5ms/step - loss: 1.3142 - accuracy: 0.5696\n",
      "Epoch 40/100\n",
      "3/3 [==============================] - 0s 5ms/step - loss: 1.3233 - accuracy: 0.5570\n",
      "Epoch 41/100\n",
      "3/3 [==============================] - 0s 4ms/step - loss: 1.2734 - accuracy: 0.5823\n",
      "Epoch 42/100\n",
      "3/3 [==============================] - 0s 5ms/step - loss: 1.3086 - accuracy: 0.5316\n",
      "Epoch 43/100\n",
      "3/3 [==============================] - 0s 3ms/step - loss: 1.3016 - accuracy: 0.5696\n",
      "Epoch 44/100\n",
      "3/3 [==============================] - 0s 3ms/step - loss: 1.2512 - accuracy: 0.5443\n",
      "Epoch 45/100\n",
      "3/3 [==============================] - 0s 3ms/step - loss: 1.2412 - accuracy: 0.6203\n",
      "Epoch 46/100\n",
      "3/3 [==============================] - 0s 4ms/step - loss: 1.1760 - accuracy: 0.5823\n",
      "Epoch 47/100\n",
      "3/3 [==============================] - 0s 3ms/step - loss: 1.2537 - accuracy: 0.5316\n",
      "Epoch 48/100\n",
      "3/3 [==============================] - 0s 5ms/step - loss: 1.1802 - accuracy: 0.5696\n",
      "Epoch 49/100\n",
      "3/3 [==============================] - 0s 5ms/step - loss: 1.1928 - accuracy: 0.6456\n",
      "Epoch 50/100\n",
      "3/3 [==============================] - 0s 5ms/step - loss: 1.1624 - accuracy: 0.5949\n",
      "Epoch 51/100\n",
      "3/3 [==============================] - 0s 5ms/step - loss: 1.0881 - accuracy: 0.6709\n",
      "Epoch 52/100\n",
      "3/3 [==============================] - 0s 4ms/step - loss: 1.1249 - accuracy: 0.6329\n",
      "Epoch 53/100\n",
      "3/3 [==============================] - 0s 4ms/step - loss: 1.1187 - accuracy: 0.6076\n",
      "Epoch 54/100\n",
      "3/3 [==============================] - 0s 4ms/step - loss: 1.0836 - accuracy: 0.6835\n",
      "Epoch 55/100\n",
      "3/3 [==============================] - 0s 5ms/step - loss: 1.0128 - accuracy: 0.7215\n",
      "Epoch 56/100\n",
      "3/3 [==============================] - 0s 5ms/step - loss: 1.0036 - accuracy: 0.7089\n",
      "Epoch 57/100\n",
      "3/3 [==============================] - 0s 4ms/step - loss: 0.9258 - accuracy: 0.7975\n",
      "Epoch 58/100\n",
      "3/3 [==============================] - 0s 6ms/step - loss: 1.0440 - accuracy: 0.6203\n",
      "Epoch 59/100\n",
      "3/3 [==============================] - 0s 4ms/step - loss: 0.9940 - accuracy: 0.7089\n",
      "Epoch 60/100\n",
      "3/3 [==============================] - 0s 5ms/step - loss: 1.0151 - accuracy: 0.6582\n",
      "Epoch 61/100\n",
      "3/3 [==============================] - 0s 4ms/step - loss: 1.0545 - accuracy: 0.6456\n",
      "Epoch 62/100\n",
      "3/3 [==============================] - 0s 4ms/step - loss: 0.9265 - accuracy: 0.6582\n",
      "Epoch 63/100\n",
      "3/3 [==============================] - 0s 4ms/step - loss: 1.0033 - accuracy: 0.6076\n",
      "Epoch 64/100\n",
      "3/3 [==============================] - 0s 4ms/step - loss: 0.8559 - accuracy: 0.7722\n",
      "Epoch 65/100\n",
      "3/3 [==============================] - 0s 4ms/step - loss: 0.8601 - accuracy: 0.7595\n",
      "Epoch 66/100\n",
      "3/3 [==============================] - 0s 6ms/step - loss: 0.9014 - accuracy: 0.7342\n",
      "Epoch 67/100\n",
      "3/3 [==============================] - 0s 4ms/step - loss: 0.8577 - accuracy: 0.7848\n",
      "Epoch 68/100\n",
      "3/3 [==============================] - 0s 5ms/step - loss: 0.8575 - accuracy: 0.7468\n",
      "Epoch 69/100\n",
      "3/3 [==============================] - 0s 4ms/step - loss: 0.8708 - accuracy: 0.7342\n",
      "Epoch 70/100\n",
      "3/3 [==============================] - 0s 2ms/step - loss: 0.7655 - accuracy: 0.8101\n",
      "Epoch 71/100\n",
      "3/3 [==============================] - 0s 3ms/step - loss: 0.8200 - accuracy: 0.7342\n",
      "Epoch 72/100\n",
      "3/3 [==============================] - 0s 3ms/step - loss: 0.7484 - accuracy: 0.7848\n",
      "Epoch 73/100\n",
      "3/3 [==============================] - 0s 5ms/step - loss: 0.7657 - accuracy: 0.7848\n",
      "Epoch 74/100\n",
      "3/3 [==============================] - 0s 4ms/step - loss: 0.7624 - accuracy: 0.7722\n",
      "Epoch 75/100\n",
      "3/3 [==============================] - 0s 4ms/step - loss: 0.6718 - accuracy: 0.8101\n",
      "Epoch 76/100\n",
      "3/3 [==============================] - 0s 3ms/step - loss: 0.7183 - accuracy: 0.7975\n",
      "Epoch 77/100\n",
      "3/3 [==============================] - 0s 4ms/step - loss: 0.6759 - accuracy: 0.8608\n",
      "Epoch 78/100\n",
      "3/3 [==============================] - 0s 5ms/step - loss: 0.7105 - accuracy: 0.7595\n",
      "Epoch 79/100\n",
      "3/3 [==============================] - 0s 4ms/step - loss: 0.7065 - accuracy: 0.7848\n",
      "Epoch 80/100\n",
      "3/3 [==============================] - 0s 4ms/step - loss: 0.6565 - accuracy: 0.8228\n",
      "Epoch 81/100\n",
      "3/3 [==============================] - 0s 5ms/step - loss: 0.6411 - accuracy: 0.8101\n",
      "Epoch 82/100\n",
      "3/3 [==============================] - 0s 4ms/step - loss: 0.6730 - accuracy: 0.8354\n",
      "Epoch 83/100\n",
      "3/3 [==============================] - 0s 3ms/step - loss: 0.5604 - accuracy: 0.8734\n",
      "Epoch 84/100\n",
      "3/3 [==============================] - 0s 3ms/step - loss: 0.5892 - accuracy: 0.8228\n",
      "Epoch 85/100\n",
      "3/3 [==============================] - 0s 4ms/step - loss: 0.6335 - accuracy: 0.8481\n",
      "Epoch 86/100\n",
      "3/3 [==============================] - 0s 4ms/step - loss: 0.6266 - accuracy: 0.8228\n",
      "Epoch 87/100\n",
      "3/3 [==============================] - 0s 3ms/step - loss: 0.5678 - accuracy: 0.8734\n",
      "Epoch 88/100\n",
      "3/3 [==============================] - 0s 4ms/step - loss: 0.6329 - accuracy: 0.8354\n",
      "Epoch 89/100\n",
      "3/3 [==============================] - 0s 4ms/step - loss: 0.6040 - accuracy: 0.7975\n",
      "Epoch 90/100\n",
      "3/3 [==============================] - 0s 4ms/step - loss: 0.5456 - accuracy: 0.8734\n",
      "Epoch 91/100\n",
      "3/3 [==============================] - 0s 3ms/step - loss: 0.5984 - accuracy: 0.8481\n",
      "Epoch 92/100\n",
      "3/3 [==============================] - 0s 3ms/step - loss: 0.5666 - accuracy: 0.8354\n",
      "Epoch 93/100\n",
      "3/3 [==============================] - 0s 4ms/step - loss: 0.6185 - accuracy: 0.8354\n",
      "Epoch 94/100\n",
      "3/3 [==============================] - 0s 6ms/step - loss: 0.6300 - accuracy: 0.7595\n",
      "Epoch 95/100\n",
      "3/3 [==============================] - 0s 5ms/step - loss: 0.4891 - accuracy: 0.8354\n",
      "Epoch 96/100\n",
      "3/3 [==============================] - 0s 5ms/step - loss: 0.4588 - accuracy: 0.9114\n",
      "Epoch 97/100\n",
      "3/3 [==============================] - 0s 5ms/step - loss: 0.5333 - accuracy: 0.8861\n",
      "Epoch 98/100\n",
      "3/3 [==============================] - 0s 4ms/step - loss: 0.5498 - accuracy: 0.8608\n",
      "Epoch 99/100\n",
      "3/3 [==============================] - 0s 4ms/step - loss: 0.4033 - accuracy: 0.9494\n",
      "Epoch 100/100\n",
      "3/3 [==============================] - 0s 4ms/step - loss: 0.4619 - accuracy: 0.8987\n"
     ]
    },
    {
     "data": {
      "text/plain": [
       "<keras.callbacks.History at 0x214f002bfd0>"
      ]
     },
     "execution_count": 13,
     "metadata": {},
     "output_type": "execute_result"
    }
   ],
   "source": [
    "model.summary()\n",
    "model.fit(x_train, y_train, verbose=1, epochs=100)"
   ]
  },
  {
   "cell_type": "code",
   "execution_count": 14,
   "metadata": {},
   "outputs": [],
   "source": [
    "import itertools\n",
    "import matplotlib.pyplot as plt\n",
    "def plot_confusion_matrix(cm, classes,\n",
    "                          normalize=False,\n",
    "                          title='Confusion matrix',\n",
    "                          cmap=plt.cm.Blues):\n",
    "    \"\"\"\n",
    "    This function prints and plots the confusion matrix.\n",
    "    Normalization can be applied by setting `normalize=True`.\n",
    "    \"\"\"\n",
    "    plt.imshow(cm, interpolation='nearest', cmap=cmap)\n",
    "    plt.title(title)\n",
    "    plt.colorbar()\n",
    "    tick_marks = np.arange(len(classes))\n",
    "    plt.xticks(tick_marks, classes, rotation=45)\n",
    "    plt.yticks(tick_marks, classes)\n",
    "\n",
    "#     if normalize:\n",
    "#         cm = cm.astype('float') / cm.sum(axis=1)[:, np.newaxis]\n",
    "#         print(\"Normalized confusion matrix\")\n",
    "#     else:\n",
    "#         print('Confusion matrix, without normalization')\n",
    "\n",
    "#     print(cm)\n",
    "\n",
    "    thresh = cm.max() / 2.\n",
    "    for i, j in itertools.product(range(cm.shape[0]), range(cm.shape[1])):\n",
    "        plt.text(j, i, cm[i, j],\n",
    "                 horizontalalignment=\"center\",\n",
    "                 color=\"white\" if cm[i, j] > thresh else \"black\")\n",
    "\n",
    "    plt.tight_layout()\n",
    "    plt.ylabel('True label')\n",
    "    plt.xlabel('Predicted label')\n"
   ]
  },
  {
   "cell_type": "code",
   "execution_count": 15,
   "metadata": {},
   "outputs": [
    {
     "name": "stdout",
     "output_type": "stream",
     "text": [
      "              precision    recall  f1-score   support\n",
      "\n",
      "           1       1.00      1.00      1.00         3\n",
      "           2       1.00      1.00      1.00         5\n",
      "           3       1.00      1.00      1.00         4\n",
      "           4       0.75      1.00      0.86         3\n",
      "           5       1.00      1.00      1.00         2\n",
      "           6       0.00      0.00      0.00         1\n",
      "           7       0.00      0.00      0.00         2\n",
      "\n",
      "    accuracy                           0.85        20\n",
      "   macro avg       0.68      0.71      0.69        20\n",
      "weighted avg       0.81      0.85      0.83        20\n",
      "\n"
     ]
    },
    {
     "name": "stderr",
     "output_type": "stream",
     "text": [
      "c:\\Users\\DELL\\AppData\\Local\\Programs\\Python\\Python310\\lib\\site-packages\\sklearn\\metrics\\_classification.py:1318: UndefinedMetricWarning: Precision and F-score are ill-defined and being set to 0.0 in labels with no predicted samples. Use `zero_division` parameter to control this behavior.\n",
      "  _warn_prf(average, modifier, msg_start, len(result))\n",
      "c:\\Users\\DELL\\AppData\\Local\\Programs\\Python\\Python310\\lib\\site-packages\\sklearn\\metrics\\_classification.py:1318: UndefinedMetricWarning: Precision and F-score are ill-defined and being set to 0.0 in labels with no predicted samples. Use `zero_division` parameter to control this behavior.\n",
      "  _warn_prf(average, modifier, msg_start, len(result))\n",
      "c:\\Users\\DELL\\AppData\\Local\\Programs\\Python\\Python310\\lib\\site-packages\\sklearn\\metrics\\_classification.py:1318: UndefinedMetricWarning: Precision and F-score are ill-defined and being set to 0.0 in labels with no predicted samples. Use `zero_division` parameter to control this behavior.\n",
      "  _warn_prf(average, modifier, msg_start, len(result))\n"
     ]
    },
    {
     "data": {
      "text/plain": [
       "array([[3, 0, 0, 0, 0, 0, 0],\n",
       "       [0, 5, 0, 0, 0, 0, 0],\n",
       "       [0, 0, 4, 0, 0, 0, 0],\n",
       "       [0, 0, 0, 3, 0, 0, 0],\n",
       "       [0, 0, 0, 0, 2, 0, 0],\n",
       "       [0, 0, 0, 1, 0, 0, 0],\n",
       "       [0, 0, 0, 0, 0, 2, 0]], dtype=int64)"
      ]
     },
     "execution_count": 15,
     "metadata": {},
     "output_type": "execute_result"
    }
   ],
   "source": [
    "from sklearn.metrics import classification_report\n",
    "from sklearn.metrics import confusion_matrix\n",
    "y_pred_class = np.argmax(model.predict(x_test), axis=-1)\n",
    "y_pred = model.predict(x_test)\n",
    "y_test_class = np.argmax(y_test, axis=1)\n",
    "print(classification_report(y_test_class, y_pred_class))\n",
    "confusion_matrix(y_test_class, y_pred_class)\n"
   ]
  },
  {
   "cell_type": "code",
   "execution_count": 16,
   "metadata": {},
   "outputs": [
    {
     "data": {
      "image/png": "[encoded data removed]",
      "text/plain": [
       "<Figure size 432x288 with 2 Axes>"
      ]
     },
     "metadata": {
      "needs_background": "light"
     },
     "output_type": "display_data"
    }
   ],
   "source": [
    "cm = confusion_matrix(y_test_class, y_pred_class)\n",
    "cm_plot_labels = ['1', '2', '3', '4', '5', '6', '7']\n",
    "plot_confusion_matrix(cm=cm, classes=cm_plot_labels, title='Confusion Matrix')\n"
   ]
  },
  {
   "cell_type": "code",
   "execution_count": 17,
   "metadata": {},
   "outputs": [
    {
     "name": "stdout",
     "output_type": "stream",
     "text": [
      "[1]\n"
     ]
    }
   ],
   "source": [
    "a2D = np.array([[26, 52, 38, 2, 11, 37, 0, 0]])\n",
    "\n",
    "\n",
    "predictions = model.predict(a2D)\n",
    "y_pred_new = np.argmax(model.predict(a2D), axis=-1)\n",
    "\n",
    "print(y_pred_new)\n"
   ]
  },
  {
   "cell_type": "code",
   "execution_count": 18,
   "metadata": {},
   "outputs": [],
   "source": [
    "#model.save('model-f.h5')"
   ]
  }
 ],
 "metadata": {
  "kernelspec": {
   "display_name": "Python 3",
   "language": "python",
   "name": "python3"
  },
  "language_info": {
   "codemirror_mode": {
    "name": "ipython",
    "version": 3
   },
   "file_extension": ".py",
   "mimetype": "text/x-python",
   "name": "python",
   "nbconvert_exporter": "python",
   "pygments_lexer": "ipython3",
   "version": "3.10.4"
  },
  "vscode": {
   "interpreter": {
    "hash": "fbc768028c3e6ead51d9a200ddcb2ec858ae62844dcd1994729a8279be9b48f2"
   }
  }
 },
 "nbformat": 4,
 "nbformat_minor": 4
}
