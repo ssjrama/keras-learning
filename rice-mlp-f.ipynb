{
 "cells": [
  {
   "cell_type": "code",
   "execution_count": 88,
   "metadata": {},
   "outputs": [],
   "source": [
    "# Data visualization\n",
    "import matplotlib.pyplot as plt\n",
    "import numpy as np\n",
    "import pandas as pd\n",
    "# Keras\n",
    "from keras.models import Sequential\n",
    "from keras.layers import Dense\n",
    "from keras.layers import Dropout\n",
    "import keras.backend as K\n",
    "from keras.utils.np_utils import to_categorical\n",
    "# Train-Test\n",
    "from sklearn.model_selection import train_test_split\n",
    "# Scaling data\n",
    "from sklearn.preprocessing import StandardScaler\n",
    "# Classification Report\n",
    "from sklearn.metrics import classification_report"
   ]
  },
  {
   "cell_type": "code",
   "execution_count": 89,
   "metadata": {},
   "outputs": [],
   "source": [
    "df = pd.read_csv('Fertilizer.csv')"
   ]
  },
  {
   "cell_type": "code",
   "execution_count": 90,
   "metadata": {},
   "outputs": [],
   "source": [
    "# Remove Missing Values\n",
    "na = pd.notnull(df[\"Fertilizer\"])\n",
    "df = df[na]"
   ]
  },
  {
   "cell_type": "code",
   "execution_count": 91,
   "metadata": {},
   "outputs": [],
   "source": [
    "df = df[[\"Fertilizer\", \"Temperature\", \"Humidity\",\n",
    "         \"Moisture\", \"Soil_Type\", \"Crop_Type\", \"Nitrogen\", \"Potassium\", \"Phosphorous\"]]"
   ]
  },
  {
   "cell_type": "code",
   "execution_count": 92,
   "metadata": {},
   "outputs": [],
   "source": [
    "df.loc[df[\"Fertilizer\"] == \"Urea\", \"Fertilizer\"] = 1\n",
    "df.loc[df[\"Fertilizer\"] == \"DAP\", \"Fertilizer\"] = 2\n",
    "df.loc[df[\"Fertilizer\"] == \"28-28\", \"Fertilizer\"] = 3\n",
    "df.loc[df[\"Fertilizer\"] == \"14-35-14\", \"Fertilizer\"] = 4\n",
    "df.loc[df[\"Fertilizer\"] == \"20-20\", \"Fertilizer\"] = 5\n",
    "df.loc[df[\"Fertilizer\"] == \"17-17-17\", \"Fertilizer\"] = 6\n",
    "df.loc[df[\"Fertilizer\"] == \"10-26-26\", \"Fertilizer\"] = 7"
   ]
  },
  {
   "cell_type": "code",
   "execution_count": 93,
   "metadata": {},
   "outputs": [],
   "source": [
    "df.loc[df[\"Soil_Type\"] == \"Loamy\", \"Soil_Type\"] = 1\n",
    "df.loc[df[\"Soil_Type\"] == \"Sandy\", \"Soil_Type\"] = 2\n",
    "df.loc[df[\"Soil_Type\"] == \"Clayey\", \"Soil_Type\"] = 3\n",
    "df.loc[df[\"Soil_Type\"] == \"Black\", \"Soil_Type\"] = 4\n",
    "df.loc[df[\"Soil_Type\"] == \"Red\", \"Soil_Type\"] = 5"
   ]
  },
  {
   "cell_type": "code",
   "execution_count": 94,
   "metadata": {},
   "outputs": [],
   "source": [
    "df.loc[df[\"Crop_Type\"] == \"Sugarcane\", \"Crop_Type\"] = 1\n",
    "df.loc[df[\"Crop_Type\"] == \"Cotton\", \"Crop_Type\"] = 2\n",
    "df.loc[df[\"Crop_Type\"] == \"Millets\", \"Crop_Type\"] = 3\n",
    "df.loc[df[\"Crop_Type\"] == \"Paddy\", \"Crop_Type\"] = 4\n",
    "df.loc[df[\"Crop_Type\"] == \"Pulses\", \"Crop_Type\"] = 5\n",
    "df.loc[df[\"Crop_Type\"] == \"Wheat\", \"Crop_Type\"] = 6\n",
    "df.loc[df[\"Crop_Type\"] == \"Tobacco\", \"Crop_Type\"] = 7\n",
    "df.loc[df[\"Crop_Type\"] == \"Barley\", \"Crop_Type\"] = 8\n",
    "df.loc[df[\"Crop_Type\"] == \"Oil seeds\", \"Crop_Type\"] = 9\n",
    "df.loc[df[\"Crop_Type\"] == \"Ground Nuts\", \"Crop_Type\"] = 10\n",
    "df.loc[df[\"Crop_Type\"] == \"Maize\", \"Crop_Type\"] = 11"
   ]
  },
  {
   "cell_type": "code",
   "execution_count": 95,
   "metadata": {},
   "outputs": [],
   "source": [
    "from sklearn.preprocessing import StandardScaler\n",
    "x = df.drop(\"Fertilizer\", axis=1)\n",
    "sc = StandardScaler()\n",
    "x = pd.DataFrame(sc.fit_transform(x))\n",
    "y = df[\"Fertilizer\"]"
   ]
  },
  {
   "cell_type": "code",
   "execution_count": 96,
   "metadata": {},
   "outputs": [],
   "source": [
    "y_cat = to_categorical(y)"
   ]
  },
  {
   "cell_type": "code",
   "execution_count": 97,
   "metadata": {},
   "outputs": [],
   "source": [
    "from sklearn.model_selection import train_test_split\n",
    "x_train, x_test, y_train, y_test = train_test_split(\n",
    "    x.values, y_cat, test_size=0.2)"
   ]
  },
  {
   "cell_type": "code",
   "execution_count": 98,
   "metadata": {},
   "outputs": [],
   "source": [
    "model = Sequential()\n",
    "model.add(Dense(32, input_shape=(8,), activation=\"relu\"))\n",
    "model.add(Dense(32, activation=\"relu\"))\n",
    "model.add(Dropout(0.5))\n",
    "model.add(Dense(8, activation=\"softmax\"))\n",
    "model.compile(\"adam\", \"categorical_crossentropy\", metrics=[\"accuracy\"])\n",
    "#model.summary()\n"
   ]
  },
  {
   "cell_type": "code",
   "execution_count": 101,
   "metadata": {},
   "outputs": [
    {
     "name": "stdout",
     "output_type": "stream",
     "text": [
      "Model: \"sequential_8\"\n",
      "_________________________________________________________________\n",
      " Layer (type)                Output Shape              Param #   \n",
      "=================================================================\n",
      " dense_23 (Dense)            (None, 32)                288       \n",
      "                                                                 \n",
      " dense_24 (Dense)            (None, 32)                1056      \n",
      "                                                                 \n",
      " dropout_7 (Dropout)         (None, 32)                0         \n",
      "                                                                 \n",
      " dense_25 (Dense)            (None, 8)                 264       \n",
      "                                                                 \n",
      "=================================================================\n",
      "Total params: 1,608\n",
      "Trainable params: 1,608\n",
      "Non-trainable params: 0\n",
      "_________________________________________________________________\n",
      "Epoch 1/100\n",
      "3/3 [==============================] - 0s 5ms/step - loss: 1.7914 - accuracy: 0.2911\n",
      "Epoch 2/100\n",
      "3/3 [==============================] - 0s 6ms/step - loss: 1.8049 - accuracy: 0.3291\n",
      "Epoch 3/100\n",
      "3/3 [==============================] - 0s 8ms/step - loss: 1.8066 - accuracy: 0.2532\n",
      "Epoch 4/100\n",
      "3/3 [==============================] - 0s 4ms/step - loss: 1.7284 - accuracy: 0.3038\n",
      "Epoch 5/100\n",
      "3/3 [==============================] - 0s 3ms/step - loss: 1.6770 - accuracy: 0.3797\n",
      "Epoch 6/100\n",
      "3/3 [==============================] - 0s 4ms/step - loss: 1.6683 - accuracy: 0.3544\n",
      "Epoch 7/100\n",
      "3/3 [==============================] - 0s 4ms/step - loss: 1.7182 - accuracy: 0.4051\n",
      "Epoch 8/100\n",
      "3/3 [==============================] - 0s 7ms/step - loss: 1.6286 - accuracy: 0.3797\n",
      "Epoch 9/100\n",
      "3/3 [==============================] - 0s 4ms/step - loss: 1.6131 - accuracy: 0.4304\n",
      "Epoch 10/100\n",
      "3/3 [==============================] - 0s 3ms/step - loss: 1.5957 - accuracy: 0.3797\n",
      "Epoch 11/100\n",
      "3/3 [==============================] - 0s 3ms/step - loss: 1.5148 - accuracy: 0.5063\n",
      "Epoch 12/100\n",
      "3/3 [==============================] - 0s 3ms/step - loss: 1.5198 - accuracy: 0.5316\n",
      "Epoch 13/100\n",
      "3/3 [==============================] - 0s 3ms/step - loss: 1.4843 - accuracy: 0.4304\n",
      "Epoch 14/100\n",
      "3/3 [==============================] - 0s 3ms/step - loss: 1.4907 - accuracy: 0.4051\n",
      "Epoch 15/100\n",
      "3/3 [==============================] - 0s 4ms/step - loss: 1.4594 - accuracy: 0.5063\n",
      "Epoch 16/100\n",
      "3/3 [==============================] - 0s 4ms/step - loss: 1.5054 - accuracy: 0.4684\n",
      "Epoch 17/100\n",
      "3/3 [==============================] - 0s 3ms/step - loss: 1.4422 - accuracy: 0.5190\n",
      "Epoch 18/100\n",
      "3/3 [==============================] - 0s 3ms/step - loss: 1.3836 - accuracy: 0.5190\n",
      "Epoch 19/100\n",
      "3/3 [==============================] - 0s 4ms/step - loss: 1.3918 - accuracy: 0.4937\n",
      "Epoch 20/100\n",
      "3/3 [==============================] - 0s 4ms/step - loss: 1.3892 - accuracy: 0.4937\n",
      "Epoch 21/100\n",
      "3/3 [==============================] - 0s 5ms/step - loss: 1.3376 - accuracy: 0.5190\n",
      "Epoch 22/100\n",
      "3/3 [==============================] - 0s 5ms/step - loss: 1.2560 - accuracy: 0.5570\n",
      "Epoch 23/100\n",
      "3/3 [==============================] - 0s 8ms/step - loss: 1.2499 - accuracy: 0.5949\n",
      "Epoch 24/100\n",
      "3/3 [==============================] - 0s 5ms/step - loss: 1.2937 - accuracy: 0.5696\n",
      "Epoch 25/100\n",
      "3/3 [==============================] - 0s 4ms/step - loss: 1.2128 - accuracy: 0.6329\n",
      "Epoch 26/100\n",
      "3/3 [==============================] - 0s 6ms/step - loss: 1.2146 - accuracy: 0.6456\n",
      "Epoch 27/100\n",
      "3/3 [==============================] - 0s 4ms/step - loss: 1.2068 - accuracy: 0.6329\n",
      "Epoch 28/100\n",
      "3/3 [==============================] - 0s 6ms/step - loss: 1.2093 - accuracy: 0.6203\n",
      "Epoch 29/100\n",
      "3/3 [==============================] - 0s 5ms/step - loss: 1.1447 - accuracy: 0.6076\n",
      "Epoch 30/100\n",
      "3/3 [==============================] - 0s 3ms/step - loss: 1.1176 - accuracy: 0.6582\n",
      "Epoch 31/100\n",
      "3/3 [==============================] - 0s 5ms/step - loss: 1.1214 - accuracy: 0.6203\n",
      "Epoch 32/100\n",
      "3/3 [==============================] - 0s 3ms/step - loss: 1.0818 - accuracy: 0.6456\n",
      "Epoch 33/100\n",
      "3/3 [==============================] - 0s 3ms/step - loss: 1.0589 - accuracy: 0.6329\n",
      "Epoch 34/100\n",
      "3/3 [==============================] - 0s 4ms/step - loss: 1.1089 - accuracy: 0.6203\n",
      "Epoch 35/100\n",
      "3/3 [==============================] - 0s 3ms/step - loss: 1.1277 - accuracy: 0.6329\n",
      "Epoch 36/100\n",
      "3/3 [==============================] - 0s 5ms/step - loss: 1.0382 - accuracy: 0.6962\n",
      "Epoch 37/100\n",
      "3/3 [==============================] - 0s 6ms/step - loss: 0.9771 - accuracy: 0.7342\n",
      "Epoch 38/100\n",
      "3/3 [==============================] - 0s 6ms/step - loss: 1.0147 - accuracy: 0.6835\n",
      "Epoch 39/100\n",
      "3/3 [==============================] - 0s 4ms/step - loss: 1.0775 - accuracy: 0.6582\n",
      "Epoch 40/100\n",
      "3/3 [==============================] - 0s 4ms/step - loss: 0.9936 - accuracy: 0.6962\n",
      "Epoch 41/100\n",
      "3/3 [==============================] - 0s 8ms/step - loss: 0.9521 - accuracy: 0.7342\n",
      "Epoch 42/100\n",
      "3/3 [==============================] - 0s 8ms/step - loss: 0.8860 - accuracy: 0.7089\n",
      "Epoch 43/100\n",
      "3/3 [==============================] - 0s 5ms/step - loss: 0.9127 - accuracy: 0.7089\n",
      "Epoch 44/100\n",
      "3/3 [==============================] - 0s 4ms/step - loss: 0.9403 - accuracy: 0.6962\n",
      "Epoch 45/100\n",
      "3/3 [==============================] - 0s 4ms/step - loss: 0.8446 - accuracy: 0.7215\n",
      "Epoch 46/100\n",
      "3/3 [==============================] - 0s 8ms/step - loss: 0.8950 - accuracy: 0.7722\n",
      "Epoch 47/100\n",
      "3/3 [==============================] - 0s 5ms/step - loss: 0.8863 - accuracy: 0.7468\n",
      "Epoch 48/100\n",
      "3/3 [==============================] - 0s 4ms/step - loss: 0.8421 - accuracy: 0.7595\n",
      "Epoch 49/100\n",
      "3/3 [==============================] - 0s 3ms/step - loss: 0.8507 - accuracy: 0.7468\n",
      "Epoch 50/100\n",
      "3/3 [==============================] - 0s 7ms/step - loss: 0.8295 - accuracy: 0.7595\n",
      "Epoch 51/100\n",
      "3/3 [==============================] - 0s 5ms/step - loss: 0.8163 - accuracy: 0.7468\n",
      "Epoch 52/100\n",
      "3/3 [==============================] - 0s 4ms/step - loss: 0.7870 - accuracy: 0.7595\n",
      "Epoch 53/100\n",
      "3/3 [==============================] - 0s 5ms/step - loss: 0.8560 - accuracy: 0.7089\n",
      "Epoch 54/100\n",
      "3/3 [==============================] - 0s 3ms/step - loss: 0.7936 - accuracy: 0.7975\n",
      "Epoch 55/100\n",
      "3/3 [==============================] - 0s 12ms/step - loss: 0.7910 - accuracy: 0.7089\n",
      "Epoch 56/100\n",
      "3/3 [==============================] - 0s 4ms/step - loss: 0.8176 - accuracy: 0.7089\n",
      "Epoch 57/100\n",
      "3/3 [==============================] - 0s 4ms/step - loss: 0.8128 - accuracy: 0.7468\n",
      "Epoch 58/100\n",
      "3/3 [==============================] - 0s 4ms/step - loss: 0.7060 - accuracy: 0.8101\n",
      "Epoch 59/100\n",
      "3/3 [==============================] - 0s 5ms/step - loss: 0.6854 - accuracy: 0.7722\n",
      "Epoch 60/100\n",
      "3/3 [==============================] - 0s 5ms/step - loss: 0.6106 - accuracy: 0.8354\n",
      "Epoch 61/100\n",
      "3/3 [==============================] - 0s 4ms/step - loss: 0.7961 - accuracy: 0.6962\n",
      "Epoch 62/100\n",
      "3/3 [==============================] - 0s 5ms/step - loss: 0.6758 - accuracy: 0.8354\n",
      "Epoch 63/100\n",
      "3/3 [==============================] - 0s 4ms/step - loss: 0.6271 - accuracy: 0.8228\n",
      "Epoch 64/100\n",
      "3/3 [==============================] - 0s 5ms/step - loss: 0.6146 - accuracy: 0.8481\n",
      "Epoch 65/100\n",
      "3/3 [==============================] - 0s 7ms/step - loss: 0.6362 - accuracy: 0.8228\n",
      "Epoch 66/100\n",
      "3/3 [==============================] - 0s 5ms/step - loss: 0.6491 - accuracy: 0.8101\n",
      "Epoch 67/100\n",
      "3/3 [==============================] - 0s 6ms/step - loss: 0.6683 - accuracy: 0.8354\n",
      "Epoch 68/100\n",
      "3/3 [==============================] - 0s 4ms/step - loss: 0.5642 - accuracy: 0.8734\n",
      "Epoch 69/100\n",
      "3/3 [==============================] - 0s 6ms/step - loss: 0.6876 - accuracy: 0.7722\n",
      "Epoch 70/100\n",
      "3/3 [==============================] - 0s 6ms/step - loss: 0.6665 - accuracy: 0.7468\n",
      "Epoch 71/100\n",
      "3/3 [==============================] - 0s 4ms/step - loss: 0.6107 - accuracy: 0.8228\n",
      "Epoch 72/100\n",
      "3/3 [==============================] - 0s 7ms/step - loss: 0.6348 - accuracy: 0.7975\n",
      "Epoch 73/100\n",
      "3/3 [==============================] - 0s 5ms/step - loss: 0.5994 - accuracy: 0.8228\n",
      "Epoch 74/100\n",
      "3/3 [==============================] - 0s 7ms/step - loss: 0.4983 - accuracy: 0.8987\n",
      "Epoch 75/100\n",
      "3/3 [==============================] - 0s 4ms/step - loss: 0.5701 - accuracy: 0.7848\n",
      "Epoch 76/100\n",
      "3/3 [==============================] - 0s 5ms/step - loss: 0.5888 - accuracy: 0.8101\n",
      "Epoch 77/100\n",
      "3/3 [==============================] - 0s 4ms/step - loss: 0.5213 - accuracy: 0.9114\n",
      "Epoch 78/100\n",
      "3/3 [==============================] - 0s 4ms/step - loss: 0.5290 - accuracy: 0.8354\n",
      "Epoch 79/100\n",
      "3/3 [==============================] - 0s 6ms/step - loss: 0.5652 - accuracy: 0.8354\n",
      "Epoch 80/100\n",
      "3/3 [==============================] - 0s 5ms/step - loss: 0.5127 - accuracy: 0.8987\n",
      "Epoch 81/100\n",
      "3/3 [==============================] - 0s 11ms/step - loss: 0.5152 - accuracy: 0.8481\n",
      "Epoch 82/100\n",
      "3/3 [==============================] - 0s 4ms/step - loss: 0.5274 - accuracy: 0.8608\n",
      "Epoch 83/100\n",
      "3/3 [==============================] - 0s 5ms/step - loss: 0.4819 - accuracy: 0.8608\n",
      "Epoch 84/100\n",
      "3/3 [==============================] - 0s 20ms/step - loss: 0.4782 - accuracy: 0.8608\n",
      "Epoch 85/100\n",
      "3/3 [==============================] - 0s 4ms/step - loss: 0.4752 - accuracy: 0.8734\n",
      "Epoch 86/100\n",
      "3/3 [==============================] - 0s 7ms/step - loss: 0.4969 - accuracy: 0.8734\n",
      "Epoch 87/100\n",
      "3/3 [==============================] - 0s 5ms/step - loss: 0.5148 - accuracy: 0.8354\n",
      "Epoch 88/100\n",
      "3/3 [==============================] - 0s 4ms/step - loss: 0.4492 - accuracy: 0.8734\n",
      "Epoch 89/100\n",
      "3/3 [==============================] - 0s 5ms/step - loss: 0.4769 - accuracy: 0.8608\n",
      "Epoch 90/100\n",
      "3/3 [==============================] - 0s 4ms/step - loss: 0.4350 - accuracy: 0.9241\n",
      "Epoch 91/100\n",
      "3/3 [==============================] - 0s 5ms/step - loss: 0.4248 - accuracy: 0.8987\n",
      "Epoch 92/100\n",
      "3/3 [==============================] - 0s 6ms/step - loss: 0.3675 - accuracy: 0.8861\n",
      "Epoch 93/100\n",
      "3/3 [==============================] - 0s 4ms/step - loss: 0.4089 - accuracy: 0.8608\n",
      "Epoch 94/100\n",
      "3/3 [==============================] - 0s 5ms/step - loss: 0.3712 - accuracy: 0.8861\n",
      "Epoch 95/100\n",
      "3/3 [==============================] - 0s 5ms/step - loss: 0.4700 - accuracy: 0.7975\n",
      "Epoch 96/100\n",
      "3/3 [==============================] - 0s 5ms/step - loss: 0.4147 - accuracy: 0.9114\n",
      "Epoch 97/100\n",
      "3/3 [==============================] - 0s 4ms/step - loss: 0.4045 - accuracy: 0.8608\n",
      "Epoch 98/100\n",
      "3/3 [==============================] - 0s 4ms/step - loss: 0.3919 - accuracy: 0.8987\n",
      "Epoch 99/100\n",
      "3/3 [==============================] - 0s 4ms/step - loss: 0.3819 - accuracy: 0.8987\n",
      "Epoch 100/100\n",
      "3/3 [==============================] - 0s 5ms/step - loss: 0.4077 - accuracy: 0.8861\n"
     ]
    },
    {
     "data": {
      "text/plain": [
       "<keras.callbacks.History at 0x2276a49aa40>"
      ]
     },
     "execution_count": 101,
     "metadata": {},
     "output_type": "execute_result"
    }
   ],
   "source": [
    "#x_train = np.asarray(x_train).astype(np.float32)\n",
    "#y_train = np.asarray(y_train).astype(np.float32)\n",
    "model.summary()\n",
    "model.fit(x_train, y_train, verbose=1, epochs=100)"
   ]
  },
  {
   "cell_type": "code",
   "execution_count": 102,
   "metadata": {},
   "outputs": [
    {
     "data": {
      "text/plain": [
       "array([[4, 0, 0, 0, 0, 0, 0],\n",
       "       [0, 3, 0, 0, 0, 0, 0],\n",
       "       [0, 0, 2, 0, 0, 0, 0],\n",
       "       [0, 0, 0, 6, 0, 0, 0],\n",
       "       [0, 0, 1, 0, 2, 0, 0],\n",
       "       [0, 0, 0, 0, 0, 0, 1],\n",
       "       [0, 0, 0, 0, 0, 1, 0]], dtype=int64)"
      ]
     },
     "execution_count": 102,
     "metadata": {},
     "output_type": "execute_result"
    }
   ],
   "source": [
    "from sklearn.metrics import confusion_matrix\n",
    "y_pred_class = np.argmax(model.predict(x_test), axis=-1)\n",
    "y_pred = model.predict(x_test)\n",
    "y_test_class = np.argmax(y_test, axis=1)\n",
    "confusion_matrix(y_test_class, y_pred_class)\n"
   ]
  },
  {
   "cell_type": "code",
   "execution_count": 103,
   "metadata": {},
   "outputs": [
    {
     "name": "stdout",
     "output_type": "stream",
     "text": [
      "              precision    recall  f1-score   support\n",
      "\n",
      "           1       1.00      1.00      1.00         4\n",
      "           2       1.00      1.00      1.00         3\n",
      "           3       0.67      1.00      0.80         2\n",
      "           4       1.00      1.00      1.00         6\n",
      "           5       1.00      0.67      0.80         3\n",
      "           6       0.00      0.00      0.00         1\n",
      "           7       0.00      0.00      0.00         1\n",
      "\n",
      "    accuracy                           0.85        20\n",
      "   macro avg       0.67      0.67      0.66        20\n",
      "weighted avg       0.87      0.85      0.85        20\n",
      "\n"
     ]
    }
   ],
   "source": [
    "from sklearn.metrics import classification_report\n",
    "print(classification_report(y_test_class, y_pred_class))\n"
   ]
  }
 ],
 "metadata": {
  "kernelspec": {
   "display_name": "Python 3",
   "language": "python",
   "name": "python3"
  },
  "language_info": {
   "codemirror_mode": {
    "name": "ipython",
    "version": 3
   },
   "file_extension": ".py",
   "mimetype": "text/x-python",
   "name": "python",
   "nbconvert_exporter": "python",
   "pygments_lexer": "ipython3",
   "version": "3.8.5"
  },
  "vscode": {
   "interpreter": {
    "hash": "fbc768028c3e6ead51d9a200ddcb2ec858ae62844dcd1994729a8279be9b48f2"
   }
  }
 },
 "nbformat": 4,
 "nbformat_minor": 4
}
