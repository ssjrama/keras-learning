{
 "cells": [
  {
   "cell_type": "code",
   "execution_count": 83,
   "metadata": {},
   "outputs": [],
   "source": [
    "import numpy as np\n",
    "import pandas as pd\n",
    "import tensorflow as tf\n",
    "from tensorflow import keras\n",
    "# Keras\n",
    "from keras.models import Sequential\n",
    "from keras.layers import Dense\n",
    "from keras.layers import Dropout\n",
    "import keras.backend as K\n",
    "from keras.utils.np_utils import to_categorical\n",
    "# Train-Test\n",
    "from sklearn.model_selection import train_test_split\n",
    "# Scaling data\n",
    "from sklearn.preprocessing import StandardScaler\n",
    "# Classification Report\n",
    "from sklearn.metrics import classification_report"
   ]
  },
  {
   "cell_type": "code",
   "execution_count": 84,
   "metadata": {},
   "outputs": [],
   "source": [
    "df = pd.read_csv('Fertilizer.csv')"
   ]
  },
  {
   "cell_type": "code",
   "execution_count": 85,
   "metadata": {},
   "outputs": [],
   "source": [
    "# Remove Missing Values\n",
    "na = pd.notnull(df[\"Fertilizer\"])\n",
    "df = df[na]"
   ]
  },
  {
   "cell_type": "code",
   "execution_count": 86,
   "metadata": {},
   "outputs": [],
   "source": [
    "df = df[[\"Fertilizer\", \"Temperature\", \"Humidity\",\n",
    "         \"Moisture\", \"Soil_Type\", \"Crop_Type\", \"Nitrogen\", \"Potassium\", \"Phosphorous\"]]"
   ]
  },
  {
   "cell_type": "code",
   "execution_count": 87,
   "metadata": {},
   "outputs": [],
   "source": [
    "df.loc[df[\"Fertilizer\"] == \"Urea\", \"Fertilizer\"] = 1\n",
    "df.loc[df[\"Fertilizer\"] == \"DAP\", \"Fertilizer\"] = 2\n",
    "df.loc[df[\"Fertilizer\"] == \"28-28\", \"Fertilizer\"] = 3\n",
    "df.loc[df[\"Fertilizer\"] == \"14-35-14\", \"Fertilizer\"] = 4\n",
    "df.loc[df[\"Fertilizer\"] == \"20-20\", \"Fertilizer\"] = 5\n",
    "df.loc[df[\"Fertilizer\"] == \"17-17-17\", \"Fertilizer\"] = 6\n",
    "df.loc[df[\"Fertilizer\"] == \"10-26-26\", \"Fertilizer\"] = 7"
   ]
  },
  {
   "cell_type": "code",
   "execution_count": 88,
   "metadata": {},
   "outputs": [],
   "source": [
    "df.loc[df[\"Soil_Type\"] == \"Loamy\", \"Soil_Type\"] = 1\n",
    "df.loc[df[\"Soil_Type\"] == \"Sandy\", \"Soil_Type\"] = 2\n",
    "df.loc[df[\"Soil_Type\"] == \"Clayey\", \"Soil_Type\"] = 3\n",
    "df.loc[df[\"Soil_Type\"] == \"Black\", \"Soil_Type\"] = 4\n",
    "df.loc[df[\"Soil_Type\"] == \"Red\", \"Soil_Type\"] = 5"
   ]
  },
  {
   "cell_type": "code",
   "execution_count": 89,
   "metadata": {},
   "outputs": [],
   "source": [
    "df.loc[df[\"Crop_Type\"] == \"Sugarcane\", \"Crop_Type\"] = 1\n",
    "df.loc[df[\"Crop_Type\"] == \"Cotton\", \"Crop_Type\"] = 2\n",
    "df.loc[df[\"Crop_Type\"] == \"Millets\", \"Crop_Type\"] = 3\n",
    "df.loc[df[\"Crop_Type\"] == \"Paddy\", \"Crop_Type\"] = 4\n",
    "df.loc[df[\"Crop_Type\"] == \"Pulses\", \"Crop_Type\"] = 5\n",
    "df.loc[df[\"Crop_Type\"] == \"Wheat\", \"Crop_Type\"] = 6\n",
    "df.loc[df[\"Crop_Type\"] == \"Tobacco\", \"Crop_Type\"] = 7\n",
    "df.loc[df[\"Crop_Type\"] == \"Barley\", \"Crop_Type\"] = 8\n",
    "df.loc[df[\"Crop_Type\"] == \"Oil seeds\", \"Crop_Type\"] = 9\n",
    "df.loc[df[\"Crop_Type\"] == \"Ground Nuts\", \"Crop_Type\"] = 10\n",
    "df.loc[df[\"Crop_Type\"] == \"Maize\", \"Crop_Type\"] = 11"
   ]
  },
  {
   "cell_type": "code",
   "execution_count": 90,
   "metadata": {},
   "outputs": [],
   "source": [
    "from sklearn.preprocessing import StandardScaler\n",
    "x = df.drop(\"Fertilizer\", axis=1)\n",
    "sc = StandardScaler()\n",
    "x = pd.DataFrame(sc.fit_transform(x))\n",
    "y = df[\"Fertilizer\"]"
   ]
  },
  {
   "cell_type": "code",
   "execution_count": 91,
   "metadata": {},
   "outputs": [],
   "source": [
    "y_cat = to_categorical(y)"
   ]
  },
  {
   "cell_type": "code",
   "execution_count": 92,
   "metadata": {},
   "outputs": [],
   "source": [
    "from sklearn.model_selection import train_test_split\n",
    "x_train, x_test, y_train, y_test = train_test_split(\n",
    "    x.values, y_cat, test_size=0.2)"
   ]
  },
  {
   "cell_type": "code",
   "execution_count": 93,
   "metadata": {},
   "outputs": [],
   "source": [
    "model = Sequential()\n",
    "model.add(Dense(32, input_shape=(8,), activation=\"relu\"))\n",
    "model.add(Dense(32, activation=\"relu\"))\n",
    "model.add(Dropout(0.5))\n",
    "model.add(Dense(8, activation=\"softmax\"))\n",
    "model.compile(\"adam\", \"categorical_crossentropy\", metrics=[\"accuracy\"])"
   ]
  },
  {
   "cell_type": "code",
   "execution_count": 94,
   "metadata": {},
   "outputs": [
    {
     "name": "stdout",
     "output_type": "stream",
     "text": [
      "Model: \"sequential_4\"\n",
      "_________________________________________________________________\n",
      " Layer (type)                Output Shape              Param #   \n",
      "=================================================================\n",
      " dense_12 (Dense)            (None, 32)                288       \n",
      "                                                                 \n",
      " dense_13 (Dense)            (None, 32)                1056      \n",
      "                                                                 \n",
      " dropout_4 (Dropout)         (None, 32)                0         \n",
      "                                                                 \n",
      " dense_14 (Dense)            (None, 8)                 264       \n",
      "                                                                 \n",
      "=================================================================\n",
      "Total params: 1,608\n",
      "Trainable params: 1,608\n",
      "Non-trainable params: 0\n",
      "_________________________________________________________________\n",
      "Epoch 1/100\n",
      "3/3 [==============================] - 1s 4ms/step - loss: 2.1194 - accuracy: 0.0886\n",
      "Epoch 2/100\n",
      "3/3 [==============================] - 0s 4ms/step - loss: 2.1229 - accuracy: 0.1266\n",
      "Epoch 3/100\n",
      "3/3 [==============================] - 0s 4ms/step - loss: 2.0601 - accuracy: 0.1646\n",
      "Epoch 4/100\n",
      "3/3 [==============================] - 0s 4ms/step - loss: 2.0522 - accuracy: 0.1519\n",
      "Epoch 5/100\n",
      "3/3 [==============================] - 0s 4ms/step - loss: 2.0182 - accuracy: 0.1646\n",
      "Epoch 6/100\n",
      "3/3 [==============================] - 0s 4ms/step - loss: 1.9878 - accuracy: 0.1772\n",
      "Epoch 7/100\n",
      "3/3 [==============================] - 0s 3ms/step - loss: 1.8879 - accuracy: 0.2658\n",
      "Epoch 8/100\n",
      "3/3 [==============================] - 0s 5ms/step - loss: 1.8919 - accuracy: 0.2025\n",
      "Epoch 9/100\n",
      "3/3 [==============================] - 0s 4ms/step - loss: 1.7847 - accuracy: 0.3038\n",
      "Epoch 10/100\n",
      "3/3 [==============================] - 0s 4ms/step - loss: 1.8175 - accuracy: 0.3291\n",
      "Epoch 11/100\n",
      "3/3 [==============================] - 0s 3ms/step - loss: 1.8060 - accuracy: 0.2911\n",
      "Epoch 12/100\n",
      "3/3 [==============================] - 0s 4ms/step - loss: 1.8271 - accuracy: 0.3165\n",
      "Epoch 13/100\n",
      "3/3 [==============================] - 0s 5ms/step - loss: 1.6898 - accuracy: 0.3671\n",
      "Epoch 14/100\n",
      "3/3 [==============================] - 0s 3ms/step - loss: 1.6772 - accuracy: 0.3544\n",
      "Epoch 15/100\n",
      "3/3 [==============================] - 0s 5ms/step - loss: 1.7177 - accuracy: 0.3418\n",
      "Epoch 16/100\n",
      "3/3 [==============================] - 0s 3ms/step - loss: 1.6513 - accuracy: 0.4177\n",
      "Epoch 17/100\n",
      "3/3 [==============================] - 0s 5ms/step - loss: 1.6962 - accuracy: 0.3544\n",
      "Epoch 18/100\n",
      "3/3 [==============================] - 0s 3ms/step - loss: 1.6239 - accuracy: 0.3544\n",
      "Epoch 19/100\n",
      "3/3 [==============================] - 0s 4ms/step - loss: 1.6243 - accuracy: 0.3924\n",
      "Epoch 20/100\n",
      "3/3 [==============================] - 0s 4ms/step - loss: 1.6693 - accuracy: 0.3671\n",
      "Epoch 21/100\n",
      "3/3 [==============================] - 0s 3ms/step - loss: 1.5051 - accuracy: 0.5190\n",
      "Epoch 22/100\n",
      "3/3 [==============================] - 0s 2ms/step - loss: 1.4925 - accuracy: 0.4937\n",
      "Epoch 23/100\n",
      "3/3 [==============================] - 0s 4ms/step - loss: 1.5002 - accuracy: 0.4557\n",
      "Epoch 24/100\n",
      "3/3 [==============================] - 0s 4ms/step - loss: 1.5374 - accuracy: 0.3797\n",
      "Epoch 25/100\n",
      "3/3 [==============================] - 0s 5ms/step - loss: 1.4778 - accuracy: 0.4684\n",
      "Epoch 26/100\n",
      "3/3 [==============================] - 0s 4ms/step - loss: 1.4705 - accuracy: 0.5570\n",
      "Epoch 27/100\n",
      "3/3 [==============================] - 0s 4ms/step - loss: 1.3797 - accuracy: 0.5823\n",
      "Epoch 28/100\n",
      "3/3 [==============================] - 0s 4ms/step - loss: 1.3767 - accuracy: 0.5190\n",
      "Epoch 29/100\n",
      "3/3 [==============================] - 0s 4ms/step - loss: 1.4642 - accuracy: 0.4051\n",
      "Epoch 30/100\n",
      "3/3 [==============================] - 0s 4ms/step - loss: 1.2912 - accuracy: 0.5316\n",
      "Epoch 31/100\n",
      "3/3 [==============================] - 0s 4ms/step - loss: 1.3822 - accuracy: 0.5063\n",
      "Epoch 32/100\n",
      "3/3 [==============================] - 0s 4ms/step - loss: 1.3223 - accuracy: 0.5696\n",
      "Epoch 33/100\n",
      "3/3 [==============================] - 0s 4ms/step - loss: 1.2811 - accuracy: 0.5570\n",
      "Epoch 34/100\n",
      "3/3 [==============================] - 0s 3ms/step - loss: 1.3254 - accuracy: 0.5823\n",
      "Epoch 35/100\n",
      "3/3 [==============================] - 0s 4ms/step - loss: 1.2191 - accuracy: 0.5443\n",
      "Epoch 36/100\n",
      "3/3 [==============================] - 0s 5ms/step - loss: 1.2278 - accuracy: 0.5316\n",
      "Epoch 37/100\n",
      "3/3 [==============================] - 0s 4ms/step - loss: 1.2790 - accuracy: 0.5823\n",
      "Epoch 38/100\n",
      "3/3 [==============================] - 0s 7ms/step - loss: 1.0980 - accuracy: 0.5823\n",
      "Epoch 39/100\n",
      "3/3 [==============================] - 0s 4ms/step - loss: 1.1820 - accuracy: 0.6709\n",
      "Epoch 40/100\n",
      "3/3 [==============================] - 0s 5ms/step - loss: 1.1234 - accuracy: 0.6582\n",
      "Epoch 41/100\n",
      "3/3 [==============================] - 0s 5ms/step - loss: 1.1592 - accuracy: 0.6962\n",
      "Epoch 42/100\n",
      "3/3 [==============================] - 0s 5ms/step - loss: 1.0379 - accuracy: 0.6962\n",
      "Epoch 43/100\n",
      "3/3 [==============================] - 0s 4ms/step - loss: 1.0276 - accuracy: 0.6709\n",
      "Epoch 44/100\n",
      "3/3 [==============================] - 0s 4ms/step - loss: 0.9546 - accuracy: 0.7342\n",
      "Epoch 45/100\n",
      "3/3 [==============================] - 0s 4ms/step - loss: 0.9810 - accuracy: 0.7342\n",
      "Epoch 46/100\n",
      "3/3 [==============================] - 0s 2ms/step - loss: 1.0482 - accuracy: 0.6456\n",
      "Epoch 47/100\n",
      "3/3 [==============================] - 0s 5ms/step - loss: 0.9817 - accuracy: 0.6709\n",
      "Epoch 48/100\n",
      "3/3 [==============================] - 0s 3ms/step - loss: 0.9512 - accuracy: 0.6709\n",
      "Epoch 49/100\n",
      "3/3 [==============================] - 0s 7ms/step - loss: 0.9118 - accuracy: 0.6962\n",
      "Epoch 50/100\n",
      "3/3 [==============================] - 0s 4ms/step - loss: 0.9041 - accuracy: 0.7848\n",
      "Epoch 51/100\n",
      "3/3 [==============================] - 0s 5ms/step - loss: 0.8945 - accuracy: 0.7595\n",
      "Epoch 52/100\n",
      "3/3 [==============================] - 0s 4ms/step - loss: 0.8733 - accuracy: 0.6835\n",
      "Epoch 53/100\n",
      "3/3 [==============================] - 0s 3ms/step - loss: 0.8668 - accuracy: 0.7468\n",
      "Epoch 54/100\n",
      "3/3 [==============================] - 0s 4ms/step - loss: 0.8536 - accuracy: 0.7342\n",
      "Epoch 55/100\n",
      "3/3 [==============================] - 0s 5ms/step - loss: 0.9357 - accuracy: 0.7342\n",
      "Epoch 56/100\n",
      "3/3 [==============================] - 0s 5ms/step - loss: 0.8676 - accuracy: 0.7595\n",
      "Epoch 57/100\n",
      "3/3 [==============================] - 0s 4ms/step - loss: 0.8356 - accuracy: 0.7468\n",
      "Epoch 58/100\n",
      "3/3 [==============================] - 0s 5ms/step - loss: 0.8286 - accuracy: 0.7722\n",
      "Epoch 59/100\n",
      "3/3 [==============================] - 0s 6ms/step - loss: 0.7865 - accuracy: 0.7215\n",
      "Epoch 60/100\n",
      "3/3 [==============================] - 0s 3ms/step - loss: 0.7824 - accuracy: 0.7975\n",
      "Epoch 61/100\n",
      "3/3 [==============================] - 0s 7ms/step - loss: 0.7455 - accuracy: 0.7848\n",
      "Epoch 62/100\n",
      "3/3 [==============================] - 0s 5ms/step - loss: 0.7348 - accuracy: 0.7975\n",
      "Epoch 63/100\n",
      "3/3 [==============================] - 0s 5ms/step - loss: 0.6829 - accuracy: 0.7595\n",
      "Epoch 64/100\n",
      "3/3 [==============================] - 0s 4ms/step - loss: 0.6941 - accuracy: 0.7468\n",
      "Epoch 65/100\n",
      "3/3 [==============================] - 0s 4ms/step - loss: 0.7475 - accuracy: 0.7595\n",
      "Epoch 66/100\n",
      "3/3 [==============================] - 0s 3ms/step - loss: 0.7292 - accuracy: 0.7975\n",
      "Epoch 67/100\n",
      "3/3 [==============================] - 0s 4ms/step - loss: 0.7099 - accuracy: 0.8101\n",
      "Epoch 68/100\n",
      "3/3 [==============================] - 0s 3ms/step - loss: 0.6952 - accuracy: 0.7848\n",
      "Epoch 69/100\n",
      "3/3 [==============================] - 0s 4ms/step - loss: 0.6705 - accuracy: 0.8101\n",
      "Epoch 70/100\n",
      "3/3 [==============================] - 0s 4ms/step - loss: 0.6243 - accuracy: 0.8608\n",
      "Epoch 71/100\n",
      "3/3 [==============================] - 0s 4ms/step - loss: 0.5640 - accuracy: 0.8101\n",
      "Epoch 72/100\n",
      "3/3 [==============================] - 0s 5ms/step - loss: 0.6628 - accuracy: 0.8354\n",
      "Epoch 73/100\n",
      "3/3 [==============================] - 0s 4ms/step - loss: 0.6181 - accuracy: 0.8608\n",
      "Epoch 74/100\n",
      "3/3 [==============================] - 0s 4ms/step - loss: 0.6985 - accuracy: 0.8228\n",
      "Epoch 75/100\n",
      "3/3 [==============================] - 0s 7ms/step - loss: 0.6834 - accuracy: 0.7595\n",
      "Epoch 76/100\n",
      "3/3 [==============================] - 0s 3ms/step - loss: 0.5677 - accuracy: 0.8101\n",
      "Epoch 77/100\n",
      "3/3 [==============================] - 0s 6ms/step - loss: 0.4566 - accuracy: 0.8987\n",
      "Epoch 78/100\n",
      "3/3 [==============================] - 0s 3ms/step - loss: 0.5614 - accuracy: 0.8608\n",
      "Epoch 79/100\n",
      "3/3 [==============================] - 0s 5ms/step - loss: 0.4771 - accuracy: 0.8734\n",
      "Epoch 80/100\n",
      "3/3 [==============================] - 0s 5ms/step - loss: 0.6329 - accuracy: 0.7975\n",
      "Epoch 81/100\n",
      "3/3 [==============================] - 0s 5ms/step - loss: 0.6006 - accuracy: 0.8481\n",
      "Epoch 82/100\n",
      "3/3 [==============================] - 0s 5ms/step - loss: 0.5676 - accuracy: 0.8987\n",
      "Epoch 83/100\n",
      "3/3 [==============================] - 0s 4ms/step - loss: 0.5916 - accuracy: 0.8101\n",
      "Epoch 84/100\n",
      "3/3 [==============================] - 0s 4ms/step - loss: 0.4999 - accuracy: 0.8861\n",
      "Epoch 85/100\n",
      "3/3 [==============================] - 0s 5ms/step - loss: 0.5471 - accuracy: 0.8481\n",
      "Epoch 86/100\n",
      "3/3 [==============================] - 0s 4ms/step - loss: 0.5104 - accuracy: 0.8734\n",
      "Epoch 87/100\n",
      "3/3 [==============================] - 0s 3ms/step - loss: 0.5125 - accuracy: 0.8734\n",
      "Epoch 88/100\n",
      "3/3 [==============================] - 0s 3ms/step - loss: 0.4760 - accuracy: 0.9114\n",
      "Epoch 89/100\n",
      "3/3 [==============================] - 0s 4ms/step - loss: 0.5172 - accuracy: 0.8608\n",
      "Epoch 90/100\n",
      "3/3 [==============================] - 0s 3ms/step - loss: 0.5581 - accuracy: 0.8481\n",
      "Epoch 91/100\n",
      "3/3 [==============================] - 0s 4ms/step - loss: 0.4241 - accuracy: 0.9494\n",
      "Epoch 92/100\n",
      "3/3 [==============================] - 0s 3ms/step - loss: 0.5032 - accuracy: 0.8608\n",
      "Epoch 93/100\n",
      "3/3 [==============================] - 0s 3ms/step - loss: 0.4808 - accuracy: 0.8861\n",
      "Epoch 94/100\n",
      "3/3 [==============================] - 0s 3ms/step - loss: 0.4112 - accuracy: 0.9241\n",
      "Epoch 95/100\n",
      "3/3 [==============================] - 0s 3ms/step - loss: 0.4465 - accuracy: 0.9114\n",
      "Epoch 96/100\n",
      "3/3 [==============================] - 0s 4ms/step - loss: 0.3926 - accuracy: 0.9114\n",
      "Epoch 97/100\n",
      "3/3 [==============================] - 0s 4ms/step - loss: 0.3787 - accuracy: 0.9241\n",
      "Epoch 98/100\n",
      "3/3 [==============================] - 0s 4ms/step - loss: 0.4409 - accuracy: 0.8861\n",
      "Epoch 99/100\n",
      "3/3 [==============================] - 0s 4ms/step - loss: 0.3727 - accuracy: 0.8987\n",
      "Epoch 100/100\n",
      "3/3 [==============================] - 0s 3ms/step - loss: 0.3384 - accuracy: 0.9367\n"
     ]
    },
    {
     "data": {
      "text/plain": [
       "<keras.callbacks.History at 0x1a185113e80>"
      ]
     },
     "execution_count": 94,
     "metadata": {},
     "output_type": "execute_result"
    }
   ],
   "source": [
    "model.summary()\n",
    "model.fit(x_train, y_train, verbose=1, epochs=100)"
   ]
  },
  {
   "cell_type": "code",
   "execution_count": 95,
   "metadata": {},
   "outputs": [],
   "source": [
    "import itertools\n",
    "import matplotlib.pyplot as plt\n",
    "def plot_confusion_matrix(cm, classes,\n",
    "                          normalize=False,\n",
    "                          title='Confusion matrix',\n",
    "                          cmap=plt.cm.Blues):\n",
    "    \"\"\"\n",
    "    This function prints and plots the confusion matrix.\n",
    "    Normalization can be applied by setting `normalize=True`.\n",
    "    \"\"\"\n",
    "    plt.imshow(cm, interpolation='nearest', cmap=cmap)\n",
    "    plt.title(title)\n",
    "    plt.colorbar()\n",
    "    tick_marks = np.arange(len(classes))\n",
    "    plt.xticks(tick_marks, classes, rotation=45)\n",
    "    plt.yticks(tick_marks, classes)\n",
    "\n",
    "#     if normalize:\n",
    "#         cm = cm.astype('float') / cm.sum(axis=1)[:, np.newaxis]\n",
    "#         print(\"Normalized confusion matrix\")\n",
    "#     else:\n",
    "#         print('Confusion matrix, without normalization')\n",
    "\n",
    "#     print(cm)\n",
    "\n",
    "    thresh = cm.max() / 2.\n",
    "    for i, j in itertools.product(range(cm.shape[0]), range(cm.shape[1])):\n",
    "        plt.text(j, i, cm[i, j],\n",
    "                 horizontalalignment=\"center\",\n",
    "                 color=\"white\" if cm[i, j] > thresh else \"black\")\n",
    "\n",
    "    plt.tight_layout()\n",
    "    plt.ylabel('True label')\n",
    "    plt.xlabel('Predicted label')\n"
   ]
  },
  {
   "cell_type": "code",
   "execution_count": 96,
   "metadata": {},
   "outputs": [
    {
     "name": "stdout",
     "output_type": "stream",
     "text": [
      "WARNING:tensorflow:5 out of the last 9 calls to <function Model.make_predict_function.<locals>.predict_function at 0x000001A18511D3F0> triggered tf.function retracing. Tracing is expensive and the excessive number of tracings could be due to (1) creating @tf.function repeatedly in a loop, (2) passing tensors with different shapes, (3) passing Python objects instead of tensors. For (1), please define your @tf.function outside of the loop. For (2), @tf.function has experimental_relax_shapes=True option that relaxes argument shapes that can avoid unnecessary retracing. For (3), please refer to https://www.tensorflow.org/guide/function#controlling_retracing and https://www.tensorflow.org/api_docs/python/tf/function for  more details.\n",
      "              precision    recall  f1-score   support\n",
      "\n",
      "           1       1.00      1.00      1.00         4\n",
      "           2       0.50      1.00      0.67         1\n",
      "           3       1.00      0.75      0.86         4\n",
      "           4       0.75      1.00      0.86         3\n",
      "           5       1.00      1.00      1.00         3\n",
      "           6       1.00      1.00      1.00         2\n",
      "           7       1.00      0.67      0.80         3\n",
      "\n",
      "    accuracy                           0.90        20\n",
      "   macro avg       0.89      0.92      0.88        20\n",
      "weighted avg       0.94      0.90      0.90        20\n",
      "\n"
     ]
    },
    {
     "data": {
      "text/plain": [
       "array([[4, 0, 0, 0, 0, 0, 0],\n",
       "       [0, 1, 0, 0, 0, 0, 0],\n",
       "       [0, 1, 3, 0, 0, 0, 0],\n",
       "       [0, 0, 0, 3, 0, 0, 0],\n",
       "       [0, 0, 0, 0, 3, 0, 0],\n",
       "       [0, 0, 0, 0, 0, 2, 0],\n",
       "       [0, 0, 0, 1, 0, 0, 2]], dtype=int64)"
      ]
     },
     "execution_count": 96,
     "metadata": {},
     "output_type": "execute_result"
    }
   ],
   "source": [
    "from sklearn.metrics import classification_report\n",
    "from sklearn.metrics import confusion_matrix\n",
    "y_pred_class = np.argmax(model.predict(x_test), axis=-1)\n",
    "y_pred = model.predict(x_test)\n",
    "y_test_class = np.argmax(y_test, axis=1)\n",
    "print(classification_report(y_test_class, y_pred_class))\n",
    "confusion_matrix(y_test_class, y_pred_class)\n"
   ]
  },
  {
   "cell_type": "code",
   "execution_count": 99,
   "metadata": {},
   "outputs": [
    {
     "data": {
      "image/png": "[encoded data removed]",
      "text/plain": [
       "<Figure size 432x288 with 2 Axes>"
      ]
     },
     "metadata": {
      "needs_background": "light"
     },
     "output_type": "display_data"
    }
   ],
   "source": [
    "cm = confusion_matrix(y_test_class, y_pred_class)\n",
    "cm_plot_labels = ['1', '2', '3', '4', '5', '6', '7']\n",
    "plot_confusion_matrix(cm=cm, classes=cm_plot_labels, title='Confusion Matrix')\n"
   ]
  },
  {
   "cell_type": "code",
   "execution_count": 98,
   "metadata": {},
   "outputs": [],
   "source": [
    "model.save('model-f.h5')"
   ]
  }
 ],
 "metadata": {
  "kernelspec": {
   "display_name": "Python 3",
   "language": "python",
   "name": "python3"
  },
  "language_info": {
   "codemirror_mode": {
    "name": "ipython",
    "version": 3
   },
   "file_extension": ".py",
   "mimetype": "text/x-python",
   "name": "python",
   "nbconvert_exporter": "python",
   "pygments_lexer": "ipython3",
   "version": "3.10.4"
  },
  "vscode": {
   "interpreter": {
    "hash": "fbc768028c3e6ead51d9a200ddcb2ec858ae62844dcd1994729a8279be9b48f2"
   }
  }
 },
 "nbformat": 4,
 "nbformat_minor": 4
}
