{
 "cells": [
  {
   "cell_type": "code",
   "execution_count": 1,
   "metadata": {},
   "outputs": [],
   "source": [
    "import numpy as np\n",
    "import pandas as pd\n",
    "import tensorflow as tf\n",
    "from tensorflow import keras\n",
    "# Keras\n",
    "from keras.models import Sequential\n",
    "from keras.layers import Dense\n",
    "from keras.layers import Dropout\n",
    "import keras.backend as K\n",
    "from keras.utils.np_utils import to_categorical\n",
    "# Train-Test\n",
    "from sklearn.model_selection import train_test_split\n",
    "# Scaling data\n",
    "from sklearn.preprocessing import StandardScaler\n",
    "# Classification Report\n",
    "from sklearn.metrics import classification_report"
   ]
  },
  {
   "cell_type": "code",
   "execution_count": 2,
   "metadata": {},
   "outputs": [],
   "source": [
    "df = pd.read_csv('Fertilizer.csv')"
   ]
  },
  {
   "cell_type": "code",
   "execution_count": 3,
   "metadata": {},
   "outputs": [],
   "source": [
    "# Remove Missing Values\n",
    "na = pd.notnull(df[\"Fertilizer\"])\n",
    "df = df[na]"
   ]
  },
  {
   "cell_type": "code",
   "execution_count": 4,
   "metadata": {},
   "outputs": [],
   "source": [
    "df = df[[\"Fertilizer\", \"Temperature\", \"Humidity\",\n",
    "         \"Moisture\", \"Soil_Type\", \"Crop_Type\", \"Nitrogen\", \"Potassium\", \"Phosphorous\"]]"
   ]
  },
  {
   "cell_type": "code",
   "execution_count": 5,
   "metadata": {},
   "outputs": [],
   "source": [
    "df.loc[df[\"Fertilizer\"] == \"Urea\", \"Fertilizer\"] = 1\n",
    "df.loc[df[\"Fertilizer\"] == \"DAP\", \"Fertilizer\"] = 2\n",
    "df.loc[df[\"Fertilizer\"] == \"28-28\", \"Fertilizer\"] = 3\n",
    "df.loc[df[\"Fertilizer\"] == \"14-35-14\", \"Fertilizer\"] = 4\n",
    "df.loc[df[\"Fertilizer\"] == \"20-20\", \"Fertilizer\"] = 5\n",
    "df.loc[df[\"Fertilizer\"] == \"17-17-17\", \"Fertilizer\"] = 6\n",
    "df.loc[df[\"Fertilizer\"] == \"10-26-26\", \"Fertilizer\"] = 7"
   ]
  },
  {
   "cell_type": "code",
   "execution_count": 6,
   "metadata": {},
   "outputs": [],
   "source": [
    "df.loc[df[\"Soil_Type\"] == \"Loamy\", \"Soil_Type\"] = 1\n",
    "df.loc[df[\"Soil_Type\"] == \"Sandy\", \"Soil_Type\"] = 2\n",
    "df.loc[df[\"Soil_Type\"] == \"Clayey\", \"Soil_Type\"] = 3\n",
    "df.loc[df[\"Soil_Type\"] == \"Black\", \"Soil_Type\"] = 4\n",
    "df.loc[df[\"Soil_Type\"] == \"Red\", \"Soil_Type\"] = 5"
   ]
  },
  {
   "cell_type": "code",
   "execution_count": 7,
   "metadata": {},
   "outputs": [],
   "source": [
    "df.loc[df[\"Crop_Type\"] == \"Sugarcane\", \"Crop_Type\"] = 1\n",
    "df.loc[df[\"Crop_Type\"] == \"Cotton\", \"Crop_Type\"] = 2\n",
    "df.loc[df[\"Crop_Type\"] == \"Millets\", \"Crop_Type\"] = 3\n",
    "df.loc[df[\"Crop_Type\"] == \"Paddy\", \"Crop_Type\"] = 4\n",
    "df.loc[df[\"Crop_Type\"] == \"Pulses\", \"Crop_Type\"] = 5\n",
    "df.loc[df[\"Crop_Type\"] == \"Wheat\", \"Crop_Type\"] = 6\n",
    "df.loc[df[\"Crop_Type\"] == \"Tobacco\", \"Crop_Type\"] = 7\n",
    "df.loc[df[\"Crop_Type\"] == \"Barley\", \"Crop_Type\"] = 8\n",
    "df.loc[df[\"Crop_Type\"] == \"Oil seeds\", \"Crop_Type\"] = 9\n",
    "df.loc[df[\"Crop_Type\"] == \"Ground Nuts\", \"Crop_Type\"] = 10\n",
    "df.loc[df[\"Crop_Type\"] == \"Maize\", \"Crop_Type\"] = 11"
   ]
  },
  {
   "cell_type": "code",
   "execution_count": 8,
   "metadata": {},
   "outputs": [],
   "source": [
    "from sklearn.preprocessing import StandardScaler\n",
    "x = df.drop(\"Fertilizer\", axis=1)\n",
    "sc = StandardScaler()\n",
    "x = pd.DataFrame(sc.fit_transform(x))\n",
    "y = df[\"Fertilizer\"]"
   ]
  },
  {
   "cell_type": "code",
   "execution_count": 9,
   "metadata": {},
   "outputs": [],
   "source": [
    "y_cat = to_categorical(y)"
   ]
  },
  {
   "cell_type": "code",
   "execution_count": 10,
   "metadata": {},
   "outputs": [],
   "source": [
    "from sklearn.model_selection import train_test_split\n",
    "x_train, x_test, y_train, y_test = train_test_split(\n",
    "    x.values, y_cat, test_size=0.2)"
   ]
  },
  {
   "cell_type": "code",
   "execution_count": 11,
   "metadata": {},
   "outputs": [],
   "source": [
    "model = Sequential()\n",
    "model.add(Dense(32, input_shape=(8,), activation=\"relu\"))\n",
    "model.add(Dense(32, activation=\"relu\"))\n",
    "model.add(Dropout(0.5))\n",
    "model.add(Dense(8, activation=\"softmax\"))\n",
    "model.compile(\"adam\", \"categorical_crossentropy\", metrics=[\"accuracy\"])"
   ]
  },
  {
   "cell_type": "code",
   "execution_count": 12,
   "metadata": {},
   "outputs": [
    {
     "name": "stdout",
     "output_type": "stream",
     "text": [
      "Model: \"sequential\"\n",
      "_________________________________________________________________\n",
      " Layer (type)                Output Shape              Param #   \n",
      "=================================================================\n",
      " dense (Dense)               (None, 32)                288       \n",
      "                                                                 \n",
      " dense_1 (Dense)             (None, 32)                1056      \n",
      "                                                                 \n",
      " dropout (Dropout)           (None, 32)                0         \n",
      "                                                                 \n",
      " dense_2 (Dense)             (None, 8)                 264       \n",
      "                                                                 \n",
      "=================================================================\n",
      "Total params: 1,608\n",
      "Trainable params: 1,608\n",
      "Non-trainable params: 0\n",
      "_________________________________________________________________\n",
      "Epoch 1/100\n",
      "3/3 [==============================] - 1s 3ms/step - loss: 2.2430 - accuracy: 0.1266\n",
      "Epoch 2/100\n",
      "3/3 [==============================] - 0s 4ms/step - loss: 2.1273 - accuracy: 0.2152\n",
      "Epoch 3/100\n",
      "3/3 [==============================] - 0s 4ms/step - loss: 2.1131 - accuracy: 0.2152\n",
      "Epoch 4/100\n",
      "3/3 [==============================] - 0s 3ms/step - loss: 1.9833 - accuracy: 0.2532\n",
      "Epoch 5/100\n",
      "3/3 [==============================] - 0s 4ms/step - loss: 1.9499 - accuracy: 0.2532\n",
      "Epoch 6/100\n",
      "3/3 [==============================] - 0s 4ms/step - loss: 1.9802 - accuracy: 0.2658\n",
      "Epoch 7/100\n",
      "3/3 [==============================] - 0s 4ms/step - loss: 1.9640 - accuracy: 0.2278\n",
      "Epoch 8/100\n",
      "3/3 [==============================] - 0s 5ms/step - loss: 1.8680 - accuracy: 0.3291\n",
      "Epoch 9/100\n",
      "3/3 [==============================] - 0s 4ms/step - loss: 1.8644 - accuracy: 0.2911\n",
      "Epoch 10/100\n",
      "3/3 [==============================] - 0s 4ms/step - loss: 1.8999 - accuracy: 0.3291\n",
      "Epoch 11/100\n",
      "3/3 [==============================] - 0s 4ms/step - loss: 1.9096 - accuracy: 0.2405\n",
      "Epoch 12/100\n",
      "3/3 [==============================] - 0s 3ms/step - loss: 1.8470 - accuracy: 0.3165\n",
      "Epoch 13/100\n",
      "3/3 [==============================] - 0s 4ms/step - loss: 1.8264 - accuracy: 0.3418\n",
      "Epoch 14/100\n",
      "3/3 [==============================] - 0s 5ms/step - loss: 1.8631 - accuracy: 0.2911\n",
      "Epoch 15/100\n",
      "3/3 [==============================] - 0s 3ms/step - loss: 1.7540 - accuracy: 0.3291\n",
      "Epoch 16/100\n",
      "3/3 [==============================] - 0s 4ms/step - loss: 1.7159 - accuracy: 0.4177\n",
      "Epoch 17/100\n",
      "3/3 [==============================] - 0s 3ms/step - loss: 1.7366 - accuracy: 0.4177\n",
      "Epoch 18/100\n",
      "3/3 [==============================] - 0s 3ms/step - loss: 1.7335 - accuracy: 0.3671\n",
      "Epoch 19/100\n",
      "3/3 [==============================] - 0s 3ms/step - loss: 1.6996 - accuracy: 0.4810\n",
      "Epoch 20/100\n",
      "3/3 [==============================] - 0s 4ms/step - loss: 1.6619 - accuracy: 0.4177\n",
      "Epoch 21/100\n",
      "3/3 [==============================] - 0s 5ms/step - loss: 1.6123 - accuracy: 0.5063\n",
      "Epoch 22/100\n",
      "3/3 [==============================] - 0s 4ms/step - loss: 1.6048 - accuracy: 0.4177\n",
      "Epoch 23/100\n",
      "3/3 [==============================] - 0s 4ms/step - loss: 1.6326 - accuracy: 0.4304\n",
      "Epoch 24/100\n",
      "3/3 [==============================] - 0s 3ms/step - loss: 1.5903 - accuracy: 0.4937\n",
      "Epoch 25/100\n",
      "3/3 [==============================] - 0s 4ms/step - loss: 1.5189 - accuracy: 0.5190\n",
      "Epoch 26/100\n",
      "3/3 [==============================] - 0s 6ms/step - loss: 1.5121 - accuracy: 0.5316\n",
      "Epoch 27/100\n",
      "3/3 [==============================] - 0s 4ms/step - loss: 1.5313 - accuracy: 0.5190\n",
      "Epoch 28/100\n",
      "3/3 [==============================] - 0s 4ms/step - loss: 1.4217 - accuracy: 0.5696\n",
      "Epoch 29/100\n",
      "3/3 [==============================] - 0s 4ms/step - loss: 1.3584 - accuracy: 0.5570\n",
      "Epoch 30/100\n",
      "3/3 [==============================] - 0s 5ms/step - loss: 1.3312 - accuracy: 0.5949\n",
      "Epoch 31/100\n",
      "3/3 [==============================] - 0s 5ms/step - loss: 1.4797 - accuracy: 0.4937\n",
      "Epoch 32/100\n",
      "3/3 [==============================] - 0s 4ms/step - loss: 1.4259 - accuracy: 0.5949\n",
      "Epoch 33/100\n",
      "3/3 [==============================] - 0s 4ms/step - loss: 1.4473 - accuracy: 0.4937\n",
      "Epoch 34/100\n",
      "3/3 [==============================] - 0s 5ms/step - loss: 1.3926 - accuracy: 0.4937\n",
      "Epoch 35/100\n",
      "3/3 [==============================] - 0s 5ms/step - loss: 1.4262 - accuracy: 0.5316\n",
      "Epoch 36/100\n",
      "3/3 [==============================] - 0s 7ms/step - loss: 1.3507 - accuracy: 0.5570\n",
      "Epoch 37/100\n",
      "3/3 [==============================] - 0s 7ms/step - loss: 1.3166 - accuracy: 0.5443\n",
      "Epoch 38/100\n",
      "3/3 [==============================] - 0s 5ms/step - loss: 1.2817 - accuracy: 0.5949\n",
      "Epoch 39/100\n",
      "3/3 [==============================] - 0s 4ms/step - loss: 1.2976 - accuracy: 0.5696\n",
      "Epoch 40/100\n",
      "3/3 [==============================] - 0s 4ms/step - loss: 1.3319 - accuracy: 0.5316\n",
      "Epoch 41/100\n",
      "3/3 [==============================] - 0s 6ms/step - loss: 1.2814 - accuracy: 0.5443\n",
      "Epoch 42/100\n",
      "3/3 [==============================] - 0s 6ms/step - loss: 1.2514 - accuracy: 0.5190\n",
      "Epoch 43/100\n",
      "3/3 [==============================] - 0s 8ms/step - loss: 1.2342 - accuracy: 0.5823\n",
      "Epoch 44/100\n",
      "3/3 [==============================] - 0s 15ms/step - loss: 1.2483 - accuracy: 0.5696\n",
      "Epoch 45/100\n",
      "3/3 [==============================] - 0s 4ms/step - loss: 1.1866 - accuracy: 0.5823\n",
      "Epoch 46/100\n",
      "3/3 [==============================] - 0s 4ms/step - loss: 1.1298 - accuracy: 0.6456\n",
      "Epoch 47/100\n",
      "3/3 [==============================] - 0s 11ms/step - loss: 1.1128 - accuracy: 0.6329\n",
      "Epoch 48/100\n",
      "3/3 [==============================] - 0s 4ms/step - loss: 1.1691 - accuracy: 0.5823\n",
      "Epoch 49/100\n",
      "3/3 [==============================] - 0s 5ms/step - loss: 1.1152 - accuracy: 0.5696\n",
      "Epoch 50/100\n",
      "3/3 [==============================] - 0s 4ms/step - loss: 1.1071 - accuracy: 0.6582\n",
      "Epoch 51/100\n",
      "3/3 [==============================] - 0s 4ms/step - loss: 1.0295 - accuracy: 0.6962\n",
      "Epoch 52/100\n",
      "3/3 [==============================] - 0s 4ms/step - loss: 1.1951 - accuracy: 0.5823\n",
      "Epoch 53/100\n",
      "3/3 [==============================] - 0s 4ms/step - loss: 1.1277 - accuracy: 0.6076\n",
      "Epoch 54/100\n",
      "3/3 [==============================] - 0s 4ms/step - loss: 1.1422 - accuracy: 0.5696\n",
      "Epoch 55/100\n",
      "3/3 [==============================] - 0s 4ms/step - loss: 1.0613 - accuracy: 0.5696\n",
      "Epoch 56/100\n",
      "3/3 [==============================] - 0s 4ms/step - loss: 0.9527 - accuracy: 0.6582\n",
      "Epoch 57/100\n",
      "3/3 [==============================] - 0s 5ms/step - loss: 0.9878 - accuracy: 0.6329\n",
      "Epoch 58/100\n",
      "3/3 [==============================] - 0s 6ms/step - loss: 0.9905 - accuracy: 0.6962\n",
      "Epoch 59/100\n",
      "3/3 [==============================] - 0s 4ms/step - loss: 0.9930 - accuracy: 0.6962\n",
      "Epoch 60/100\n",
      "3/3 [==============================] - 0s 4ms/step - loss: 0.9420 - accuracy: 0.6962\n",
      "Epoch 61/100\n",
      "3/3 [==============================] - 0s 4ms/step - loss: 1.0473 - accuracy: 0.6076\n",
      "Epoch 62/100\n",
      "3/3 [==============================] - 0s 3ms/step - loss: 0.9881 - accuracy: 0.5823\n",
      "Epoch 63/100\n",
      "3/3 [==============================] - 0s 5ms/step - loss: 0.9100 - accuracy: 0.7089\n",
      "Epoch 64/100\n",
      "3/3 [==============================] - 0s 4ms/step - loss: 0.8425 - accuracy: 0.7342\n",
      "Epoch 65/100\n",
      "3/3 [==============================] - 0s 2ms/step - loss: 0.9307 - accuracy: 0.7089\n",
      "Epoch 66/100\n",
      "3/3 [==============================] - 0s 4ms/step - loss: 0.9056 - accuracy: 0.7848\n",
      "Epoch 67/100\n",
      "3/3 [==============================] - 0s 4ms/step - loss: 0.8607 - accuracy: 0.6709\n",
      "Epoch 68/100\n",
      "3/3 [==============================] - 0s 4ms/step - loss: 0.8910 - accuracy: 0.6582\n",
      "Epoch 69/100\n",
      "3/3 [==============================] - 0s 3ms/step - loss: 0.7875 - accuracy: 0.8228\n",
      "Epoch 70/100\n",
      "3/3 [==============================] - 0s 3ms/step - loss: 0.8675 - accuracy: 0.7342\n",
      "Epoch 71/100\n",
      "3/3 [==============================] - 0s 4ms/step - loss: 0.8810 - accuracy: 0.7215\n",
      "Epoch 72/100\n",
      "3/3 [==============================] - 0s 3ms/step - loss: 0.8809 - accuracy: 0.6962\n",
      "Epoch 73/100\n",
      "3/3 [==============================] - 0s 4ms/step - loss: 0.7891 - accuracy: 0.7468\n",
      "Epoch 74/100\n",
      "3/3 [==============================] - 0s 4ms/step - loss: 0.7655 - accuracy: 0.7342\n",
      "Epoch 75/100\n",
      "3/3 [==============================] - 0s 3ms/step - loss: 0.7864 - accuracy: 0.7722\n",
      "Epoch 76/100\n",
      "3/3 [==============================] - 0s 4ms/step - loss: 0.7139 - accuracy: 0.7975\n",
      "Epoch 77/100\n",
      "3/3 [==============================] - 0s 4ms/step - loss: 0.6406 - accuracy: 0.8354\n",
      "Epoch 78/100\n",
      "3/3 [==============================] - 0s 3ms/step - loss: 0.7321 - accuracy: 0.7595\n",
      "Epoch 79/100\n",
      "3/3 [==============================] - 0s 4ms/step - loss: 0.8313 - accuracy: 0.7595\n",
      "Epoch 80/100\n",
      "3/3 [==============================] - 0s 3ms/step - loss: 0.7246 - accuracy: 0.7848\n",
      "Epoch 81/100\n",
      "3/3 [==============================] - 0s 4ms/step - loss: 0.7228 - accuracy: 0.7975\n",
      "Epoch 82/100\n",
      "3/3 [==============================] - 0s 4ms/step - loss: 0.6743 - accuracy: 0.8101\n",
      "Epoch 83/100\n",
      "3/3 [==============================] - 0s 5ms/step - loss: 0.5395 - accuracy: 0.8987\n",
      "Epoch 84/100\n",
      "3/3 [==============================] - 0s 8ms/step - loss: 0.6905 - accuracy: 0.7722\n",
      "Epoch 85/100\n",
      "3/3 [==============================] - 0s 3ms/step - loss: 0.6497 - accuracy: 0.7848\n",
      "Epoch 86/100\n",
      "3/3 [==============================] - 0s 4ms/step - loss: 0.6776 - accuracy: 0.7342\n",
      "Epoch 87/100\n",
      "3/3 [==============================] - 0s 4ms/step - loss: 0.7015 - accuracy: 0.8228\n",
      "Epoch 88/100\n",
      "3/3 [==============================] - 0s 5ms/step - loss: 0.6509 - accuracy: 0.7975\n",
      "Epoch 89/100\n",
      "3/3 [==============================] - 0s 6ms/step - loss: 0.6248 - accuracy: 0.8228\n",
      "Epoch 90/100\n",
      "3/3 [==============================] - 0s 5ms/step - loss: 0.5847 - accuracy: 0.8608\n",
      "Epoch 91/100\n",
      "3/3 [==============================] - 0s 4ms/step - loss: 0.6567 - accuracy: 0.7468\n",
      "Epoch 92/100\n",
      "3/3 [==============================] - 0s 4ms/step - loss: 0.5954 - accuracy: 0.8861\n",
      "Epoch 93/100\n",
      "3/3 [==============================] - 0s 4ms/step - loss: 0.6956 - accuracy: 0.7975\n",
      "Epoch 94/100\n",
      "3/3 [==============================] - 0s 4ms/step - loss: 0.5335 - accuracy: 0.8354\n",
      "Epoch 95/100\n",
      "3/3 [==============================] - 0s 5ms/step - loss: 0.5490 - accuracy: 0.8861\n",
      "Epoch 96/100\n",
      "3/3 [==============================] - 0s 4ms/step - loss: 0.5448 - accuracy: 0.8608\n",
      "Epoch 97/100\n",
      "3/3 [==============================] - 0s 4ms/step - loss: 0.6350 - accuracy: 0.8228\n",
      "Epoch 98/100\n",
      "3/3 [==============================] - 0s 6ms/step - loss: 0.5293 - accuracy: 0.8354\n",
      "Epoch 99/100\n",
      "3/3 [==============================] - 0s 4ms/step - loss: 0.6394 - accuracy: 0.7595\n",
      "Epoch 100/100\n",
      "3/3 [==============================] - 0s 5ms/step - loss: 0.5611 - accuracy: 0.8101\n"
     ]
    },
    {
     "data": {
      "text/plain": [
       "<keras.callbacks.History at 0x2a6a9a402e0>"
      ]
     },
     "execution_count": 12,
     "metadata": {},
     "output_type": "execute_result"
    }
   ],
   "source": [
    "model.summary()\n",
    "model.fit(x_train, y_train, verbose=1, epochs=100)"
   ]
  },
  {
   "cell_type": "code",
   "execution_count": 13,
   "metadata": {},
   "outputs": [],
   "source": [
    "import itertools\n",
    "import matplotlib.pyplot as plt\n",
    "def plot_confusion_matrix(cm, classes,\n",
    "                          normalize=False,\n",
    "                          title='Confusion matrix',\n",
    "                          cmap=plt.cm.Blues):\n",
    "    \"\"\"\n",
    "    This function prints and plots the confusion matrix.\n",
    "    Normalization can be applied by setting `normalize=True`.\n",
    "    \"\"\"\n",
    "    plt.imshow(cm, interpolation='nearest', cmap=cmap)\n",
    "    plt.title(title)\n",
    "    plt.colorbar()\n",
    "    tick_marks = np.arange(len(classes))\n",
    "    plt.xticks(tick_marks, classes, rotation=45)\n",
    "    plt.yticks(tick_marks, classes)\n",
    "\n",
    "#     if normalize:\n",
    "#         cm = cm.astype('float') / cm.sum(axis=1)[:, np.newaxis]\n",
    "#         print(\"Normalized confusion matrix\")\n",
    "#     else:\n",
    "#         print('Confusion matrix, without normalization')\n",
    "\n",
    "#     print(cm)\n",
    "\n",
    "    thresh = cm.max() / 2.\n",
    "    for i, j in itertools.product(range(cm.shape[0]), range(cm.shape[1])):\n",
    "        plt.text(j, i, cm[i, j],\n",
    "                 horizontalalignment=\"center\",\n",
    "                 color=\"white\" if cm[i, j] > thresh else \"black\")\n",
    "\n",
    "    plt.tight_layout()\n",
    "    plt.ylabel('True label')\n",
    "    plt.xlabel('Predicted label')\n"
   ]
  },
  {
   "cell_type": "code",
   "execution_count": 14,
   "metadata": {},
   "outputs": [
    {
     "name": "stdout",
     "output_type": "stream",
     "text": [
      "              precision    recall  f1-score   support\n",
      "\n",
      "           1       1.00      1.00      1.00         6\n",
      "           2       0.50      1.00      0.67         1\n",
      "           3       1.00      0.75      0.86         4\n",
      "           4       1.00      1.00      1.00         3\n",
      "           5       1.00      1.00      1.00         3\n",
      "           6       0.00      0.00      0.00         2\n",
      "           7       0.33      1.00      0.50         1\n",
      "\n",
      "    accuracy                           0.85        20\n",
      "   macro avg       0.69      0.82      0.72        20\n",
      "weighted avg       0.84      0.85      0.83        20\n",
      "\n"
     ]
    },
    {
     "name": "stderr",
     "output_type": "stream",
     "text": [
      "c:\\Users\\DELL\\AppData\\Local\\Programs\\Python\\Python310\\lib\\site-packages\\sklearn\\metrics\\_classification.py:1318: UndefinedMetricWarning: Precision and F-score are ill-defined and being set to 0.0 in labels with no predicted samples. Use `zero_division` parameter to control this behavior.\n",
      "  _warn_prf(average, modifier, msg_start, len(result))\n",
      "c:\\Users\\DELL\\AppData\\Local\\Programs\\Python\\Python310\\lib\\site-packages\\sklearn\\metrics\\_classification.py:1318: UndefinedMetricWarning: Precision and F-score are ill-defined and being set to 0.0 in labels with no predicted samples. Use `zero_division` parameter to control this behavior.\n",
      "  _warn_prf(average, modifier, msg_start, len(result))\n",
      "c:\\Users\\DELL\\AppData\\Local\\Programs\\Python\\Python310\\lib\\site-packages\\sklearn\\metrics\\_classification.py:1318: UndefinedMetricWarning: Precision and F-score are ill-defined and being set to 0.0 in labels with no predicted samples. Use `zero_division` parameter to control this behavior.\n",
      "  _warn_prf(average, modifier, msg_start, len(result))\n"
     ]
    },
    {
     "data": {
      "text/plain": [
       "array([[6, 0, 0, 0, 0, 0, 0],\n",
       "       [0, 1, 0, 0, 0, 0, 0],\n",
       "       [0, 1, 3, 0, 0, 0, 0],\n",
       "       [0, 0, 0, 3, 0, 0, 0],\n",
       "       [0, 0, 0, 0, 3, 0, 0],\n",
       "       [0, 0, 0, 0, 0, 0, 2],\n",
       "       [0, 0, 0, 0, 0, 0, 1]], dtype=int64)"
      ]
     },
     "execution_count": 14,
     "metadata": {},
     "output_type": "execute_result"
    }
   ],
   "source": [
    "from sklearn.metrics import classification_report\n",
    "from sklearn.metrics import confusion_matrix\n",
    "y_pred_class = np.argmax(model.predict(x_test), axis=-1)\n",
    "y_pred = model.predict(x_test)\n",
    "y_test_class = np.argmax(y_test, axis=1)\n",
    "print(classification_report(y_test_class, y_pred_class))\n",
    "confusion_matrix(y_test_class, y_pred_class)\n"
   ]
  },
  {
   "cell_type": "code",
   "execution_count": 16,
   "metadata": {},
   "outputs": [
    {
     "data": {
      "image/png": "[encoded data removed]",
      "text/plain": [
       "<Figure size 432x288 with 2 Axes>"
      ]
     },
     "metadata": {
      "needs_background": "light"
     },
     "output_type": "display_data"
    }
   ],
   "source": [
    "cm = confusion_matrix(y_test_class, y_pred_class)\n",
    "cm_plot_labels = ['7', '6', '5', '4', '3', '2', '1']\n",
    "plot_confusion_matrix(cm=cm, classes=cm_plot_labels, title='Confusion Matrix')\n"
   ]
  },
  {
   "cell_type": "code",
   "execution_count": 17,
   "metadata": {},
   "outputs": [],
   "source": [
    "model.save('model-f.h5')"
   ]
  }
 ],
 "metadata": {
  "kernelspec": {
   "display_name": "Python 3",
   "language": "python",
   "name": "python3"
  },
  "language_info": {
   "codemirror_mode": {
    "name": "ipython",
    "version": 3
   },
   "file_extension": ".py",
   "mimetype": "text/x-python",
   "name": "python",
   "nbconvert_exporter": "python",
   "pygments_lexer": "ipython3",
   "version": "3.10.4"
  },
  "vscode": {
   "interpreter": {
    "hash": "fbc768028c3e6ead51d9a200ddcb2ec858ae62844dcd1994729a8279be9b48f2"
   }
  }
 },
 "nbformat": 4,
 "nbformat_minor": 4
}
