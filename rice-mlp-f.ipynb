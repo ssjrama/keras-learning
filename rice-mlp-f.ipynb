{
 "cells": [
  {
   "cell_type": "code",
   "execution_count": 1,
   "metadata": {},
   "outputs": [],
   "source": [
    "import numpy as np\n",
    "import pandas as pd\n",
    "import tensorflow as tf\n",
    "from tensorflow import keras\n",
    "# Keras\n",
    "from keras.models import Sequential\n",
    "from keras.layers import Dense\n",
    "from keras.layers import Dropout\n",
    "import keras.backend as K\n",
    "from keras.utils.np_utils import to_categorical\n",
    "# Train-Test\n",
    "from sklearn.model_selection import train_test_split\n",
    "# Scaling data\n",
    "from sklearn.preprocessing import StandardScaler\n",
    "# Classification Report\n",
    "from sklearn.metrics import classification_report"
   ]
  },
  {
   "cell_type": "code",
   "execution_count": 2,
   "metadata": {},
   "outputs": [],
   "source": [
    "df = pd.read_csv('Fertilizer.csv')"
   ]
  },
  {
   "cell_type": "code",
   "execution_count": 3,
   "metadata": {},
   "outputs": [],
   "source": [
    "# Remove Missing Values\n",
    "na = pd.notnull(df[\"Fertilizer\"])\n",
    "df = df[na]"
   ]
  },
  {
   "cell_type": "code",
   "execution_count": 4,
   "metadata": {},
   "outputs": [],
   "source": [
    "df = df[[\"Fertilizer\", \"Temperature\", \"Humidity\",\n",
    "         \"Moisture\", \"Soil_Type\", \"Crop_Type\", \"Nitrogen\", \"Potassium\", \"Phosphorous\"]]"
   ]
  },
  {
   "cell_type": "code",
   "execution_count": 5,
   "metadata": {},
   "outputs": [],
   "source": [
    "df.loc[df[\"Fertilizer\"] == \"Urea\", \"Fertilizer\"] = 1\n",
    "df.loc[df[\"Fertilizer\"] == \"DAP\", \"Fertilizer\"] = 2\n",
    "df.loc[df[\"Fertilizer\"] == \"28-28\", \"Fertilizer\"] = 3\n",
    "df.loc[df[\"Fertilizer\"] == \"14-35-14\", \"Fertilizer\"] = 4\n",
    "df.loc[df[\"Fertilizer\"] == \"20-20\", \"Fertilizer\"] = 5\n",
    "df.loc[df[\"Fertilizer\"] == \"17-17-17\", \"Fertilizer\"] = 6\n",
    "df.loc[df[\"Fertilizer\"] == \"10-26-26\", \"Fertilizer\"] = 7"
   ]
  },
  {
   "cell_type": "code",
   "execution_count": 6,
   "metadata": {},
   "outputs": [],
   "source": [
    "df.loc[df[\"Soil_Type\"] == \"Loamy\", \"Soil_Type\"] = 1\n",
    "df.loc[df[\"Soil_Type\"] == \"Sandy\", \"Soil_Type\"] = 2\n",
    "df.loc[df[\"Soil_Type\"] == \"Clayey\", \"Soil_Type\"] = 3\n",
    "df.loc[df[\"Soil_Type\"] == \"Black\", \"Soil_Type\"] = 4\n",
    "df.loc[df[\"Soil_Type\"] == \"Red\", \"Soil_Type\"] = 5"
   ]
  },
  {
   "cell_type": "code",
   "execution_count": 7,
   "metadata": {},
   "outputs": [],
   "source": [
    "df.loc[df[\"Crop_Type\"] == \"Sugarcane\", \"Crop_Type\"] = 1\n",
    "df.loc[df[\"Crop_Type\"] == \"Cotton\", \"Crop_Type\"] = 2\n",
    "df.loc[df[\"Crop_Type\"] == \"Millets\", \"Crop_Type\"] = 3\n",
    "df.loc[df[\"Crop_Type\"] == \"Paddy\", \"Crop_Type\"] = 4\n",
    "df.loc[df[\"Crop_Type\"] == \"Pulses\", \"Crop_Type\"] = 5\n",
    "df.loc[df[\"Crop_Type\"] == \"Wheat\", \"Crop_Type\"] = 6\n",
    "df.loc[df[\"Crop_Type\"] == \"Tobacco\", \"Crop_Type\"] = 7\n",
    "df.loc[df[\"Crop_Type\"] == \"Barley\", \"Crop_Type\"] = 8\n",
    "df.loc[df[\"Crop_Type\"] == \"Oil seeds\", \"Crop_Type\"] = 9\n",
    "df.loc[df[\"Crop_Type\"] == \"Ground Nuts\", \"Crop_Type\"] = 10\n",
    "df.loc[df[\"Crop_Type\"] == \"Maize\", \"Crop_Type\"] = 11"
   ]
  },
  {
   "cell_type": "code",
   "execution_count": 8,
   "metadata": {},
   "outputs": [],
   "source": [
    "from sklearn.preprocessing import StandardScaler\n",
    "x = df.drop(\"Fertilizer\", axis=1)\n",
    "sc = StandardScaler()\n",
    "x = pd.DataFrame(sc.fit_transform(x))\n",
    "y = df[\"Fertilizer\"]"
   ]
  },
  {
   "cell_type": "code",
   "execution_count": 9,
   "metadata": {},
   "outputs": [],
   "source": [
    "y_cat = to_categorical(y)"
   ]
  },
  {
   "cell_type": "code",
   "execution_count": 10,
   "metadata": {},
   "outputs": [],
   "source": [
    "from sklearn.model_selection import train_test_split\n",
    "x_train, x_test, y_train, y_test = train_test_split(\n",
    "    x.values, y_cat, test_size=0.2)"
   ]
  },
  {
   "cell_type": "code",
   "execution_count": 11,
   "metadata": {},
   "outputs": [],
   "source": [
    "model = Sequential()\n",
    "model.add(Dense(32, input_shape=(8,), activation=\"relu\"))\n",
    "model.add(Dense(32, activation=\"relu\"))\n",
    "model.add(Dropout(0.5))\n",
    "model.add(Dense(8, activation=\"softmax\"))\n",
    "model.compile(\"adam\", \"categorical_crossentropy\", metrics=[\"accuracy\"])"
   ]
  },
  {
   "cell_type": "code",
   "execution_count": 12,
   "metadata": {},
   "outputs": [
    {
     "name": "stdout",
     "output_type": "stream",
     "text": [
      "Model: \"sequential\"\n",
      "_________________________________________________________________\n",
      " Layer (type)                Output Shape              Param #   \n",
      "=================================================================\n",
      " dense (Dense)               (None, 32)                288       \n",
      "                                                                 \n",
      " dense_1 (Dense)             (None, 32)                1056      \n",
      "                                                                 \n",
      " dropout (Dropout)           (None, 32)                0         \n",
      "                                                                 \n",
      " dense_2 (Dense)             (None, 8)                 264       \n",
      "                                                                 \n",
      "=================================================================\n",
      "Total params: 1,608\n",
      "Trainable params: 1,608\n",
      "Non-trainable params: 0\n",
      "_________________________________________________________________\n",
      "Epoch 1/100\n",
      "3/3 [==============================] - 1s 4ms/step - loss: 2.3134 - accuracy: 0.0633\n",
      "Epoch 2/100\n",
      "3/3 [==============================] - 0s 5ms/step - loss: 2.2394 - accuracy: 0.1013\n",
      "Epoch 3/100\n",
      "3/3 [==============================] - 0s 5ms/step - loss: 2.1907 - accuracy: 0.1266\n",
      "Epoch 4/100\n",
      "3/3 [==============================] - 0s 3ms/step - loss: 2.1839 - accuracy: 0.1013\n",
      "Epoch 5/100\n",
      "3/3 [==============================] - 0s 3ms/step - loss: 2.2363 - accuracy: 0.2152\n",
      "Epoch 6/100\n",
      "3/3 [==============================] - 0s 4ms/step - loss: 2.0463 - accuracy: 0.1772\n",
      "Epoch 7/100\n",
      "3/3 [==============================] - 0s 4ms/step - loss: 2.0192 - accuracy: 0.2911\n",
      "Epoch 8/100\n",
      "3/3 [==============================] - 0s 4ms/step - loss: 1.9835 - accuracy: 0.2025\n",
      "Epoch 9/100\n",
      "3/3 [==============================] - 0s 5ms/step - loss: 1.9463 - accuracy: 0.2278\n",
      "Epoch 10/100\n",
      "3/3 [==============================] - 0s 3ms/step - loss: 1.9843 - accuracy: 0.3544\n",
      "Epoch 11/100\n",
      "3/3 [==============================] - 0s 4ms/step - loss: 1.8779 - accuracy: 0.4051\n",
      "Epoch 12/100\n",
      "3/3 [==============================] - 0s 4ms/step - loss: 1.8355 - accuracy: 0.3671\n",
      "Epoch 13/100\n",
      "3/3 [==============================] - 0s 4ms/step - loss: 1.8683 - accuracy: 0.4177\n",
      "Epoch 14/100\n",
      "3/3 [==============================] - 0s 3ms/step - loss: 1.8586 - accuracy: 0.3418\n",
      "Epoch 15/100\n",
      "3/3 [==============================] - 0s 4ms/step - loss: 1.7935 - accuracy: 0.4177\n",
      "Epoch 16/100\n",
      "3/3 [==============================] - 0s 4ms/step - loss: 1.8052 - accuracy: 0.4051\n",
      "Epoch 17/100\n",
      "3/3 [==============================] - 0s 4ms/step - loss: 1.7582 - accuracy: 0.3418\n",
      "Epoch 18/100\n",
      "3/3 [==============================] - 0s 6ms/step - loss: 1.7586 - accuracy: 0.3544\n",
      "Epoch 19/100\n",
      "3/3 [==============================] - 0s 5ms/step - loss: 1.7008 - accuracy: 0.4937\n",
      "Epoch 20/100\n",
      "3/3 [==============================] - 0s 8ms/step - loss: 1.6320 - accuracy: 0.4557\n",
      "Epoch 21/100\n",
      "3/3 [==============================] - 0s 6ms/step - loss: 1.7380 - accuracy: 0.3924\n",
      "Epoch 22/100\n",
      "3/3 [==============================] - 0s 7ms/step - loss: 1.6461 - accuracy: 0.5063\n",
      "Epoch 23/100\n",
      "3/3 [==============================] - 0s 4ms/step - loss: 1.6370 - accuracy: 0.4810\n",
      "Epoch 24/100\n",
      "3/3 [==============================] - 0s 6ms/step - loss: 1.5627 - accuracy: 0.4684\n",
      "Epoch 25/100\n",
      "3/3 [==============================] - 0s 6ms/step - loss: 1.5511 - accuracy: 0.5316\n",
      "Epoch 26/100\n",
      "3/3 [==============================] - 0s 3ms/step - loss: 1.5176 - accuracy: 0.5823\n",
      "Epoch 27/100\n",
      "3/3 [==============================] - 0s 4ms/step - loss: 1.4462 - accuracy: 0.4937\n",
      "Epoch 28/100\n",
      "3/3 [==============================] - 0s 3ms/step - loss: 1.4892 - accuracy: 0.4810\n",
      "Epoch 29/100\n",
      "3/3 [==============================] - 0s 9ms/step - loss: 1.3831 - accuracy: 0.5823\n",
      "Epoch 30/100\n",
      "3/3 [==============================] - 0s 5ms/step - loss: 1.4730 - accuracy: 0.4684\n",
      "Epoch 31/100\n",
      "3/3 [==============================] - 0s 6ms/step - loss: 1.3827 - accuracy: 0.5190\n",
      "Epoch 32/100\n",
      "3/3 [==============================] - 0s 5ms/step - loss: 1.3564 - accuracy: 0.5949\n",
      "Epoch 33/100\n",
      "3/3 [==============================] - 0s 5ms/step - loss: 1.4278 - accuracy: 0.4937\n",
      "Epoch 34/100\n",
      "3/3 [==============================] - 0s 3ms/step - loss: 1.3345 - accuracy: 0.5823\n",
      "Epoch 35/100\n",
      "3/3 [==============================] - 0s 4ms/step - loss: 1.3222 - accuracy: 0.6076\n",
      "Epoch 36/100\n",
      "3/3 [==============================] - 0s 4ms/step - loss: 1.3092 - accuracy: 0.5316\n",
      "Epoch 37/100\n",
      "3/3 [==============================] - 0s 4ms/step - loss: 1.3215 - accuracy: 0.5443\n",
      "Epoch 38/100\n",
      "3/3 [==============================] - 0s 11ms/step - loss: 1.1945 - accuracy: 0.5949\n",
      "Epoch 39/100\n",
      "3/3 [==============================] - 0s 7ms/step - loss: 1.2778 - accuracy: 0.5316\n",
      "Epoch 40/100\n",
      "3/3 [==============================] - 0s 5ms/step - loss: 1.2033 - accuracy: 0.6076\n",
      "Epoch 41/100\n",
      "3/3 [==============================] - 0s 4ms/step - loss: 1.2342 - accuracy: 0.5063\n",
      "Epoch 42/100\n",
      "3/3 [==============================] - 0s 4ms/step - loss: 1.1584 - accuracy: 0.5696\n",
      "Epoch 43/100\n",
      "3/3 [==============================] - 0s 4ms/step - loss: 1.2241 - accuracy: 0.6076\n",
      "Epoch 44/100\n",
      "3/3 [==============================] - 0s 4ms/step - loss: 1.1231 - accuracy: 0.6329\n",
      "Epoch 45/100\n",
      "3/3 [==============================] - 0s 7ms/step - loss: 1.1534 - accuracy: 0.6329\n",
      "Epoch 46/100\n",
      "3/3 [==============================] - 0s 9ms/step - loss: 1.1345 - accuracy: 0.6582\n",
      "Epoch 47/100\n",
      "3/3 [==============================] - 0s 4ms/step - loss: 1.0969 - accuracy: 0.6456\n",
      "Epoch 48/100\n",
      "3/3 [==============================] - 0s 3ms/step - loss: 0.9702 - accuracy: 0.6582\n",
      "Epoch 49/100\n",
      "3/3 [==============================] - 0s 4ms/step - loss: 1.1487 - accuracy: 0.5570\n",
      "Epoch 50/100\n",
      "3/3 [==============================] - 0s 5ms/step - loss: 0.9895 - accuracy: 0.6203\n",
      "Epoch 51/100\n",
      "3/3 [==============================] - 0s 6ms/step - loss: 1.0634 - accuracy: 0.6076\n",
      "Epoch 52/100\n",
      "3/3 [==============================] - 0s 5ms/step - loss: 1.0413 - accuracy: 0.6076\n",
      "Epoch 53/100\n",
      "3/3 [==============================] - 0s 5ms/step - loss: 0.9805 - accuracy: 0.6582\n",
      "Epoch 54/100\n",
      "3/3 [==============================] - 0s 4ms/step - loss: 0.9598 - accuracy: 0.7342\n",
      "Epoch 55/100\n",
      "3/3 [==============================] - 0s 4ms/step - loss: 0.9548 - accuracy: 0.6835\n",
      "Epoch 56/100\n",
      "3/3 [==============================] - 0s 4ms/step - loss: 0.9369 - accuracy: 0.6582\n",
      "Epoch 57/100\n",
      "3/3 [==============================] - 0s 4ms/step - loss: 0.9631 - accuracy: 0.6709\n",
      "Epoch 58/100\n",
      "3/3 [==============================] - 0s 3ms/step - loss: 0.8690 - accuracy: 0.7595\n",
      "Epoch 59/100\n",
      "3/3 [==============================] - 0s 2ms/step - loss: 0.8975 - accuracy: 0.6456\n",
      "Epoch 60/100\n",
      "3/3 [==============================] - 0s 3ms/step - loss: 0.9218 - accuracy: 0.7215\n",
      "Epoch 61/100\n",
      "3/3 [==============================] - 0s 3ms/step - loss: 0.9400 - accuracy: 0.6582\n",
      "Epoch 62/100\n",
      "3/3 [==============================] - 0s 4ms/step - loss: 0.9613 - accuracy: 0.6329\n",
      "Epoch 63/100\n",
      "3/3 [==============================] - 0s 4ms/step - loss: 0.8460 - accuracy: 0.7468\n",
      "Epoch 64/100\n",
      "3/3 [==============================] - 0s 4ms/step - loss: 0.8671 - accuracy: 0.7089\n",
      "Epoch 65/100\n",
      "3/3 [==============================] - 0s 3ms/step - loss: 0.8205 - accuracy: 0.7595\n",
      "Epoch 66/100\n",
      "3/3 [==============================] - 0s 3ms/step - loss: 0.8147 - accuracy: 0.6709\n",
      "Epoch 67/100\n",
      "3/3 [==============================] - 0s 3ms/step - loss: 0.8328 - accuracy: 0.6962\n",
      "Epoch 68/100\n",
      "3/3 [==============================] - 0s 3ms/step - loss: 0.7762 - accuracy: 0.7468\n",
      "Epoch 69/100\n",
      "3/3 [==============================] - 0s 3ms/step - loss: 0.8307 - accuracy: 0.7468\n",
      "Epoch 70/100\n",
      "3/3 [==============================] - 0s 13ms/step - loss: 0.8301 - accuracy: 0.6962\n",
      "Epoch 71/100\n",
      "3/3 [==============================] - 0s 5ms/step - loss: 0.8064 - accuracy: 0.7089\n",
      "Epoch 72/100\n",
      "3/3 [==============================] - 0s 5ms/step - loss: 0.7634 - accuracy: 0.7595\n",
      "Epoch 73/100\n",
      "3/3 [==============================] - 0s 6ms/step - loss: 0.7243 - accuracy: 0.7722\n",
      "Epoch 74/100\n",
      "3/3 [==============================] - 0s 4ms/step - loss: 0.6998 - accuracy: 0.8101\n",
      "Epoch 75/100\n",
      "3/3 [==============================] - 0s 4ms/step - loss: 0.7703 - accuracy: 0.7975\n",
      "Epoch 76/100\n",
      "3/3 [==============================] - 0s 4ms/step - loss: 0.7338 - accuracy: 0.7975\n",
      "Epoch 77/100\n",
      "3/3 [==============================] - 0s 5ms/step - loss: 0.6915 - accuracy: 0.7722\n",
      "Epoch 78/100\n",
      "3/3 [==============================] - 0s 5ms/step - loss: 0.6593 - accuracy: 0.7722\n",
      "Epoch 79/100\n",
      "3/3 [==============================] - 0s 4ms/step - loss: 0.6728 - accuracy: 0.7722\n",
      "Epoch 80/100\n",
      "3/3 [==============================] - 0s 5ms/step - loss: 0.6847 - accuracy: 0.7722\n",
      "Epoch 81/100\n",
      "3/3 [==============================] - 0s 4ms/step - loss: 0.6583 - accuracy: 0.7848\n",
      "Epoch 82/100\n",
      "3/3 [==============================] - 0s 4ms/step - loss: 0.6305 - accuracy: 0.7468\n",
      "Epoch 83/100\n",
      "3/3 [==============================] - 0s 5ms/step - loss: 0.6796 - accuracy: 0.7468\n",
      "Epoch 84/100\n",
      "3/3 [==============================] - 0s 5ms/step - loss: 0.7582 - accuracy: 0.7848\n",
      "Epoch 85/100\n",
      "3/3 [==============================] - 0s 5ms/step - loss: 0.5403 - accuracy: 0.8481\n",
      "Epoch 86/100\n",
      "3/3 [==============================] - 0s 4ms/step - loss: 0.7043 - accuracy: 0.7468\n",
      "Epoch 87/100\n",
      "3/3 [==============================] - 0s 3ms/step - loss: 0.6545 - accuracy: 0.7848\n",
      "Epoch 88/100\n",
      "3/3 [==============================] - 0s 3ms/step - loss: 0.5998 - accuracy: 0.8354\n",
      "Epoch 89/100\n",
      "3/3 [==============================] - 0s 5ms/step - loss: 0.5566 - accuracy: 0.8608\n",
      "Epoch 90/100\n",
      "3/3 [==============================] - 0s 4ms/step - loss: 0.6024 - accuracy: 0.8228\n",
      "Epoch 91/100\n",
      "3/3 [==============================] - 0s 5ms/step - loss: 0.5044 - accuracy: 0.8861\n",
      "Epoch 92/100\n",
      "3/3 [==============================] - 0s 5ms/step - loss: 0.6761 - accuracy: 0.7975\n",
      "Epoch 93/100\n",
      "3/3 [==============================] - 0s 4ms/step - loss: 0.5715 - accuracy: 0.8228\n",
      "Epoch 94/100\n",
      "3/3 [==============================] - 0s 6ms/step - loss: 0.6426 - accuracy: 0.7848\n",
      "Epoch 95/100\n",
      "3/3 [==============================] - 0s 6ms/step - loss: 0.5596 - accuracy: 0.8354\n",
      "Epoch 96/100\n",
      "3/3 [==============================] - 0s 6ms/step - loss: 0.5739 - accuracy: 0.7975\n",
      "Epoch 97/100\n",
      "3/3 [==============================] - 0s 6ms/step - loss: 0.6024 - accuracy: 0.8228\n",
      "Epoch 98/100\n",
      "3/3 [==============================] - 0s 6ms/step - loss: 0.5385 - accuracy: 0.8101\n",
      "Epoch 99/100\n",
      "3/3 [==============================] - 0s 4ms/step - loss: 0.5579 - accuracy: 0.8228\n",
      "Epoch 100/100\n",
      "3/3 [==============================] - 0s 4ms/step - loss: 0.5725 - accuracy: 0.8481\n"
     ]
    },
    {
     "data": {
      "text/plain": [
       "<keras.callbacks.History at 0x1ed239bee60>"
      ]
     },
     "execution_count": 12,
     "metadata": {},
     "output_type": "execute_result"
    }
   ],
   "source": [
    "model.summary()\n",
    "model.fit(x_train, y_train, verbose=1, epochs=100)"
   ]
  },
  {
   "cell_type": "code",
   "execution_count": 13,
   "metadata": {},
   "outputs": [
    {
     "data": {
      "text/plain": [
       "array([[4, 0, 0, 0, 0, 0, 0],\n",
       "       [0, 3, 0, 0, 0, 0, 0],\n",
       "       [1, 0, 2, 0, 1, 0, 0],\n",
       "       [0, 0, 0, 3, 0, 0, 0],\n",
       "       [0, 0, 1, 0, 3, 0, 0],\n",
       "       [0, 0, 0, 0, 0, 0, 1],\n",
       "       [0, 0, 0, 0, 0, 0, 1]], dtype=int64)"
      ]
     },
     "execution_count": 13,
     "metadata": {},
     "output_type": "execute_result"
    }
   ],
   "source": [
    "from sklearn.metrics import confusion_matrix\n",
    "y_pred_class = np.argmax(model.predict(x_test), axis=-1)\n",
    "y_pred = model.predict(x_test)\n",
    "y_test_class = np.argmax(y_test, axis=1)\n",
    "confusion_matrix(y_test_class, y_pred_class)\n"
   ]
  },
  {
   "cell_type": "code",
   "execution_count": 14,
   "metadata": {},
   "outputs": [
    {
     "name": "stdout",
     "output_type": "stream",
     "text": [
      "              precision    recall  f1-score   support\n",
      "\n",
      "           1       0.80      1.00      0.89         4\n",
      "           2       1.00      1.00      1.00         3\n",
      "           3       0.67      0.50      0.57         4\n",
      "           4       1.00      1.00      1.00         3\n",
      "           5       0.75      0.75      0.75         4\n",
      "           6       0.00      0.00      0.00         1\n",
      "           7       0.50      1.00      0.67         1\n",
      "\n",
      "    accuracy                           0.80        20\n",
      "   macro avg       0.67      0.75      0.70        20\n",
      "weighted avg       0.77      0.80      0.78        20\n",
      "\n"
     ]
    },
    {
     "name": "stderr",
     "output_type": "stream",
     "text": [
      "c:\\Users\\DELL\\AppData\\Local\\Programs\\Python\\Python310\\lib\\site-packages\\sklearn\\metrics\\_classification.py:1318: UndefinedMetricWarning: Precision and F-score are ill-defined and being set to 0.0 in labels with no predicted samples. Use `zero_division` parameter to control this behavior.\n",
      "  _warn_prf(average, modifier, msg_start, len(result))\n",
      "c:\\Users\\DELL\\AppData\\Local\\Programs\\Python\\Python310\\lib\\site-packages\\sklearn\\metrics\\_classification.py:1318: UndefinedMetricWarning: Precision and F-score are ill-defined and being set to 0.0 in labels with no predicted samples. Use `zero_division` parameter to control this behavior.\n",
      "  _warn_prf(average, modifier, msg_start, len(result))\n",
      "c:\\Users\\DELL\\AppData\\Local\\Programs\\Python\\Python310\\lib\\site-packages\\sklearn\\metrics\\_classification.py:1318: UndefinedMetricWarning: Precision and F-score are ill-defined and being set to 0.0 in labels with no predicted samples. Use `zero_division` parameter to control this behavior.\n",
      "  _warn_prf(average, modifier, msg_start, len(result))\n"
     ]
    }
   ],
   "source": [
    "from sklearn.metrics import classification_report\n",
    "print(classification_report(y_test_class, y_pred_class))\n"
   ]
  }
 ],
 "metadata": {
  "kernelspec": {
   "display_name": "Python 3",
   "language": "python",
   "name": "python3"
  },
  "language_info": {
   "codemirror_mode": {
    "name": "ipython",
    "version": 3
   },
   "file_extension": ".py",
   "mimetype": "text/x-python",
   "name": "python",
   "nbconvert_exporter": "python",
   "pygments_lexer": "ipython3",
   "version": "3.8.5"
  },
  "vscode": {
   "interpreter": {
    "hash": "fbc768028c3e6ead51d9a200ddcb2ec858ae62844dcd1994729a8279be9b48f2"
   }
  }
 },
 "nbformat": 4,
 "nbformat_minor": 4
}
