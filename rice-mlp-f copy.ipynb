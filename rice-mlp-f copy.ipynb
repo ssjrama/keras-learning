{
 "cells": [
  {
   "cell_type": "code",
   "execution_count": 1,
   "metadata": {},
   "outputs": [],
   "source": [
    "import numpy as np\n",
    "import pandas as pd\n",
    "import tensorflow as tf\n",
    "from tensorflow import keras\n",
    "# Keras\n",
    "from keras.models import Sequential\n",
    "from keras.layers import Dense\n",
    "from keras.layers import Dropout\n",
    "import keras.backend as K\n",
    "from keras.utils.np_utils import to_categorical\n",
    "# Train-Test\n",
    "from sklearn.model_selection import train_test_split\n",
    "# Scaling data\n",
    "from sklearn.preprocessing import StandardScaler\n",
    "# Classification Report\n",
    "from sklearn.metrics import classification_report"
   ]
  },
  {
   "cell_type": "code",
   "execution_count": 2,
   "metadata": {},
   "outputs": [],
   "source": [
    "df = pd.read_csv('rice.csv')"
   ]
  },
  {
   "cell_type": "code",
   "execution_count": 3,
   "metadata": {},
   "outputs": [],
   "source": [
    "# Remove Missing Values\n",
    "na = pd.notnull(df[\"Status\"])\n",
    "df = df[na]"
   ]
  },
  {
   "cell_type": "code",
   "execution_count": 4,
   "metadata": {},
   "outputs": [],
   "source": [
    "df = df[[\"Status\", \"Soil_Moisture\", \"Temperature\", \"Humidity\", \"Time\"]]\n"
   ]
  },
  {
   "cell_type": "code",
   "execution_count": 5,
   "metadata": {},
   "outputs": [],
   "source": [
    "from sklearn.preprocessing import StandardScaler\n",
    "x = df.drop(\"Status\", axis=1)\n",
    "sc = StandardScaler()\n",
    "x = pd.DataFrame(sc.fit_transform(x))\n",
    "y = df[\"Status\"]"
   ]
  },
  {
   "cell_type": "code",
   "execution_count": 6,
   "metadata": {},
   "outputs": [],
   "source": [
    "from sklearn.model_selection import train_test_split\n",
    "x_train, x_test, y_train, y_test = train_test_split(\n",
    "    x.values, y, test_size=0.2)"
   ]
  },
  {
   "cell_type": "code",
   "execution_count": 31,
   "metadata": {},
   "outputs": [],
   "source": [
    "# model = Sequential()\n",
    "# model.add(Dense(32, input_shape=(4,), activation=\"relu\"))\n",
    "# model.add(Dense(32, activation=\"relu\"))\n",
    "# model.add(Dropout(0.5))\n",
    "# model.add(Dense(1, activation=\"softmax\"))\n",
    "# model.compile(\"adam\", \"binary_crossentropy\", metrics=[\"accuracy\"])\n",
    "\n",
    "inputs = tf.keras.Input(shape=(4,))\n",
    "x = Dense(32, activation=\"relu\")(inputs)\n",
    "x = Dense(32, activation=\"relu\")(inputs)\n",
    "x = Dropout(0.5)(x)\n",
    "outputs = Dense(1, activation=\"relu\")(x)\n",
    "model = tf.keras.Model(inputs=inputs, outputs=outputs)\n",
    "model.compile(\"adam\", \"binary_crossentropy\", metrics=[\"accuracy\"])\n"
   ]
  },
  {
   "cell_type": "code",
   "execution_count": 32,
   "metadata": {},
   "outputs": [
    {
     "name": "stdout",
     "output_type": "stream",
     "text": [
      "Model: \"model_9\"\n",
      "_________________________________________________________________\n",
      " Layer (type)                Output Shape              Param #   \n",
      "=================================================================\n",
      " input_9 (InputLayer)        [(None, 4)]               0         \n",
      "                                                                 \n",
      " dense_30 (Dense)            (None, 32)                160       \n",
      "                                                                 \n",
      " dropout_8 (Dropout)         (None, 32)                0         \n",
      "                                                                 \n",
      " dense_31 (Dense)            (None, 1)                 33        \n",
      "                                                                 \n",
      "=================================================================\n",
      "Total params: 193\n",
      "Trainable params: 193\n",
      "Non-trainable params: 0\n",
      "_________________________________________________________________\n",
      "Epoch 1/30\n",
      "800/800 [==============================] - 3s 2ms/step - loss: 1.9335 - accuracy: 0.6105\n",
      "Epoch 2/30\n",
      "800/800 [==============================] - 2s 3ms/step - loss: 1.0400 - accuracy: 0.6494\n",
      "Epoch 3/30\n",
      "800/800 [==============================] - 2s 3ms/step - loss: 0.7805 - accuracy: 0.6661\n",
      "Epoch 4/30\n",
      "800/800 [==============================] - 2s 2ms/step - loss: 0.6757 - accuracy: 0.6769\n",
      "Epoch 5/30\n",
      "800/800 [==============================] - 2s 2ms/step - loss: 0.6170 - accuracy: 0.6910\n",
      "Epoch 6/30\n",
      "800/800 [==============================] - 2s 3ms/step - loss: 0.5683 - accuracy: 0.7117\n",
      "Epoch 7/30\n",
      "800/800 [==============================] - 2s 3ms/step - loss: 0.5403 - accuracy: 0.7297\n",
      "Epoch 8/30\n",
      "800/800 [==============================] - 2s 3ms/step - loss: 0.5153 - accuracy: 0.7489\n",
      "Epoch 9/30\n",
      "800/800 [==============================] - 2s 3ms/step - loss: 0.5018 - accuracy: 0.7585\n",
      "Epoch 10/30\n",
      "800/800 [==============================] - 2s 3ms/step - loss: 0.4875 - accuracy: 0.7767\n",
      "Epoch 11/30\n",
      "800/800 [==============================] - 2s 3ms/step - loss: 0.4686 - accuracy: 0.7901\n",
      "Epoch 12/30\n",
      "800/800 [==============================] - 2s 2ms/step - loss: 0.4572 - accuracy: 0.8000\n",
      "Epoch 13/30\n",
      "800/800 [==============================] - 2s 2ms/step - loss: 0.4547 - accuracy: 0.8086\n",
      "Epoch 14/30\n",
      "800/800 [==============================] - 2s 2ms/step - loss: 0.4512 - accuracy: 0.8075\n",
      "Epoch 15/30\n",
      "800/800 [==============================] - 2s 2ms/step - loss: 0.4413 - accuracy: 0.8121\n",
      "Epoch 16/30\n",
      "800/800 [==============================] - 2s 3ms/step - loss: 0.4340 - accuracy: 0.8160\n",
      "Epoch 17/30\n",
      "800/800 [==============================] - 2s 2ms/step - loss: 0.4258 - accuracy: 0.8155\n",
      "Epoch 18/30\n",
      "800/800 [==============================] - 2s 2ms/step - loss: 0.4237 - accuracy: 0.8194\n",
      "Epoch 19/30\n",
      "800/800 [==============================] - 2s 2ms/step - loss: 0.4225 - accuracy: 0.8177\n",
      "Epoch 20/30\n",
      "800/800 [==============================] - 2s 2ms/step - loss: 0.4164 - accuracy: 0.8148\n",
      "Epoch 21/30\n",
      "800/800 [==============================] - 2s 2ms/step - loss: 0.4122 - accuracy: 0.8166\n",
      "Epoch 22/30\n",
      "800/800 [==============================] - 2s 2ms/step - loss: 0.4056 - accuracy: 0.8198\n",
      "Epoch 23/30\n",
      "800/800 [==============================] - 2s 2ms/step - loss: 0.3954 - accuracy: 0.8202\n",
      "Epoch 24/30\n",
      "800/800 [==============================] - 2s 2ms/step - loss: 0.3991 - accuracy: 0.8210\n",
      "Epoch 25/30\n",
      "800/800 [==============================] - 2s 2ms/step - loss: 0.3891 - accuracy: 0.8241\n",
      "Epoch 26/30\n",
      "800/800 [==============================] - 2s 2ms/step - loss: 0.3990 - accuracy: 0.8180\n",
      "Epoch 27/30\n",
      "800/800 [==============================] - 2s 3ms/step - loss: 0.3939 - accuracy: 0.8247\n",
      "Epoch 28/30\n",
      "800/800 [==============================] - 2s 3ms/step - loss: 0.3902 - accuracy: 0.8248\n",
      "Epoch 29/30\n",
      "800/800 [==============================] - 2s 2ms/step - loss: 0.3945 - accuracy: 0.8257\n",
      "Epoch 30/30\n",
      "800/800 [==============================] - 2s 2ms/step - loss: 0.3830 - accuracy: 0.8263\n"
     ]
    },
    {
     "data": {
      "text/plain": [
       "<keras.callbacks.History at 0x20e7c9f40d0>"
      ]
     },
     "execution_count": 32,
     "metadata": {},
     "output_type": "execute_result"
    }
   ],
   "source": [
    "model.summary()\n",
    "model.fit(x_train, y_train, epochs=30, batch_size=100)"
   ]
  }
 ],
 "metadata": {
  "kernelspec": {
   "display_name": "Python 3",
   "language": "python",
   "name": "python3"
  },
  "language_info": {
   "codemirror_mode": {
    "name": "ipython",
    "version": 3
   },
   "file_extension": ".py",
   "mimetype": "text/x-python",
   "name": "python",
   "nbconvert_exporter": "python",
   "pygments_lexer": "ipython3",
   "version": "3.10.4"
  },
  "vscode": {
   "interpreter": {
    "hash": "fbc768028c3e6ead51d9a200ddcb2ec858ae62844dcd1994729a8279be9b48f2"
   }
  }
 },
 "nbformat": 4,
 "nbformat_minor": 4
}
