{
 "cells": [
  {
   "cell_type": "code",
   "execution_count": 16,
   "metadata": {},
   "outputs": [],
   "source": [
    "import tensorflow as tf\n",
    "import numpy as np\n",
    "import pandas as pd\n",
    "from tensorflow import keras\n",
    "from tensorflow.keras import layers"
   ]
  },
  {
   "cell_type": "code",
   "execution_count": 17,
   "metadata": {},
   "outputs": [],
   "source": [
    "dataframe = pd.read_csv('rice.csv')"
   ]
  },
  {
   "cell_type": "code",
   "execution_count": 18,
   "metadata": {},
   "outputs": [
    {
     "data": {
      "text/plain": [
       "(100000, 5)"
      ]
     },
     "execution_count": 18,
     "metadata": {},
     "output_type": "execute_result"
    }
   ],
   "source": [
    "dataframe.shape"
   ]
  },
  {
   "cell_type": "code",
   "execution_count": 19,
   "metadata": {
    "scrolled": true
   },
   "outputs": [
    {
     "data": {
      "text/html": [
       "<div>\n",
       "<style scoped>\n",
       "    .dataframe tbody tr th:only-of-type {\n",
       "        vertical-align: middle;\n",
       "    }\n",
       "\n",
       "    .dataframe tbody tr th {\n",
       "        vertical-align: top;\n",
       "    }\n",
       "\n",
       "    .dataframe thead th {\n",
       "        text-align: right;\n",
       "    }\n",
       "</style>\n",
       "<table border=\"1\" class=\"dataframe\">\n",
       "  <thead>\n",
       "    <tr style=\"text-align: right;\">\n",
       "      <th></th>\n",
       "      <th>Soil_Moisture</th>\n",
       "      <th>Temperature</th>\n",
       "      <th>Humidity</th>\n",
       "      <th>Time</th>\n",
       "      <th>Status</th>\n",
       "    </tr>\n",
       "  </thead>\n",
       "  <tbody>\n",
       "    <tr>\n",
       "      <th>0</th>\n",
       "      <td>54</td>\n",
       "      <td>22</td>\n",
       "      <td>70</td>\n",
       "      <td>21</td>\n",
       "      <td>1</td>\n",
       "    </tr>\n",
       "    <tr>\n",
       "      <th>1</th>\n",
       "      <td>12</td>\n",
       "      <td>20</td>\n",
       "      <td>40</td>\n",
       "      <td>104</td>\n",
       "      <td>0</td>\n",
       "    </tr>\n",
       "    <tr>\n",
       "      <th>2</th>\n",
       "      <td>34</td>\n",
       "      <td>26</td>\n",
       "      <td>35</td>\n",
       "      <td>62</td>\n",
       "      <td>1</td>\n",
       "    </tr>\n",
       "    <tr>\n",
       "      <th>3</th>\n",
       "      <td>7</td>\n",
       "      <td>44</td>\n",
       "      <td>44</td>\n",
       "      <td>93</td>\n",
       "      <td>0</td>\n",
       "    </tr>\n",
       "    <tr>\n",
       "      <th>4</th>\n",
       "      <td>50</td>\n",
       "      <td>38</td>\n",
       "      <td>23</td>\n",
       "      <td>92</td>\n",
       "      <td>0</td>\n",
       "    </tr>\n",
       "  </tbody>\n",
       "</table>\n",
       "</div>"
      ],
      "text/plain": [
       "   Soil_Moisture  Temperature  Humidity  Time  Status\n",
       "0             54           22        70    21       1\n",
       "1             12           20        40   104       0\n",
       "2             34           26        35    62       1\n",
       "3              7           44        44    93       0\n",
       "4             50           38        23    92       0"
      ]
     },
     "execution_count": 19,
     "metadata": {},
     "output_type": "execute_result"
    }
   ],
   "source": [
    "dataframe.head()"
   ]
  },
  {
   "cell_type": "code",
   "execution_count": 20,
   "metadata": {},
   "outputs": [
    {
     "name": "stdout",
     "output_type": "stream",
     "text": [
      "Using 80000 samples for training and 20000 for validation\n"
     ]
    }
   ],
   "source": [
    "val_dataframe = dataframe.sample(frac=0.2, random_state=1337)\n",
    "train_dataframe = dataframe.drop(val_dataframe.index)\n",
    "\n",
    "print(\n",
    "    \"Using %d samples for training and %d for validation\"\n",
    "    % (len(train_dataframe), len(val_dataframe))\n",
    ")"
   ]
  },
  {
   "cell_type": "code",
   "execution_count": 21,
   "metadata": {},
   "outputs": [],
   "source": [
    "def dataframe_to_dataset(dataframe):\n",
    "    dataframe = dataframe.copy()\n",
    "    labels = dataframe.pop(\"Status\")\n",
    "    ds = tf.data.Dataset.from_tensor_slices((dict(dataframe), labels))\n",
    "    ds = ds.shuffle(buffer_size=len(dataframe))\n",
    "    return ds\n",
    "\n",
    "\n",
    "train_ds = dataframe_to_dataset(train_dataframe)\n",
    "val_ds = dataframe_to_dataset(val_dataframe)"
   ]
  },
  {
   "cell_type": "code",
   "execution_count": 22,
   "metadata": {},
   "outputs": [
    {
     "name": "stdout",
     "output_type": "stream",
     "text": [
      "Input: {'Soil_Moisture': <tf.Tensor: shape=(), dtype=int64, numpy=13>, 'Temperature': <tf.Tensor: shape=(), dtype=int64, numpy=8>, 'Humidity': <tf.Tensor: shape=(), dtype=int64, numpy=41>, 'Time': <tf.Tensor: shape=(), dtype=int64, numpy=89>}\n",
      "Target: tf.Tensor(1, shape=(), dtype=int64)\n"
     ]
    }
   ],
   "source": [
    "for x, y in train_ds.take(1):\n",
    "    print(\"Input:\", x)\n",
    "    print(\"Target:\", y)"
   ]
  },
  {
   "cell_type": "code",
   "execution_count": 23,
   "metadata": {},
   "outputs": [],
   "source": [
    "train_ds = train_ds.batch(100)\n",
    "val_ds = val_ds.batch(100)"
   ]
  },
  {
   "cell_type": "code",
   "execution_count": 24,
   "metadata": {},
   "outputs": [],
   "source": [
    "def encode_numerical_feature(feature, name, dataset):\n",
    "    # Create a Normalization layer for our feature\n",
    "    normalizer = layers.Normalization()\n",
    "\n",
    "    # Prepare a Dataset that only yields our feature\n",
    "    feature_ds = dataset.map(lambda x, y: x[name])\n",
    "    feature_ds = feature_ds.map(lambda x: tf.expand_dims(x, -1))\n",
    "\n",
    "    # Learn the statistics of the data\n",
    "    normalizer.adapt(feature_ds)\n",
    "\n",
    "    # Normalize the input feature\n",
    "    encoded_feature = normalizer(feature)\n",
    "    return encoded_feature\n",
    "\n",
    "\n",
    "def encode_categorical_feature(feature, name, dataset, is_string):\n",
    "    lookup_class = layers.StringLookup if is_string else layers.IntegerLookup\n",
    "    # Create a lookup layer which will turn strings into integer indices\n",
    "    lookup = lookup_class(output_mode=\"binary\")\n",
    "\n",
    "    # Prepare a Dataset that only yields our feature\n",
    "    feature_ds = dataset.map(lambda x, y: x[name])\n",
    "    feature_ds = feature_ds.map(lambda x: tf.expand_dims(x, -1))\n",
    "\n",
    "    # Learn the set of possible string values and assign them a fixed integer index\n",
    "    lookup.adapt(feature_ds)\n",
    "\n",
    "    # Turn the string input into integer indices\n",
    "    encoded_feature = lookup(feature)\n",
    "    return encoded_feature"
   ]
  },
  {
   "cell_type": "code",
   "execution_count": 25,
   "metadata": {},
   "outputs": [],
   "source": [
    "Soil_Moisture = keras.Input(shape=(1,),name=\"Soil_Moisture\")\n",
    "Temperature = keras.Input(shape=(1,),name=\"Temperature\")\n",
    "Humidity = keras.Input(shape=(1,),name=\"Humidity\")\n",
    "Time = keras.Input(shape=(1,),name=\"Time\")\n",
    "\n",
    "all_inputs = [\n",
    "   Soil_Moisture,\n",
    "   Temperature,\n",
    "   Humidity,\n",
    "   Time\n",
    "]\n",
    "\n",
    "Soil_Moisture_encoded = encode_numerical_feature(\n",
    "    Soil_Moisture, \"Soil_Moisture\", train_ds)\n",
    "Temperature_encoded = encode_numerical_feature(\n",
    "    Temperature, \"Temperature\", train_ds)\n",
    "Humidity_encoded = encode_numerical_feature(\n",
    "    Humidity, \"Humidity\", train_ds)\n",
    "Time_encoded = encode_numerical_feature(\n",
    "    Time, \"Time\", train_ds)\n",
    "\n",
    "all_features = layers.concatenate(\n",
    "    [\n",
    "        Soil_Moisture_encoded,\n",
    "        Temperature_encoded,\n",
    "        Humidity_encoded,\n",
    "        Time_encoded,\n",
    "    ]\n",
    ")\n",
    "x = layers.Dense(32, activation=\"relu\")(all_features)\n",
    "x = layers.Dense(32, activation=\"relu\")(all_features)\n",
    "x = layers.Dropout(0.5)(x)\n",
    "output = layers.Dense(1, activation=\"relu\")(x)\n",
    "model = keras.Model(all_inputs, output)\n",
    "model.compile(\"adam\", \"binary_crossentropy\", metrics=[\"accuracy\"])"
   ]
  },
  {
   "cell_type": "code",
   "execution_count": 26,
   "metadata": {},
   "outputs": [
    {
     "data": {
      "image/png": "[encoded data removed]",
      "text/plain": [
       "<IPython.core.display.Image object>"
      ]
     },
     "execution_count": 26,
     "metadata": {},
     "output_type": "execute_result"
    }
   ],
   "source": [
    "# `rankdir='LR'` is to make the graph horizontal.\n",
    "keras.utils.plot_model(model, show_shapes=True, rankdir=\"LR\")"
   ]
  },
  {
   "cell_type": "code",
   "execution_count": 27,
   "metadata": {},
   "outputs": [
    {
     "name": "stdout",
     "output_type": "stream",
     "text": [
      "Epoch 1/30\n",
      "800/800 [==============================] - 5s 5ms/step - loss: 2.2685 - accuracy: 0.6108 - val_loss: 0.7985 - val_accuracy: 0.7170\n",
      "Epoch 2/30\n",
      "800/800 [==============================] - 3s 4ms/step - loss: 1.1392 - accuracy: 0.6612 - val_loss: 0.6173 - val_accuracy: 0.7244\n",
      "Epoch 3/30\n",
      "800/800 [==============================] - 4s 4ms/step - loss: 0.8236 - accuracy: 0.6766 - val_loss: 0.5999 - val_accuracy: 0.7128\n",
      "Epoch 4/30\n",
      "800/800 [==============================] - 4s 4ms/step - loss: 0.6786 - accuracy: 0.6787 - val_loss: 0.5440 - val_accuracy: 0.7157\n",
      "Epoch 5/30\n",
      "800/800 [==============================] - 3s 4ms/step - loss: 0.6255 - accuracy: 0.6967 - val_loss: 0.5171 - val_accuracy: 0.7271\n",
      "Epoch 6/30\n",
      "800/800 [==============================] - 4s 4ms/step - loss: 0.5856 - accuracy: 0.7076 - val_loss: 0.4972 - val_accuracy: 0.7359\n",
      "Epoch 7/30\n",
      "800/800 [==============================] - 4s 4ms/step - loss: 0.5533 - accuracy: 0.7255 - val_loss: 0.4805 - val_accuracy: 0.7558\n",
      "Epoch 8/30\n",
      "800/800 [==============================] - 4s 4ms/step - loss: 0.5298 - accuracy: 0.7479 - val_loss: 0.4538 - val_accuracy: 0.7810\n",
      "Epoch 9/30\n",
      "800/800 [==============================] - 4s 5ms/step - loss: 0.5022 - accuracy: 0.7467 - val_loss: 0.4279 - val_accuracy: 0.7883\n",
      "Epoch 10/30\n",
      "800/800 [==============================] - 4s 5ms/step - loss: 0.4811 - accuracy: 0.7691 - val_loss: 0.4159 - val_accuracy: 0.8039\n",
      "Epoch 11/30\n",
      "800/800 [==============================] - 4s 4ms/step - loss: 0.4604 - accuracy: 0.7865 - val_loss: 0.3994 - val_accuracy: 0.8221\n",
      "Epoch 12/30\n",
      "800/800 [==============================] - 4s 4ms/step - loss: 0.4429 - accuracy: 0.7939 - val_loss: 0.3832 - val_accuracy: 0.8292\n",
      "Epoch 13/30\n",
      "800/800 [==============================] - 4s 4ms/step - loss: 0.4345 - accuracy: 0.8078 - val_loss: 0.3887 - val_accuracy: 0.8286\n",
      "Epoch 14/30\n",
      "800/800 [==============================] - 4s 4ms/step - loss: 0.4298 - accuracy: 0.8048 - val_loss: 0.3715 - val_accuracy: 0.8346\n",
      "Epoch 15/30\n",
      "800/800 [==============================] - 4s 4ms/step - loss: 0.4168 - accuracy: 0.8174 - val_loss: 0.3657 - val_accuracy: 0.8323\n",
      "Epoch 16/30\n",
      "800/800 [==============================] - 4s 4ms/step - loss: 0.4134 - accuracy: 0.8212 - val_loss: 0.3666 - val_accuracy: 0.8339\n",
      "Epoch 17/30\n",
      "800/800 [==============================] - 4s 4ms/step - loss: 0.4098 - accuracy: 0.8225 - val_loss: 0.3507 - val_accuracy: 0.8367\n",
      "Epoch 18/30\n",
      "800/800 [==============================] - 4s 4ms/step - loss: 0.4175 - accuracy: 0.8235 - val_loss: 0.3586 - val_accuracy: 0.8393\n",
      "Epoch 19/30\n",
      "800/800 [==============================] - 4s 4ms/step - loss: 0.4113 - accuracy: 0.8226 - val_loss: 0.3744 - val_accuracy: 0.8314\n",
      "Epoch 20/30\n",
      "800/800 [==============================] - 4s 4ms/step - loss: 0.4083 - accuracy: 0.8129 - val_loss: 0.3478 - val_accuracy: 0.8442\n",
      "Epoch 21/30\n",
      "800/800 [==============================] - 4s 4ms/step - loss: 0.4000 - accuracy: 0.8143 - val_loss: 0.3519 - val_accuracy: 0.8422\n",
      "Epoch 22/30\n",
      "800/800 [==============================] - 4s 4ms/step - loss: 0.3934 - accuracy: 0.8179 - val_loss: 0.3474 - val_accuracy: 0.8429\n",
      "Epoch 23/30\n",
      "800/800 [==============================] - 4s 4ms/step - loss: 0.3839 - accuracy: 0.8200 - val_loss: 0.3478 - val_accuracy: 0.8431\n",
      "Epoch 24/30\n",
      "800/800 [==============================] - 4s 4ms/step - loss: 0.3888 - accuracy: 0.8220 - val_loss: 0.3411 - val_accuracy: 0.8443\n",
      "Epoch 25/30\n",
      "800/800 [==============================] - 4s 5ms/step - loss: 0.3995 - accuracy: 0.8189 - val_loss: 0.3473 - val_accuracy: 0.8406\n",
      "Epoch 26/30\n",
      "800/800 [==============================] - 5s 6ms/step - loss: 0.3823 - accuracy: 0.8229 - val_loss: 0.3354 - val_accuracy: 0.8451\n",
      "Epoch 27/30\n",
      "800/800 [==============================] - 4s 5ms/step - loss: 0.3816 - accuracy: 0.8247 - val_loss: 0.3334 - val_accuracy: 0.8433\n",
      "Epoch 28/30\n",
      "800/800 [==============================] - 4s 5ms/step - loss: 0.3840 - accuracy: 0.8264 - val_loss: 0.3296 - val_accuracy: 0.8454\n",
      "Epoch 29/30\n",
      "800/800 [==============================] - 4s 4ms/step - loss: 0.3839 - accuracy: 0.8260 - val_loss: 0.3354 - val_accuracy: 0.8429\n",
      "Epoch 30/30\n",
      "800/800 [==============================] - 4s 4ms/step - loss: 0.3949 - accuracy: 0.8186 - val_loss: 0.3478 - val_accuracy: 0.8458\n"
     ]
    },
    {
     "data": {
      "text/plain": [
       "<keras.callbacks.History at 0x1d085281090>"
      ]
     },
     "execution_count": 27,
     "metadata": {},
     "output_type": "execute_result"
    }
   ],
   "source": [
    "model.fit(train_ds, epochs=30, batch_size=5, validation_data=val_ds)\n"
   ]
  },
  {
   "cell_type": "code",
   "execution_count": 32,
   "metadata": {},
   "outputs": [
    {
     "name": "stdout",
     "output_type": "stream",
     "text": [
      "Tanaman ini 0.0 percent perlu disiram \n"
     ]
    }
   ],
   "source": [
    "sample = {\n",
    "    \"Soil_Moisture\": 100,\n",
    "    \"Temperature\": 26,\n",
    "    \"Humidity\": 89,\n",
    "    \"Time\": 30\n",
    "}\n",
    "\n",
    "input_dict = {name: tf.convert_to_tensor(\n",
    "    [value]) for name, value in sample.items()}\n",
    "predictions = model.predict(input_dict)\n",
    "\n",
    "print(\n",
    "    \"Tanaman ini %.1f percent perlu disiram \" % (\n",
    "        100 * predictions[0][0],)\n",
    ")\n"
   ]
  },
  {
   "cell_type": "code",
   "execution_count": 29,
   "metadata": {},
   "outputs": [],
   "source": [
    "model.save('model.h5')"
   ]
  }
 ],
 "metadata": {
  "interpreter": {
   "hash": "fbc768028c3e6ead51d9a200ddcb2ec858ae62844dcd1994729a8279be9b48f2"
  },
  "kernelspec": {
   "display_name": "Python 3",
   "language": "python",
   "name": "python3"
  },
  "language_info": {
   "codemirror_mode": {
    "name": "ipython",
    "version": 3
   },
   "file_extension": ".py",
   "mimetype": "text/x-python",
   "name": "python",
   "nbconvert_exporter": "python",
   "pygments_lexer": "ipython3",
   "version": "3.10.4"
  }
 },
 "nbformat": 4,
 "nbformat_minor": 4
}
